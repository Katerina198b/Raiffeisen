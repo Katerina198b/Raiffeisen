{
 "cells": [
  {
   "cell_type": "code",
   "execution_count": 3,
   "metadata": {
    "scrolled": true
   },
   "outputs": [
    {
     "data": {
      "application/vnd.jupyter.widget-view+json": {
       "model_id": "adbac2dba930444bb01c1e191c0f1dd6",
       "version_major": 2,
       "version_minor": 0
      },
      "text/plain": [
       "A Jupyter Widget"
      ]
     },
     "metadata": {},
     "output_type": "display_data"
    },
    {
     "name": "stdout",
     "output_type": "stream",
     "text": [
      "\n"
     ]
    }
   ],
   "source": [
    "import pandas as pd\n",
    "import datetime as dt\n",
    "import numpy as np\n",
    "from tqdm import tqdm_notebook\n",
    "import collections\n",
    "tqdm_notebook().pandas()\n",
    "from utils import *\n",
    "from sklearn.cluster import KMeans\n",
    "from sklearn.model_selection import GroupKFold, GroupShuffleSplit\n",
    "import lightgbm as lgb"
   ]
  },
  {
   "cell_type": "markdown",
   "metadata": {},
   "source": [
    "## Считываем и подготавливаем данные"
   ]
  },
  {
   "cell_type": "code",
   "execution_count": 5,
   "metadata": {},
   "outputs": [
    {
     "name": "stderr",
     "output_type": "stream",
     "text": [
      "/Users/katerina198b/anaconda3/lib/python3.6/site-packages/IPython/core/interactiveshell.py:2698: DtypeWarning: Columns (1,11) have mixed types. Specify dtype option on import or set low_memory=False.\n",
      "  interactivity=interactivity, compiler=compiler, result=result)\n",
      "/Users/katerina198b/anaconda3/lib/python3.6/site-packages/IPython/core/interactiveshell.py:2698: DtypeWarning: Columns (1,8,9) have mixed types. Specify dtype option on import or set low_memory=False.\n",
      "  interactivity=interactivity, compiler=compiler, result=result)\n"
     ]
    }
   ],
   "source": [
    "train_data = pd.read_csv(\"train_set.csv\").rename(columns={\"pos_adress_lat\": \"pos_address_lat\",\n",
    "                                                                                \"pos_adress_lon\": \"pos_address_lon\"})\n",
    "test_data = pd.read_csv(\"test_set.csv\")"
   ]
  },
  {
   "cell_type": "code",
   "execution_count": 39,
   "metadata": {},
   "outputs": [
    {
     "name": "stderr",
     "output_type": "stream",
     "text": [
      "/Users/katerina198b/anaconda3/lib/python3.6/site-packages/IPython/core/interactiveshell.py:2698: DtypeWarning: Columns (1,11) have mixed types. Specify dtype option on import or set low_memory=False.\n",
      "  interactivity=interactivity, compiler=compiler, result=result)\n"
     ]
    },
    {
     "ename": "AttributeError",
     "evalue": "'DataFrame' object has no attribute 'cols'",
     "output_type": "error",
     "traceback": [
      "\u001b[0;31m---------------------------------------------------------------------------\u001b[0m",
      "\u001b[0;31mAttributeError\u001b[0m                            Traceback (most recent call last)",
      "\u001b[0;32m<ipython-input-39-bdefefce9068>\u001b[0m in \u001b[0;36m<module>\u001b[0;34m()\u001b[0m\n\u001b[1;32m      1\u001b[0m \u001b[0ml1\u001b[0m \u001b[0;34m=\u001b[0m \u001b[0mpd\u001b[0m\u001b[0;34m.\u001b[0m\u001b[0mread_csv\u001b[0m\u001b[0;34m(\u001b[0m\u001b[0;34m\"train_set.csv\"\u001b[0m\u001b[0;34m)\u001b[0m\u001b[0;34m\u001b[0m\u001b[0m\n\u001b[0;32m----> 2\u001b[0;31m \u001b[0ml1\u001b[0m\u001b[0;34m.\u001b[0m\u001b[0mhead\u001b[0m\u001b[0;34m(\u001b[0m\u001b[0;34m)\u001b[0m\u001b[0;34m.\u001b[0m\u001b[0mcols\u001b[0m\u001b[0;34m(\u001b[0m\u001b[0;34m)\u001b[0m\u001b[0;34m\u001b[0m\u001b[0m\n\u001b[0m",
      "\u001b[0;32m~/anaconda3/lib/python3.6/site-packages/pandas/core/generic.py\u001b[0m in \u001b[0;36m__getattr__\u001b[0;34m(self, name)\u001b[0m\n\u001b[1;32m   3079\u001b[0m             \u001b[0;32mif\u001b[0m \u001b[0mname\u001b[0m \u001b[0;32min\u001b[0m \u001b[0mself\u001b[0m\u001b[0;34m.\u001b[0m\u001b[0m_info_axis\u001b[0m\u001b[0;34m:\u001b[0m\u001b[0;34m\u001b[0m\u001b[0m\n\u001b[1;32m   3080\u001b[0m                 \u001b[0;32mreturn\u001b[0m \u001b[0mself\u001b[0m\u001b[0;34m[\u001b[0m\u001b[0mname\u001b[0m\u001b[0;34m]\u001b[0m\u001b[0;34m\u001b[0m\u001b[0m\n\u001b[0;32m-> 3081\u001b[0;31m             \u001b[0;32mreturn\u001b[0m \u001b[0mobject\u001b[0m\u001b[0;34m.\u001b[0m\u001b[0m__getattribute__\u001b[0m\u001b[0;34m(\u001b[0m\u001b[0mself\u001b[0m\u001b[0;34m,\u001b[0m \u001b[0mname\u001b[0m\u001b[0;34m)\u001b[0m\u001b[0;34m\u001b[0m\u001b[0m\n\u001b[0m\u001b[1;32m   3082\u001b[0m \u001b[0;34m\u001b[0m\u001b[0m\n\u001b[1;32m   3083\u001b[0m     \u001b[0;32mdef\u001b[0m \u001b[0m__setattr__\u001b[0m\u001b[0;34m(\u001b[0m\u001b[0mself\u001b[0m\u001b[0;34m,\u001b[0m \u001b[0mname\u001b[0m\u001b[0;34m,\u001b[0m \u001b[0mvalue\u001b[0m\u001b[0;34m)\u001b[0m\u001b[0;34m:\u001b[0m\u001b[0;34m\u001b[0m\u001b[0m\n",
      "\u001b[0;31mAttributeError\u001b[0m: 'DataFrame' object has no attribute 'cols'"
     ]
    }
   ],
   "source": [
    "l1 = pd.read_csv(\"train_set.csv\")\n",
    "l1.head()"
   ]
  },
  {
   "cell_type": "code",
   "execution_count": 42,
   "metadata": {},
   "outputs": [
    {
     "data": {
      "text/plain": [
       "Index(['amount', 'atm_address', 'atm_address_lat', 'atm_address_lon', 'city',\n",
       "       'country', 'currency', 'customer_id', 'home_add_lat', 'home_add_lon',\n",
       "       'mcc', 'pos_address', 'pos_adress_lat', 'pos_adress_lon', 'terminal_id',\n",
       "       'transaction_date', 'work_add_lat', 'work_add_lon'],\n",
       "      dtype='object')"
      ]
     },
     "execution_count": 42,
     "metadata": {},
     "output_type": "execute_result"
    }
   ],
   "source": [
    "l1.columns"
   ]
  },
  {
   "cell_type": "code",
   "execution_count": 43,
   "metadata": {},
   "outputs": [
    {
     "data": {
      "text/html": [
       "<div>\n",
       "<style>\n",
       "    .dataframe thead tr:only-child th {\n",
       "        text-align: right;\n",
       "    }\n",
       "\n",
       "    .dataframe thead th {\n",
       "        text-align: left;\n",
       "    }\n",
       "\n",
       "    .dataframe tbody tr th {\n",
       "        vertical-align: top;\n",
       "    }\n",
       "</style>\n",
       "<table border=\"1\" class=\"dataframe\">\n",
       "  <thead>\n",
       "    <tr style=\"text-align: right;\">\n",
       "      <th></th>\n",
       "      <th>amount</th>\n",
       "      <th>atm_address</th>\n",
       "      <th>atm_address_lat</th>\n",
       "      <th>atm_address_lon</th>\n",
       "      <th>city</th>\n",
       "      <th>country</th>\n",
       "      <th>currency</th>\n",
       "      <th>customer_id</th>\n",
       "      <th>home_add_lat</th>\n",
       "      <th>home_add_lon</th>\n",
       "      <th>mcc</th>\n",
       "      <th>pos_address</th>\n",
       "      <th>pos_adress_lat</th>\n",
       "      <th>pos_adress_lon</th>\n",
       "      <th>terminal_id</th>\n",
       "      <th>transaction_date</th>\n",
       "      <th>work_add_lat</th>\n",
       "      <th>work_add_lon</th>\n",
       "    </tr>\n",
       "  </thead>\n",
       "  <tbody>\n",
       "    <tr>\n",
       "      <th>0</th>\n",
       "      <td>2.884034</td>\n",
       "      <td>NaN</td>\n",
       "      <td>NaN</td>\n",
       "      <td>NaN</td>\n",
       "      <td>ST PETERSBURG</td>\n",
       "      <td>RUS</td>\n",
       "      <td>643.0</td>\n",
       "      <td>0dc0137d280a2a82d2dc89282450ff1b</td>\n",
       "      <td>59.851</td>\n",
       "      <td>30.232</td>\n",
       "      <td>5261</td>\n",
       "      <td>NaN</td>\n",
       "      <td>59.844072</td>\n",
       "      <td>30.179153</td>\n",
       "      <td>11606fde0c814ce78e0d726e39a0a5ee</td>\n",
       "      <td>2017-07-15</td>\n",
       "      <td>59.847</td>\n",
       "      <td>30.177</td>\n",
       "    </tr>\n",
       "    <tr>\n",
       "      <th>1</th>\n",
       "      <td>2.775633</td>\n",
       "      <td>NaN</td>\n",
       "      <td>NaN</td>\n",
       "      <td>NaN</td>\n",
       "      <td>ST PETERSBURG</td>\n",
       "      <td>RUS</td>\n",
       "      <td>643.0</td>\n",
       "      <td>0dc0137d280a2a82d2dc89282450ff1b</td>\n",
       "      <td>59.851</td>\n",
       "      <td>30.232</td>\n",
       "      <td>5261</td>\n",
       "      <td>NaN</td>\n",
       "      <td>59.844072</td>\n",
       "      <td>30.179153</td>\n",
       "      <td>e9647a5e1eacfb06713b6af755ccc595</td>\n",
       "      <td>2017-10-27</td>\n",
       "      <td>59.847</td>\n",
       "      <td>30.177</td>\n",
       "    </tr>\n",
       "    <tr>\n",
       "      <th>2</th>\n",
       "      <td>3.708368</td>\n",
       "      <td>NaN</td>\n",
       "      <td>NaN</td>\n",
       "      <td>NaN</td>\n",
       "      <td>St Petersburg</td>\n",
       "      <td>RUS</td>\n",
       "      <td>643.0</td>\n",
       "      <td>0dc0137d280a2a82d2dc89282450ff1b</td>\n",
       "      <td>59.851</td>\n",
       "      <td>30.232</td>\n",
       "      <td>5992</td>\n",
       "      <td>PR.MARSHALA ZHUKOVA,31St Petersburg190000    7...</td>\n",
       "      <td>59.858198</td>\n",
       "      <td>30.229024</td>\n",
       "      <td>df06c1fcd3718a514535ae822785f716</td>\n",
       "      <td>2017-10-03</td>\n",
       "      <td>59.847</td>\n",
       "      <td>30.177</td>\n",
       "    </tr>\n",
       "    <tr>\n",
       "      <th>3</th>\n",
       "      <td>2.787498</td>\n",
       "      <td>NaN</td>\n",
       "      <td>NaN</td>\n",
       "      <td>NaN</td>\n",
       "      <td>ST PETERSBURG</td>\n",
       "      <td>RUS</td>\n",
       "      <td>643.0</td>\n",
       "      <td>0dc0137d280a2a82d2dc89282450ff1b</td>\n",
       "      <td>59.851</td>\n",
       "      <td>30.232</td>\n",
       "      <td>5261</td>\n",
       "      <td>NaN</td>\n",
       "      <td>59.844072</td>\n",
       "      <td>30.179153</td>\n",
       "      <td>6c5e5793ebc984fb72875feffff62854</td>\n",
       "      <td>2017-09-09</td>\n",
       "      <td>59.847</td>\n",
       "      <td>30.177</td>\n",
       "    </tr>\n",
       "    <tr>\n",
       "      <th>4</th>\n",
       "      <td>2.892510</td>\n",
       "      <td>NaN</td>\n",
       "      <td>NaN</td>\n",
       "      <td>NaN</td>\n",
       "      <td>ST PETERSBURG</td>\n",
       "      <td>RUS</td>\n",
       "      <td>643.0</td>\n",
       "      <td>0dc0137d280a2a82d2dc89282450ff1b</td>\n",
       "      <td>59.851</td>\n",
       "      <td>30.232</td>\n",
       "      <td>5261</td>\n",
       "      <td>NaN</td>\n",
       "      <td>59.844072</td>\n",
       "      <td>30.179153</td>\n",
       "      <td>0576445d74e374c92c0902e612fca356</td>\n",
       "      <td>2017-07-06</td>\n",
       "      <td>59.847</td>\n",
       "      <td>30.177</td>\n",
       "    </tr>\n",
       "  </tbody>\n",
       "</table>\n",
       "</div>"
      ],
      "text/plain": [
       "     amount atm_address  atm_address_lat  atm_address_lon           city  \\\n",
       "0  2.884034         NaN              NaN              NaN  ST PETERSBURG   \n",
       "1  2.775633         NaN              NaN              NaN  ST PETERSBURG   \n",
       "2  3.708368         NaN              NaN              NaN  St Petersburg   \n",
       "3  2.787498         NaN              NaN              NaN  ST PETERSBURG   \n",
       "4  2.892510         NaN              NaN              NaN  ST PETERSBURG   \n",
       "\n",
       "  country  currency                       customer_id  home_add_lat  \\\n",
       "0     RUS     643.0  0dc0137d280a2a82d2dc89282450ff1b        59.851   \n",
       "1     RUS     643.0  0dc0137d280a2a82d2dc89282450ff1b        59.851   \n",
       "2     RUS     643.0  0dc0137d280a2a82d2dc89282450ff1b        59.851   \n",
       "3     RUS     643.0  0dc0137d280a2a82d2dc89282450ff1b        59.851   \n",
       "4     RUS     643.0  0dc0137d280a2a82d2dc89282450ff1b        59.851   \n",
       "\n",
       "   home_add_lon   mcc                                        pos_address  \\\n",
       "0        30.232  5261                                                NaN   \n",
       "1        30.232  5261                                                NaN   \n",
       "2        30.232  5992  PR.MARSHALA ZHUKOVA,31St Petersburg190000    7...   \n",
       "3        30.232  5261                                                NaN   \n",
       "4        30.232  5261                                                NaN   \n",
       "\n",
       "   pos_adress_lat  pos_adress_lon                       terminal_id  \\\n",
       "0       59.844072       30.179153  11606fde0c814ce78e0d726e39a0a5ee   \n",
       "1       59.844072       30.179153  e9647a5e1eacfb06713b6af755ccc595   \n",
       "2       59.858198       30.229024  df06c1fcd3718a514535ae822785f716   \n",
       "3       59.844072       30.179153  6c5e5793ebc984fb72875feffff62854   \n",
       "4       59.844072       30.179153  0576445d74e374c92c0902e612fca356   \n",
       "\n",
       "  transaction_date  work_add_lat  work_add_lon  \n",
       "0       2017-07-15        59.847        30.177  \n",
       "1       2017-10-27        59.847        30.177  \n",
       "2       2017-10-03        59.847        30.177  \n",
       "3       2017-09-09        59.847        30.177  \n",
       "4       2017-07-06        59.847        30.177  "
      ]
     },
     "execution_count": 43,
     "metadata": {},
     "output_type": "execute_result"
    }
   ],
   "source": [
    "l1.head()"
   ]
  },
  {
   "cell_type": "code",
   "execution_count": 6,
   "metadata": {},
   "outputs": [
    {
     "name": "stderr",
     "output_type": "stream",
     "text": [
      "/Users/katerina198b/anaconda3/lib/python3.6/site-packages/pandas/core/generic.py:3110: SettingWithCopyWarning: \n",
      "A value is trying to be set on a copy of a slice from a DataFrame.\n",
      "Try using .loc[row_indexer,col_indexer] = value instead\n",
      "\n",
      "See the caveats in the documentation: http://pandas.pydata.org/pandas-docs/stable/indexing.html#indexing-view-versus-copy\n",
      "  self[name] = value\n"
     ]
    }
   ],
   "source": [
    "train = preprocess(train_data)"
   ]
  },
  {
   "cell_type": "code",
   "execution_count": 7,
   "metadata": {
    "collapsed": true
   },
   "outputs": [],
   "source": [
    "train.pos_address_lat.fillna(train.atm_address_lat,inplace=True)\n",
    "train.pos_address_lon.fillna(train.atm_address_lon,inplace=True)"
   ]
  },
  {
   "cell_type": "code",
   "execution_count": 8,
   "metadata": {
    "collapsed": true
   },
   "outputs": [],
   "source": [
    "train.drop(['atm_address_lat', 'atm_address_lon', 'atm_address', 'atm_address_lat_upd', 'atm_address_lon_upd', 'terminal_id_upd'], axis=1, inplace=True)"
   ]
  },
  {
   "cell_type": "code",
   "execution_count": 9,
   "metadata": {},
   "outputs": [
    {
     "data": {
      "text/plain": [
       "((1224734, 18), (1125751, 15))"
      ]
     },
     "execution_count": 9,
     "metadata": {},
     "output_type": "execute_result"
    }
   ],
   "source": [
    "train_data.shape, train.shape"
   ]
  },
  {
   "cell_type": "markdown",
   "metadata": {},
   "source": [
    "## Добавляем день недели"
   ]
  },
  {
   "cell_type": "code",
   "execution_count": 10,
   "metadata": {},
   "outputs": [
    {
     "data": {
      "application/vnd.jupyter.widget-view+json": {
       "model_id": "236113a1c59e40ce825ede777627ce4a",
       "version_major": 2,
       "version_minor": 0
      },
      "text/plain": [
       "A Jupyter Widget"
      ]
     },
     "metadata": {},
     "output_type": "display_data"
    },
    {
     "name": "stdout",
     "output_type": "stream",
     "text": [
      "\n"
     ]
    }
   ],
   "source": [
    "train.transaction_date = train.transaction_date.progress_apply(lambda x: parse(x))"
   ]
  },
  {
   "cell_type": "code",
   "execution_count": 11,
   "metadata": {
    "collapsed": true
   },
   "outputs": [],
   "source": [
    "train[\"week_day\"] = train.transaction_date.apply(lambda x: x.weekday())"
   ]
  },
  {
   "cell_type": "markdown",
   "metadata": {},
   "source": [
    "## Добавляем количество терминалов рядом, которыми пользовался пользователь"
   ]
  },
  {
   "cell_type": "code",
   "execution_count": 12,
   "metadata": {},
   "outputs": [
    {
     "data": {
      "application/vnd.jupyter.widget-view+json": {
       "model_id": "3d49a50ee8bd41549f63058e3f6cf908",
       "version_major": 2,
       "version_minor": 0
      },
      "text/plain": [
       "A Jupyter Widget"
      ]
     },
     "metadata": {},
     "output_type": "display_data"
    },
    {
     "name": "stdout",
     "output_type": "stream",
     "text": [
      "\n"
     ]
    }
   ],
   "source": [
    "train_df = number_near_terminals(train.copy())"
   ]
  },
  {
   "cell_type": "markdown",
   "metadata": {},
   "source": [
    "## Минимальное максимальное и среднее расстояние от данного терминала до других терминалов, которыми пользовался пользователь"
   ]
  },
  {
   "cell_type": "code",
   "execution_count": 15,
   "metadata": {
    "collapsed": true
   },
   "outputs": [],
   "source": [
    "import utils\n",
    "import importlib\n",
    "utils = importlib.reload(utils)\n",
    "from utils import *"
   ]
  },
  {
   "cell_type": "code",
   "execution_count": 16,
   "metadata": {
    "scrolled": true
   },
   "outputs": [
    {
     "data": {
      "application/vnd.jupyter.widget-view+json": {
       "model_id": "efc34c352a6a4817b35ee3ce32c30ab5",
       "version_major": 2,
       "version_minor": 0
      },
      "text/plain": [
       "A Jupyter Widget"
      ]
     },
     "metadata": {},
     "output_type": "display_data"
    },
    {
     "name": "stdout",
     "output_type": "stream",
     "text": [
      "\n"
     ]
    },
    {
     "data": {
      "application/vnd.jupyter.widget-view+json": {
       "model_id": "96bbb0cb53a64cce83dcacb6dd9aeabf",
       "version_major": 2,
       "version_minor": 0
      },
      "text/plain": [
       "A Jupyter Widget"
      ]
     },
     "metadata": {},
     "output_type": "display_data"
    },
    {
     "name": "stdout",
     "output_type": "stream",
     "text": [
      "\n"
     ]
    },
    {
     "data": {
      "application/vnd.jupyter.widget-view+json": {
       "model_id": "b2fdfc4b5255494390813d57c6da68b0",
       "version_major": 2,
       "version_minor": 0
      },
      "text/plain": [
       "A Jupyter Widget"
      ]
     },
     "metadata": {},
     "output_type": "display_data"
    },
    {
     "name": "stdout",
     "output_type": "stream",
     "text": [
      "\n"
     ]
    }
   ],
   "source": [
    "train_df = dist_features(train_df.copy())"
   ]
  },
  {
   "cell_type": "code",
   "execution_count": 17,
   "metadata": {
    "collapsed": true
   },
   "outputs": [],
   "source": [
    "train_df.to_csv('prep_train.csv', index=False)"
   ]
  },
  {
   "cell_type": "code",
   "execution_count": 18,
   "metadata": {},
   "outputs": [
    {
     "name": "stderr",
     "output_type": "stream",
     "text": [
      "/Users/katerina198b/anaconda3/lib/python3.6/site-packages/IPython/core/interactiveshell.py:2698: DtypeWarning: Columns (8) have mixed types. Specify dtype option on import or set low_memory=False.\n",
      "  interactivity=interactivity, compiler=compiler, result=result)\n"
     ]
    },
    {
     "data": {
      "application/vnd.jupyter.widget-view+json": {
       "model_id": "b661e07343a149f1a3c2ca6a086f23b7",
       "version_major": 2,
       "version_minor": 0
      },
      "text/plain": [
       "A Jupyter Widget"
      ]
     },
     "metadata": {},
     "output_type": "display_data"
    },
    {
     "name": "stdout",
     "output_type": "stream",
     "text": [
      "\n"
     ]
    }
   ],
   "source": [
    "train_df = pd.read_csv('prep_train.csv')\n",
    "\n",
    "\n",
    "train_df.transaction_date = train_df.transaction_date.progress_apply(lambda x: parse(x))\n",
    "\n",
    "train_df[\"week_day\"] = train_df.transaction_date.apply(lambda x: x.weekday())\n",
    "\n"
   ]
  },
  {
   "cell_type": "markdown",
   "metadata": {},
   "source": [
    "## Сколько раз этот терминал был использован данным пользователем"
   ]
  },
  {
   "cell_type": "code",
   "execution_count": 19,
   "metadata": {
    "collapsed": true
   },
   "outputs": [],
   "source": [
    "## count_ters\n",
    "train_df = ter_using(train_df)"
   ]
  },
  {
   "cell_type": "markdown",
   "metadata": {},
   "source": [
    "## Была ли совершена транцакция рядом с домом или работой"
   ]
  },
  {
   "cell_type": "code",
   "execution_count": 20,
   "metadata": {
    "collapsed": true
   },
   "outputs": [],
   "source": [
    "train_df = get_target(train_df)"
   ]
  },
  {
   "cell_type": "markdown",
   "metadata": {
    "collapsed": true
   },
   "source": [
    "## Сколько раз вообще использовали это терминал"
   ]
  },
  {
   "cell_type": "code",
   "execution_count": 21,
   "metadata": {
    "collapsed": true,
    "scrolled": true
   },
   "outputs": [],
   "source": [
    "#train_df = pd.get_dummies(train_df, columns=[\"week_day\"])\n",
    "train_df = make_pairs(train_df)\n",
    "train_df = number_equal_coordinates(train_df)"
   ]
  },
  {
   "cell_type": "code",
   "execution_count": 22,
   "metadata": {
    "collapsed": true
   },
   "outputs": [],
   "source": [
    "mapping = train_df.groupby(\"terminal_id\").customer_id.size().to_dict()\n",
    "train_df['ter_customers'] = train_df.terminal_id.map(mapping)"
   ]
  },
  {
   "cell_type": "markdown",
   "metadata": {
    "collapsed": true
   },
   "source": [
    "## Сколько раз пользовались в выходной день"
   ]
  },
  {
   "cell_type": "code",
   "execution_count": 23,
   "metadata": {
    "collapsed": true
   },
   "outputs": [],
   "source": [
    "def ter_using_w(df):\n",
    "    ldf = df.copy()\n",
    "    ldf = ldf.merge(ldf[ldf.week_day.isin([5,6])].groupby([\"customer_id\", 'terminal_id']).size().reset_index(name='count_ters_w'), how='left', left_on=['customer_id','terminal_id'], right_on=['customer_id','terminal_id']) \n",
    "    ldf.count_ters_w.fillna(0, inplace=True)\n",
    "    return ldf"
   ]
  },
  {
   "cell_type": "code",
   "execution_count": 24,
   "metadata": {
    "collapsed": true
   },
   "outputs": [],
   "source": [
    "train_df = ter_using_w(train_df)"
   ]
  },
  {
   "cell_type": "code",
   "execution_count": 25,
   "metadata": {
    "collapsed": true
   },
   "outputs": [],
   "source": [
    "train_df.mcc = train_df.mcc.apply(lambda x: int(str(x).replace(\",\",\"\")))"
   ]
  },
  {
   "cell_type": "markdown",
   "metadata": {},
   "source": [
    "## Среднее значение по каждой координате терминала для пользователя"
   ]
  },
  {
   "cell_type": "code",
   "execution_count": 26,
   "metadata": {
    "collapsed": true
   },
   "outputs": [],
   "source": [
    "train_df = train_df.merge(train_df.groupby('customer_id').pos_address_lat.median().reset_index(name='pos_lat_median'), how='left',\\\n",
    "                        on='customer_id')\n",
    "train_df = train_df.merge(train_df.groupby('customer_id').pos_address_lon.median().reset_index(name='pos_lon_median'), how='left',\\\n",
    "                        on='customer_id')\n"
   ]
  },
  {
   "cell_type": "markdown",
   "metadata": {},
   "source": [
    "## Разбиение на train test"
   ]
  },
  {
   "cell_type": "code",
   "execution_count": 27,
   "metadata": {},
   "outputs": [],
   "source": [
    "## разбиение train и test\n",
    "folds_generator = GroupShuffleSplit(1,random_state=42)\n",
    "ind = folds_generator.split(train_df, train_df.y_home, groups=train_df.customer_id)\n",
    "folds = []\n",
    "for el, er in ind:\n",
    "    folds += [(el, er)]"
   ]
  },
  {
   "cell_type": "code",
   "execution_count": 28,
   "metadata": {
    "collapsed": true
   },
   "outputs": [],
   "source": [
    "temp = train_df.iloc[folds[0][0]].copy()\n",
    "temp_test = train_df.iloc[folds[0][1], :].copy()\n",
    "\n",
    "HOME_GM = train_df.y_home.mean()\n",
    "WORK_GM = train_df.y_work.mean()"
   ]
  },
  {
   "cell_type": "code",
   "execution_count": 29,
   "metadata": {
    "collapsed": true
   },
   "outputs": [],
   "source": [
    "import utils\n",
    "import importlib\n",
    "utils = importlib.reload(utils)\n",
    "from utils import *"
   ]
  },
  {
   "cell_type": "code",
   "execution_count": 30,
   "metadata": {
    "scrolled": false
   },
   "outputs": [
    {
     "name": "stderr",
     "output_type": "stream",
     "text": [
      "/Users/katerina198b/anaconda3/lib/python3.6/site-packages/pandas/core/indexing.py:179: SettingWithCopyWarning: \n",
      "A value is trying to be set on a copy of a slice from a DataFrame\n",
      "\n",
      "See the caveats in the documentation: http://pandas.pydata.org/pandas-docs/stable/indexing.html#indexing-view-versus-copy\n",
      "  self._setitem_with_indexer(indexer, value)\n"
     ]
    }
   ],
   "source": [
    "temp = mean_enc_train(temp.copy(), \"count_ters\", typ='home', globalmean=HOME_GM)\n",
    "temp = mean_enc_train(temp.copy(), \"mcc\", typ='home', globalmean=HOME_GM)\n",
    "temp = mean_enc_train(temp.copy(), \"num_near_terminals\", typ='home', globalmean=HOME_GM)\n",
    "temp = mean_enc_train(temp.copy(), \"week_day\", typ='home', globalmean=HOME_GM)"
   ]
  },
  {
   "cell_type": "code",
   "execution_count": 31,
   "metadata": {},
   "outputs": [
    {
     "name": "stderr",
     "output_type": "stream",
     "text": [
      "/Users/katerina198b/anaconda3/lib/python3.6/site-packages/pandas/core/indexing.py:179: SettingWithCopyWarning: \n",
      "A value is trying to be set on a copy of a slice from a DataFrame\n",
      "\n",
      "See the caveats in the documentation: http://pandas.pydata.org/pandas-docs/stable/indexing.html#indexing-view-versus-copy\n",
      "  self._setitem_with_indexer(indexer, value)\n"
     ]
    }
   ],
   "source": [
    "temp = mean_enc_train(temp.copy(), \"count_ters\", typ='work', globalmean=WORK_GM)\n",
    "temp = mean_enc_train(temp.copy(), \"mcc\", typ='work', globalmean=WORK_GM)\n",
    "temp = mean_enc_train(temp.copy(), \"num_near_terminals\", typ='work', globalmean=WORK_GM)\n",
    "temp = mean_enc_train(temp.copy(), \"week_day\", typ='work', globalmean=WORK_GM)"
   ]
  },
  {
   "cell_type": "code",
   "execution_count": 32,
   "metadata": {
    "collapsed": true,
    "scrolled": true
   },
   "outputs": [],
   "source": [
    "temp_test = mean_enc_test(temp.copy(), temp_test.copy(), \"count_ters\", typ='home', globalmean=HOME_GM)\n",
    "temp_test = mean_enc_test(temp.copy(), temp_test.copy(), \"mcc\", typ='home', globalmean=HOME_GM)\n",
    "temp_test = mean_enc_test(temp.copy(), temp_test.copy(), \"num_near_terminals\", typ='home', globalmean=HOME_GM)\n",
    "temp_test = mean_enc_test(temp.copy(), temp_test.copy(), \"week_day\", typ='home', globalmean=HOME_GM)"
   ]
  },
  {
   "cell_type": "code",
   "execution_count": 33,
   "metadata": {
    "collapsed": true
   },
   "outputs": [],
   "source": [
    "temp_test = mean_enc_test(temp.copy(), temp_test.copy(), \"count_ters\", typ='work', globalmean=WORK_GM)\n",
    "temp_test = mean_enc_test(temp.copy(), temp_test.copy(), \"mcc\", typ='work', globalmean=WORK_GM)\n",
    "temp_test = mean_enc_test(temp.copy(), temp_test.copy(), \"num_near_terminals\", typ='work', globalmean=WORK_GM)\n",
    "temp_test = mean_enc_test(temp.copy(), temp_test.copy(), \"week_day\", typ='work', globalmean=WORK_GM)"
   ]
  },
  {
   "cell_type": "code",
   "execution_count": null,
   "metadata": {
    "collapsed": true
   },
   "outputs": [],
   "source": []
  },
  {
   "cell_type": "code",
   "execution_count": 34,
   "metadata": {
    "collapsed": true
   },
   "outputs": [],
   "source": [
    "cols = set(list(temp.columns)) - set(['ter_customers','dist_to_mean2',\\\n",
    "        'dist_to_min2','dist_to_max2', 'merchants',\"number_of_equal_mean\",'week_day_0', 'week_day_1',\n",
    "       'week_day_2', 'week_day_3', 'week_day_4', 'week_day_5', 'week_day_6',\\\n",
    "                                      'terminal_id_mean', 'city_mean',\\\n",
    "       'cust_id_upd', 'city_upd', 'currency_upd', 'country_upd',\\\n",
    "       'mean_target_cutomer', 'mean_target_terminal', 'mean_target_city',\\\n",
    "       'mean_target_country',  'near_ter', 'coord_prob', 'lon_prob', 'lat_prob',\\\n",
    "       'amount_mean', 'pos', 'pos_address', 'atm_address',\\\n",
    "       'atm_address_lat', 'atm_address_lon', 'city', 'country', 'currency',\\\n",
    "       'customer_id', 'home_add_lat', 'home_add_lon','terminal_id',\\\n",
    "       'transaction_date', 'work_add_lat', 'work_add_lon', 'y_home', 'y_work',\\\n",
    "    'mcc_mean_work', 'count_ters_mean_work', 'week_day_mean_work', 'num_near_terminals_mean_work'])\n",
    "cols = list(cols)"
   ]
  },
  {
   "cell_type": "code",
   "execution_count": 146,
   "metadata": {},
   "outputs": [
    {
     "data": {
      "text/plain": [
       "['count_ters',\n",
       " 'pos_address_lat',\n",
       " 'dist_to_min',\n",
       " 'num_near_terminals_mean_home',\n",
       " 'num_near_terminals',\n",
       " 'dist_to_max',\n",
       " 'mcc',\n",
       " 'number_of_equal',\n",
       " 'week_day_mean_home',\n",
       " 'count_ters_w',\n",
       " 'dist_to_mean',\n",
       " 'week_day',\n",
       " 'count_ters_mean_home',\n",
       " 'pos_lat_median',\n",
       " 'pos_lon_median',\n",
       " 'mcc_mean_home',\n",
       " 'pos_address_lon',\n",
       " 'amount']"
      ]
     },
     "execution_count": 146,
     "metadata": {},
     "output_type": "execute_result"
    }
   ],
   "source": [
    "cols"
   ]
  },
  {
   "cell_type": "code",
   "execution_count": 35,
   "metadata": {
    "collapsed": true,
    "scrolled": true
   },
   "outputs": [],
   "source": [
    "model_home = fit(temp, temp.y_home, cols, typ=\"home\", mt='lgb')\n",
    "model_work = fit(temp, temp.y_work, cols, typ=\"work\", mt='lgb')"
   ]
  },
  {
   "cell_type": "code",
   "execution_count": 36,
   "metadata": {},
   "outputs": [
    {
     "name": "stderr",
     "output_type": "stream",
     "text": [
      "/Users/katerina198b/Documents/maсhine_learning/utils.py:370: RuntimeWarning: invalid value encountered in less\n",
      "  r = np.sum(np.sqrt(res[:, 0]**2+res[:, 1]**2) < .02)/res.shape[0]\n"
     ]
    },
    {
     "data": {
      "text/plain": [
       "0.42799999999999999"
      ]
     },
     "execution_count": 36,
     "metadata": {},
     "output_type": "execute_result"
    }
   ],
   "source": [
    "preds = predict(model_home, temp_test, cols, mt='lgb')\n",
    "evaluate(train_df.copy(), preds, \"home\")"
   ]
  },
  {
   "cell_type": "code",
   "execution_count": 32,
   "metadata": {},
   "outputs": [
    {
     "name": "stderr",
     "output_type": "stream",
     "text": [
      "/Users/antonzaharenkov/raifaizen/code/utils.py:306: FutureWarning: \n",
      "Passing list-likes to .loc or [] with any missing label will raise\n",
      "KeyError in the future, you can use .reindex() as an alternative.\n",
      "\n",
      "See the documentation here:\n",
      "http://pandas.pydata.org/pandas-docs/stable/indexing.html#deprecate-loc-reindex-listlike\n",
      "  res = np.array(df.loc[preds.index]) - np.array(preds)\n",
      "/Users/antonzaharenkov/raifaizen/code/utils.py:307: RuntimeWarning: invalid value encountered in less\n",
      "  r = np.sum(np.sqrt(res[:, 0]**2+res[:, 1]**2) < .02)/res.shape[0]\n"
     ]
    },
    {
     "data": {
      "text/plain": [
       "0.42649999999999999"
      ]
     },
     "execution_count": 32,
     "metadata": {},
     "output_type": "execute_result"
    }
   ],
   "source": [
    "preds = predict(model_home, temp_test, cols, mt='lgb')\n",
    "evaluate(train_df.copy(), preds, \"home\")"
   ]
  },
  {
   "cell_type": "code",
   "execution_count": 37,
   "metadata": {},
   "outputs": [
    {
     "name": "stderr",
     "output_type": "stream",
     "text": [
      "/Users/katerina198b/Documents/maсhine_learning/utils.py:370: RuntimeWarning: invalid value encountered in less\n",
      "  r = np.sum(np.sqrt(res[:, 0]**2+res[:, 1]**2) < .02)/res.shape[0]\n"
     ]
    },
    {
     "data": {
      "text/plain": [
       "0.154"
      ]
     },
     "execution_count": 37,
     "metadata": {},
     "output_type": "execute_result"
    }
   ],
   "source": [
    "preds = predict(model_work, temp_test, cols, mt='lgb')\n",
    "evaluate(train_df.copy(), preds, \"work\")"
   ]
  },
  {
   "cell_type": "code",
   "execution_count": 94,
   "metadata": {},
   "outputs": [
    {
     "data": {
      "text/plain": [
       "0.28875"
      ]
     },
     "execution_count": 94,
     "metadata": {},
     "output_type": "execute_result"
    }
   ],
   "source": [
    "(0.4265+0.151)/2"
   ]
  },
  {
   "cell_type": "code",
   "execution_count": 182,
   "metadata": {},
   "outputs": [
    {
     "name": "stderr",
     "output_type": "stream",
     "text": [
      "/Users/antonzaharenkov/raifaizen/code/utils.py:306: FutureWarning: \n",
      "Passing list-likes to .loc or [] with any missing label will raise\n",
      "KeyError in the future, you can use .reindex() as an alternative.\n",
      "\n",
      "See the documentation here:\n",
      "http://pandas.pydata.org/pandas-docs/stable/indexing.html#deprecate-loc-reindex-listlike\n",
      "  res = np.array(df.loc[preds.index]) - np.array(preds)\n",
      "/Users/antonzaharenkov/raifaizen/code/utils.py:307: RuntimeWarning: invalid value encountered in less\n",
      "  r = np.sum(np.sqrt(res[:, 0]**2+res[:, 1]**2) < .02)/res.shape[0]\n"
     ]
    },
    {
     "data": {
      "text/plain": [
       "0.063"
      ]
     },
     "execution_count": 182,
     "metadata": {},
     "output_type": "execute_result"
    }
   ],
   "source": [
    "preds = predict(model_home, temp_test, cols, mt='lgb')\n",
    "evaluate(train_df.copy(), preds, \"work\")"
   ]
  },
  {
   "cell_type": "code",
   "execution_count": null,
   "metadata": {
    "collapsed": true
   },
   "outputs": [],
   "source": []
  },
  {
   "cell_type": "code",
   "execution_count": 102,
   "metadata": {
    "scrolled": true
   },
   "outputs": [
    {
     "name": "stderr",
     "output_type": "stream",
     "text": [
      "/Users/antonzaharenkov/raifaizen/code/utils.py:307: FutureWarning: \n",
      "Passing list-likes to .loc or [] with any missing label will raise\n",
      "KeyError in the future, you can use .reindex() as an alternative.\n",
      "\n",
      "See the documentation here:\n",
      "http://pandas.pydata.org/pandas-docs/stable/indexing.html#deprecate-loc-reindex-listlike\n",
      "  res = np.array(df.loc[preds.index]) - np.array(preds)\n",
      "/Users/antonzaharenkov/raifaizen/code/utils.py:308: RuntimeWarning: invalid value encountered in less\n",
      "  r = np.sum(np.sqrt(res[:, 0]**2+res[:, 1]**2) < .02)/res.shape[0]\n"
     ]
    },
    {
     "name": "stdout",
     "output_type": "stream",
     "text": [
      "Score full: 0.275, home: 0.420, work: 0.131, params {'boosting_type': 'gbdt', 'objective': 'binary', 'metric': 'binary_logloss', 'bagging_freq': 0, 'colsample_bytree': '0.652', 'learning_rate': '0.293', 'feature_fraction': '0.897', 'bagging_fraction': '0.634', 'num_leaves': 60, 'is_unbalance': True, 'verbose': 1}\n",
      "Score full: 0.275, home: 0.422, work: 0.129, params {'boosting_type': 'gbdt', 'objective': 'binary', 'metric': 'binary_logloss', 'bagging_freq': 0, 'colsample_bytree': '0.376', 'learning_rate': '0.282', 'feature_fraction': '0.604', 'bagging_fraction': '0.791', 'num_leaves': 26, 'is_unbalance': True, 'verbose': 1}\n",
      "Score full: 0.280, home: 0.420, work: 0.140, params {'boosting_type': 'gbdt', 'objective': 'binary', 'metric': 'binary_logloss', 'bagging_freq': 15, 'colsample_bytree': '0.451', 'learning_rate': '0.007', 'feature_fraction': '0.674', 'bagging_fraction': '0.840', 'num_leaves': 26, 'is_unbalance': True, 'verbose': 1}\n",
      "Score full: 0.284, home: 0.430, work: 0.139, params {'boosting_type': 'gbdt', 'objective': 'binary', 'metric': 'binary_logloss', 'bagging_freq': 21, 'colsample_bytree': '0.642', 'learning_rate': '0.091', 'feature_fraction': '0.736', 'bagging_fraction': '0.631', 'num_leaves': 44, 'is_unbalance': True, 'verbose': 1}\n",
      "Score full: 0.276, home: 0.417, work: 0.135, params {'boosting_type': 'gbdt', 'objective': 'binary', 'metric': 'binary_logloss', 'bagging_freq': 24, 'colsample_bytree': '0.423', 'learning_rate': '0.170', 'feature_fraction': '0.852', 'bagging_fraction': '0.734', 'num_leaves': 124, 'is_unbalance': True, 'verbose': 1}\n",
      "Score full: 0.287, home: 0.433, work: 0.141, params {'boosting_type': 'gbdt', 'objective': 'binary', 'metric': 'binary_logloss', 'bagging_freq': 9, 'colsample_bytree': '0.591', 'learning_rate': '0.020', 'feature_fraction': '0.608', 'bagging_fraction': '0.635', 'num_leaves': 44, 'is_unbalance': True, 'verbose': 1}\n",
      "Score full: 0.278, home: 0.424, work: 0.133, params {'boosting_type': 'gbdt', 'objective': 'binary', 'metric': 'binary_logloss', 'bagging_freq': 15, 'colsample_bytree': '0.316', 'learning_rate': '0.350', 'feature_fraction': '0.612', 'bagging_fraction': '0.705', 'num_leaves': 72, 'is_unbalance': True, 'verbose': 1}\n",
      "Score full: 0.275, home: 0.423, work: 0.128, params {'boosting_type': 'gbdt', 'objective': 'binary', 'metric': 'binary_logloss', 'bagging_freq': 24, 'colsample_bytree': '0.308', 'learning_rate': '0.261', 'feature_fraction': '0.831', 'bagging_fraction': '0.936', 'num_leaves': 88, 'is_unbalance': True, 'verbose': 1}\n",
      "Score full: 0.274, home: 0.416, work: 0.132, params {'boosting_type': 'gbdt', 'objective': 'binary', 'metric': 'binary_logloss', 'bagging_freq': 27, 'colsample_bytree': '0.707', 'learning_rate': '0.236', 'feature_fraction': '0.806', 'bagging_fraction': '0.703', 'num_leaves': 96, 'is_unbalance': True, 'verbose': 1}\n",
      "Score full: 0.277, home: 0.422, work: 0.133, params {'boosting_type': 'gbdt', 'objective': 'binary', 'metric': 'binary_logloss', 'bagging_freq': 0, 'colsample_bytree': '0.739', 'learning_rate': '0.180', 'feature_fraction': '0.765', 'bagging_fraction': '0.829', 'num_leaves': 38, 'is_unbalance': True, 'verbose': 1}\n",
      "Score full: 0.275, home: 0.423, work: 0.127, params {'boosting_type': 'gbdt', 'objective': 'binary', 'metric': 'binary_logloss', 'bagging_freq': 30, 'colsample_bytree': '0.634', 'learning_rate': '0.419', 'feature_fraction': '0.752', 'bagging_fraction': '0.788', 'num_leaves': 10, 'is_unbalance': True, 'verbose': 1}\n",
      "Score full: 0.274, home: 0.421, work: 0.127, params {'boosting_type': 'gbdt', 'objective': 'binary', 'metric': 'binary_logloss', 'bagging_freq': 18, 'colsample_bytree': '0.607', 'learning_rate': '0.493', 'feature_fraction': '0.794', 'bagging_fraction': '0.702', 'num_leaves': 78, 'is_unbalance': True, 'verbose': 1}\n",
      "Score full: 0.283, home: 0.428, work: 0.137, params {'boosting_type': 'gbdt', 'objective': 'binary', 'metric': 'binary_logloss', 'bagging_freq': 3, 'colsample_bytree': '0.316', 'learning_rate': '0.095', 'feature_fraction': '0.819', 'bagging_fraction': '0.932', 'num_leaves': 36, 'is_unbalance': True, 'verbose': 1}\n",
      "Score full: 0.282, home: 0.422, work: 0.142, params {'boosting_type': 'gbdt', 'objective': 'binary', 'metric': 'binary_logloss', 'bagging_freq': 21, 'colsample_bytree': '0.612', 'learning_rate': '0.113', 'feature_fraction': '0.730', 'bagging_fraction': '0.747', 'num_leaves': 110, 'is_unbalance': True, 'verbose': 1}\n",
      "Score full: 0.271, home: 0.412, work: 0.130, params {'boosting_type': 'gbdt', 'objective': 'binary', 'metric': 'binary_logloss', 'bagging_freq': 27, 'colsample_bytree': '0.765', 'learning_rate': '0.442', 'feature_fraction': '0.800', 'bagging_fraction': '0.672', 'num_leaves': 98, 'is_unbalance': True, 'verbose': 1}\n",
      "Score full: 0.283, home: 0.429, work: 0.138, params {'boosting_type': 'gbdt', 'objective': 'binary', 'metric': 'binary_logloss', 'bagging_freq': 9, 'colsample_bytree': '0.633', 'learning_rate': '0.063', 'feature_fraction': '0.899', 'bagging_fraction': '0.905', 'num_leaves': 30, 'is_unbalance': True, 'verbose': 1}\n",
      "Score full: 0.279, home: 0.423, work: 0.135, params {'boosting_type': 'gbdt', 'objective': 'binary', 'metric': 'binary_logloss', 'bagging_freq': 9, 'colsample_bytree': '0.899', 'learning_rate': '0.354', 'feature_fraction': '0.688', 'bagging_fraction': '0.638', 'num_leaves': 116, 'is_unbalance': True, 'verbose': 1}\n",
      "Score full: 0.275, home: 0.420, work: 0.131, params {'boosting_type': 'gbdt', 'objective': 'binary', 'metric': 'binary_logloss', 'bagging_freq': 30, 'colsample_bytree': '0.405', 'learning_rate': '0.319', 'feature_fraction': '0.806', 'bagging_fraction': '0.792', 'num_leaves': 82, 'is_unbalance': True, 'verbose': 1}\n",
      "Score full: 0.282, home: 0.430, work: 0.134, params {'boosting_type': 'gbdt', 'objective': 'binary', 'metric': 'binary_logloss', 'bagging_freq': 6, 'colsample_bytree': '0.939', 'learning_rate': '0.075', 'feature_fraction': '0.905', 'bagging_fraction': '0.807', 'num_leaves': 42, 'is_unbalance': True, 'verbose': 1}\n",
      "Score full: 0.281, home: 0.424, work: 0.138, params {'boosting_type': 'gbdt', 'objective': 'binary', 'metric': 'binary_logloss', 'bagging_freq': 24, 'colsample_bytree': '0.573', 'learning_rate': '0.082', 'feature_fraction': '0.922', 'bagging_fraction': '0.939', 'num_leaves': 46, 'is_unbalance': True, 'verbose': 1}\n",
      "Score full: 0.283, home: 0.424, work: 0.142, params {'boosting_type': 'gbdt', 'objective': 'binary', 'metric': 'binary_logloss', 'bagging_freq': 12, 'colsample_bytree': '0.517', 'learning_rate': '0.007', 'feature_fraction': '0.647', 'bagging_fraction': '0.603', 'num_leaves': 56, 'is_unbalance': True, 'verbose': 1}\n",
      "Score full: 0.282, home: 0.425, work: 0.139, params {'boosting_type': 'gbdt', 'objective': 'binary', 'metric': 'binary_logloss', 'bagging_freq': 18, 'colsample_bytree': '0.844', 'learning_rate': '0.029', 'feature_fraction': '0.717', 'bagging_fraction': '0.610', 'num_leaves': 14, 'is_unbalance': True, 'verbose': 1}\n",
      "Score full: 0.283, home: 0.426, work: 0.140, params {'boosting_type': 'gbdt', 'objective': 'binary', 'metric': 'binary_logloss', 'bagging_freq': 12, 'colsample_bytree': '0.519', 'learning_rate': '0.134', 'feature_fraction': '0.653', 'bagging_fraction': '0.657', 'num_leaves': 54, 'is_unbalance': True, 'verbose': 1}\n",
      "Score full: 0.283, home: 0.425, work: 0.140, params {'boosting_type': 'gbdt', 'objective': 'binary', 'metric': 'binary_logloss', 'bagging_freq': 18, 'colsample_bytree': '0.804', 'learning_rate': '0.204', 'feature_fraction': '0.625', 'bagging_fraction': '0.608', 'num_leaves': 66, 'is_unbalance': True, 'verbose': 1}\n",
      "Score full: 0.285, home: 0.431, work: 0.139, params {'boosting_type': 'gbdt', 'objective': 'binary', 'metric': 'binary_logloss', 'bagging_freq': 6, 'colsample_bytree': '0.523', 'learning_rate': '0.044', 'feature_fraction': '0.696', 'bagging_fraction': '0.672', 'num_leaves': 18, 'is_unbalance': True, 'verbose': 1}\n",
      "Score full: 0.286, home: 0.432, work: 0.141, params {'boosting_type': 'gbdt', 'objective': 'binary', 'metric': 'binary_logloss', 'bagging_freq': 6, 'colsample_bytree': '0.510', 'learning_rate': '0.044', 'feature_fraction': '0.700', 'bagging_fraction': '0.675', 'num_leaves': 16, 'is_unbalance': True, 'verbose': 1}\n"
     ]
    },
    {
     "name": "stdout",
     "output_type": "stream",
     "text": [
      "Score full: 0.281, home: 0.426, work: 0.136, params {'boosting_type': 'gbdt', 'objective': 'binary', 'metric': 'binary_logloss', 'bagging_freq': 3, 'colsample_bytree': '0.482', 'learning_rate': '0.141', 'feature_fraction': '0.646', 'bagging_fraction': '0.751', 'num_leaves': 18, 'is_unbalance': True, 'verbose': 1}\n",
      "Score full: 0.285, home: 0.425, work: 0.144, params {'boosting_type': 'gbdt', 'objective': 'binary', 'metric': 'binary_logloss', 'bagging_freq': 6, 'colsample_bytree': '0.692', 'learning_rate': '0.008', 'feature_fraction': '0.702', 'bagging_fraction': '0.720', 'num_leaves': 48, 'is_unbalance': True, 'verbose': 1}\n",
      "Score full: 0.279, home: 0.422, work: 0.136, params {'boosting_type': 'gbdt', 'objective': 'binary', 'metric': 'binary_logloss', 'bagging_freq': 9, 'colsample_bytree': '0.562', 'learning_rate': '0.224', 'feature_fraction': '0.671', 'bagging_fraction': '0.644', 'num_leaves': 8, 'is_unbalance': True, 'verbose': 1}\n",
      "Score full: 0.287, home: 0.429, work: 0.144, params {'boosting_type': 'gbdt', 'objective': 'binary', 'metric': 'binary_logloss', 'bagging_freq': 3, 'colsample_bytree': '0.697', 'learning_rate': '0.038', 'feature_fraction': '0.629', 'bagging_fraction': '0.683', 'num_leaves': 60, 'is_unbalance': True, 'verbose': 1}\n",
      "Score full: 0.286, home: 0.430, work: 0.141, params {'boosting_type': 'gbdt', 'objective': 'binary', 'metric': 'binary_logloss', 'bagging_freq': 3, 'colsample_bytree': '0.840', 'learning_rate': '0.138', 'feature_fraction': '0.604', 'bagging_fraction': '0.620', 'num_leaves': 64, 'is_unbalance': True, 'verbose': 1}\n",
      "Score full: 0.282, home: 0.426, work: 0.137, params {'boosting_type': 'gbdt', 'objective': 'binary', 'metric': 'binary_logloss', 'bagging_freq': 0, 'colsample_bytree': '0.686', 'learning_rate': '0.166', 'feature_fraction': '0.628', 'bagging_fraction': '0.691', 'num_leaves': 72, 'is_unbalance': True, 'verbose': 1}\n",
      "Score full: 0.286, home: 0.431, work: 0.141, params {'boosting_type': 'gbdt', 'objective': 'binary', 'metric': 'binary_logloss', 'bagging_freq': 12, 'colsample_bytree': '0.753', 'learning_rate': '0.016', 'feature_fraction': '0.870', 'bagging_fraction': '0.755', 'num_leaves': 54, 'is_unbalance': True, 'verbose': 1}\n",
      "Score full: 0.284, home: 0.431, work: 0.138, params {'boosting_type': 'gbdt', 'objective': 'binary', 'metric': 'binary_logloss', 'bagging_freq': 3, 'colsample_bytree': '0.583', 'learning_rate': '0.114', 'feature_fraction': '0.669', 'bagging_fraction': '0.656', 'num_leaves': 30, 'is_unbalance': True, 'verbose': 1}\n",
      "Score full: 0.275, home: 0.421, work: 0.130, params {'boosting_type': 'gbdt', 'objective': 'binary', 'metric': 'binary_logloss', 'bagging_freq': 0, 'colsample_bytree': '1.000', 'learning_rate': '0.271', 'feature_fraction': '0.605', 'bagging_fraction': '0.858', 'num_leaves': 58, 'is_unbalance': True, 'verbose': 1}\n",
      "Score full: 0.273, home: 0.418, work: 0.128, params {'boosting_type': 'gbdt', 'objective': 'binary', 'metric': 'binary_logloss', 'bagging_freq': 15, 'colsample_bytree': '0.442', 'learning_rate': '0.316', 'feature_fraction': '0.945', 'bagging_fraction': '0.727', 'num_leaves': 26, 'is_unbalance': True, 'verbose': 1}\n",
      "Score full: 0.288, home: 0.433, work: 0.144, params {'boosting_type': 'gbdt', 'objective': 'binary', 'metric': 'binary_logloss', 'bagging_freq': 9, 'colsample_bytree': '0.793', 'learning_rate': '0.049', 'feature_fraction': '0.621', 'bagging_fraction': '0.628', 'num_leaves': 90, 'is_unbalance': True, 'verbose': 1}\n",
      "Score full: 0.277, home: 0.416, work: 0.139, params {'boosting_type': 'gbdt', 'objective': 'binary', 'metric': 'binary_logloss', 'bagging_freq': 12, 'colsample_bytree': '0.973', 'learning_rate': '0.187', 'feature_fraction': '0.600', 'bagging_fraction': '0.879', 'num_leaves': 100, 'is_unbalance': True, 'verbose': 1}\n",
      "Score full: 0.285, home: 0.431, work: 0.140, params {'boosting_type': 'gbdt', 'objective': 'binary', 'metric': 'binary_logloss', 'bagging_freq': 9, 'colsample_bytree': '0.369', 'learning_rate': '0.066', 'feature_fraction': '0.740', 'bagging_fraction': '0.631', 'num_leaves': 124, 'is_unbalance': True, 'verbose': 1}\n",
      "Score full: 0.273, home: 0.410, work: 0.137, params {'boosting_type': 'gbdt', 'objective': 'binary', 'metric': 'binary_logloss', 'bagging_freq': 15, 'colsample_bytree': '0.888', 'learning_rate': '0.389', 'feature_fraction': '0.858', 'bagging_fraction': '0.650', 'num_leaves': 90, 'is_unbalance': True, 'verbose': 1}\n",
      "Score full: 0.273, home: 0.421, work: 0.125, params {'boosting_type': 'gbdt', 'objective': 'binary', 'metric': 'binary_logloss', 'bagging_freq': 12, 'colsample_bytree': '0.796', 'learning_rate': '0.247', 'feature_fraction': '0.774', 'bagging_fraction': '0.623', 'num_leaves': 80, 'is_unbalance': True, 'verbose': 1}\n",
      "Score full: 0.281, home: 0.420, work: 0.142, params {'boosting_type': 'gbdt', 'objective': 'binary', 'metric': 'binary_logloss', 'bagging_freq': 9, 'colsample_bytree': '0.659', 'learning_rate': '0.106', 'feature_fraction': '0.623', 'bagging_fraction': '0.770', 'num_leaves': 112, 'is_unbalance': True, 'verbose': 1}\n",
      "Score full: 0.270, home: 0.412, work: 0.129, params {'boosting_type': 'gbdt', 'objective': 'binary', 'metric': 'binary_logloss', 'bagging_freq': 18, 'colsample_bytree': '0.722', 'learning_rate': '0.498', 'feature_fraction': '0.718', 'bagging_fraction': '0.720', 'num_leaves': 104, 'is_unbalance': True, 'verbose': 1}\n",
      "Score full: 0.280, home: 0.421, work: 0.139, params {'boosting_type': 'gbdt', 'objective': 'binary', 'metric': 'binary_logloss', 'bagging_freq': 6, 'colsample_bytree': '0.777', 'learning_rate': '0.163', 'feature_fraction': '0.655', 'bagging_fraction': '0.814', 'num_leaves': 90, 'is_unbalance': True, 'verbose': 1}\n",
      "Score full: 0.274, home: 0.422, work: 0.127, params {'boosting_type': 'gbdt', 'objective': 'binary', 'metric': 'binary_logloss', 'bagging_freq': 21, 'colsample_bytree': '0.354', 'learning_rate': '0.221', 'feature_fraction': '0.763', 'bagging_fraction': '0.601', 'num_leaves': 72, 'is_unbalance': True, 'verbose': 1}\n",
      "Score full: 0.274, home: 0.423, work: 0.124, params {'boosting_type': 'gbdt', 'objective': 'binary', 'metric': 'binary_logloss', 'bagging_freq': 15, 'colsample_bytree': '0.832', 'learning_rate': '0.460', 'feature_fraction': '0.677', 'bagging_fraction': '0.705', 'num_leaves': 86, 'is_unbalance': True, 'verbose': 1}\n"
     ]
    },
    {
     "ename": "KeyboardInterrupt",
     "evalue": "",
     "output_type": "error",
     "traceback": [
      "\u001b[0;31m---------------------------------------------------------------------------\u001b[0m",
      "\u001b[0;31mKeyboardInterrupt\u001b[0m                         Traceback (most recent call last)",
      "\u001b[0;32m<ipython-input-102-dc12cc059dbd>\u001b[0m in \u001b[0;36m<module>\u001b[0;34m()\u001b[0m\n\u001b[1;32m     74\u001b[0m             \u001b[0mspace\u001b[0m\u001b[0;34m=\u001b[0m\u001b[0mspace\u001b[0m\u001b[0;34m,\u001b[0m\u001b[0;34m\u001b[0m\u001b[0m\n\u001b[1;32m     75\u001b[0m             \u001b[0malgo\u001b[0m\u001b[0;34m=\u001b[0m\u001b[0mtpe\u001b[0m\u001b[0;34m.\u001b[0m\u001b[0msuggest\u001b[0m\u001b[0;34m,\u001b[0m\u001b[0;34m\u001b[0m\u001b[0m\n\u001b[0;32m---> 76\u001b[0;31m             max_evals=1000)\n\u001b[0m",
      "\u001b[0;32m~/anaconda3/lib/python3.6/site-packages/hyperopt/fmin.py\u001b[0m in \u001b[0;36mfmin\u001b[0;34m(fn, space, algo, max_evals, trials, rstate, allow_trials_fmin, pass_expr_memo_ctrl, catch_eval_exceptions, verbose, return_argmin)\u001b[0m\n\u001b[1;32m    318\u001b[0m                     verbose=verbose)\n\u001b[1;32m    319\u001b[0m     \u001b[0mrval\u001b[0m\u001b[0;34m.\u001b[0m\u001b[0mcatch_eval_exceptions\u001b[0m \u001b[0;34m=\u001b[0m \u001b[0mcatch_eval_exceptions\u001b[0m\u001b[0;34m\u001b[0m\u001b[0m\n\u001b[0;32m--> 320\u001b[0;31m     \u001b[0mrval\u001b[0m\u001b[0;34m.\u001b[0m\u001b[0mexhaust\u001b[0m\u001b[0;34m(\u001b[0m\u001b[0;34m)\u001b[0m\u001b[0;34m\u001b[0m\u001b[0m\n\u001b[0m\u001b[1;32m    321\u001b[0m     \u001b[0;32mif\u001b[0m \u001b[0mreturn_argmin\u001b[0m\u001b[0;34m:\u001b[0m\u001b[0;34m\u001b[0m\u001b[0m\n\u001b[1;32m    322\u001b[0m         \u001b[0;32mreturn\u001b[0m \u001b[0mtrials\u001b[0m\u001b[0;34m.\u001b[0m\u001b[0margmin\u001b[0m\u001b[0;34m\u001b[0m\u001b[0m\n",
      "\u001b[0;32m~/anaconda3/lib/python3.6/site-packages/hyperopt/fmin.py\u001b[0m in \u001b[0;36mexhaust\u001b[0;34m(self)\u001b[0m\n\u001b[1;32m    197\u001b[0m     \u001b[0;32mdef\u001b[0m \u001b[0mexhaust\u001b[0m\u001b[0;34m(\u001b[0m\u001b[0mself\u001b[0m\u001b[0;34m)\u001b[0m\u001b[0;34m:\u001b[0m\u001b[0;34m\u001b[0m\u001b[0m\n\u001b[1;32m    198\u001b[0m         \u001b[0mn_done\u001b[0m \u001b[0;34m=\u001b[0m \u001b[0mlen\u001b[0m\u001b[0;34m(\u001b[0m\u001b[0mself\u001b[0m\u001b[0;34m.\u001b[0m\u001b[0mtrials\u001b[0m\u001b[0;34m)\u001b[0m\u001b[0;34m\u001b[0m\u001b[0m\n\u001b[0;32m--> 199\u001b[0;31m         \u001b[0mself\u001b[0m\u001b[0;34m.\u001b[0m\u001b[0mrun\u001b[0m\u001b[0;34m(\u001b[0m\u001b[0mself\u001b[0m\u001b[0;34m.\u001b[0m\u001b[0mmax_evals\u001b[0m \u001b[0;34m-\u001b[0m \u001b[0mn_done\u001b[0m\u001b[0;34m,\u001b[0m \u001b[0mblock_until_done\u001b[0m\u001b[0;34m=\u001b[0m\u001b[0mself\u001b[0m\u001b[0;34m.\u001b[0m\u001b[0masync\u001b[0m\u001b[0;34m)\u001b[0m\u001b[0;34m\u001b[0m\u001b[0m\n\u001b[0m\u001b[1;32m    200\u001b[0m         \u001b[0mself\u001b[0m\u001b[0;34m.\u001b[0m\u001b[0mtrials\u001b[0m\u001b[0;34m.\u001b[0m\u001b[0mrefresh\u001b[0m\u001b[0;34m(\u001b[0m\u001b[0;34m)\u001b[0m\u001b[0;34m\u001b[0m\u001b[0m\n\u001b[1;32m    201\u001b[0m         \u001b[0;32mreturn\u001b[0m \u001b[0mself\u001b[0m\u001b[0;34m\u001b[0m\u001b[0m\n",
      "\u001b[0;32m~/anaconda3/lib/python3.6/site-packages/hyperopt/fmin.py\u001b[0m in \u001b[0;36mrun\u001b[0;34m(self, N, block_until_done)\u001b[0m\n\u001b[1;32m    155\u001b[0m                                                   d['result'].get('status')))\n\u001b[1;32m    156\u001b[0m                 new_trials = algo(new_ids, self.domain, trials,\n\u001b[0;32m--> 157\u001b[0;31m                                   self.rstate.randint(2 ** 31 - 1))\n\u001b[0m\u001b[1;32m    158\u001b[0m                 \u001b[0;32massert\u001b[0m \u001b[0mlen\u001b[0m\u001b[0;34m(\u001b[0m\u001b[0mnew_ids\u001b[0m\u001b[0;34m)\u001b[0m \u001b[0;34m>=\u001b[0m \u001b[0mlen\u001b[0m\u001b[0;34m(\u001b[0m\u001b[0mnew_trials\u001b[0m\u001b[0;34m)\u001b[0m\u001b[0;34m\u001b[0m\u001b[0m\n\u001b[1;32m    159\u001b[0m                 \u001b[0;32mif\u001b[0m \u001b[0mlen\u001b[0m\u001b[0;34m(\u001b[0m\u001b[0mnew_trials\u001b[0m\u001b[0;34m)\u001b[0m\u001b[0;34m:\u001b[0m\u001b[0;34m\u001b[0m\u001b[0m\n",
      "\u001b[0;32m~/anaconda3/lib/python3.6/site-packages/hyperopt/tpe.py\u001b[0m in \u001b[0;36msuggest\u001b[0;34m(new_ids, domain, trials, seed, prior_weight, n_startup_jobs, n_EI_candidates, gamma, linear_forgetting)\u001b[0m\n\u001b[1;32m    876\u001b[0m \u001b[0;34m\u001b[0m\u001b[0m\n\u001b[1;32m    877\u001b[0m     idxs, vals = pyll.rec_eval([opt_idxs, opt_vals], memo=memo,\n\u001b[0;32m--> 878\u001b[0;31m                                print_node_on_error=False)\n\u001b[0m\u001b[1;32m    879\u001b[0m \u001b[0;34m\u001b[0m\u001b[0m\n\u001b[1;32m    880\u001b[0m     \u001b[0;31m# -- retrieve the best of the samples and form the return tuple\u001b[0m\u001b[0;34m\u001b[0m\u001b[0;34m\u001b[0m\u001b[0m\n",
      "\u001b[0;32m~/anaconda3/lib/python3.6/site-packages/hyperopt/pyll/base.py\u001b[0m in \u001b[0;36mrec_eval\u001b[0;34m(expr, deepcopy_inputs, memo, max_program_len, memo_gc, print_trace, print_node_on_error)\u001b[0m\n\u001b[1;32m    911\u001b[0m \u001b[0;34m\u001b[0m\u001b[0m\n\u001b[1;32m    912\u001b[0m             \u001b[0;32mtry\u001b[0m\u001b[0;34m:\u001b[0m\u001b[0;34m\u001b[0m\u001b[0m\n\u001b[0;32m--> 913\u001b[0;31m                 \u001b[0mrval\u001b[0m \u001b[0;34m=\u001b[0m \u001b[0mscope\u001b[0m\u001b[0;34m.\u001b[0m\u001b[0m_impls\u001b[0m\u001b[0;34m[\u001b[0m\u001b[0mnode\u001b[0m\u001b[0;34m.\u001b[0m\u001b[0mname\u001b[0m\u001b[0;34m]\u001b[0m\u001b[0;34m(\u001b[0m\u001b[0;34m*\u001b[0m\u001b[0margs\u001b[0m\u001b[0;34m,\u001b[0m \u001b[0;34m**\u001b[0m\u001b[0mkwargs\u001b[0m\u001b[0;34m)\u001b[0m\u001b[0;34m\u001b[0m\u001b[0m\n\u001b[0m\u001b[1;32m    914\u001b[0m \u001b[0;34m\u001b[0m\u001b[0m\n\u001b[1;32m    915\u001b[0m             \u001b[0;32mexcept\u001b[0m \u001b[0mException\u001b[0m \u001b[0;32mas\u001b[0m \u001b[0me\u001b[0m\u001b[0;34m:\u001b[0m\u001b[0;34m\u001b[0m\u001b[0m\n",
      "\u001b[0;32m~/anaconda3/lib/python3.6/site-packages/hyperopt/tpe.py\u001b[0m in \u001b[0;36mGMM1\u001b[0;34m(weights, mus, sigmas, low, high, q, rng, size)\u001b[0m\n\u001b[1;32m     89\u001b[0m         \u001b[0;32mwhile\u001b[0m \u001b[0mlen\u001b[0m\u001b[0;34m(\u001b[0m\u001b[0msamples\u001b[0m\u001b[0;34m)\u001b[0m \u001b[0;34m<\u001b[0m \u001b[0mn_samples\u001b[0m\u001b[0;34m:\u001b[0m\u001b[0;34m\u001b[0m\u001b[0m\n\u001b[1;32m     90\u001b[0m             \u001b[0mactive\u001b[0m \u001b[0;34m=\u001b[0m \u001b[0mnp\u001b[0m\u001b[0;34m.\u001b[0m\u001b[0margmax\u001b[0m\u001b[0;34m(\u001b[0m\u001b[0mrng\u001b[0m\u001b[0;34m.\u001b[0m\u001b[0mmultinomial\u001b[0m\u001b[0;34m(\u001b[0m\u001b[0;36m1\u001b[0m\u001b[0;34m,\u001b[0m \u001b[0mweights\u001b[0m\u001b[0;34m)\u001b[0m\u001b[0;34m)\u001b[0m\u001b[0;34m\u001b[0m\u001b[0m\n\u001b[0;32m---> 91\u001b[0;31m             \u001b[0mdraw\u001b[0m \u001b[0;34m=\u001b[0m \u001b[0mrng\u001b[0m\u001b[0;34m.\u001b[0m\u001b[0mnormal\u001b[0m\u001b[0;34m(\u001b[0m\u001b[0mloc\u001b[0m\u001b[0;34m=\u001b[0m\u001b[0mmus\u001b[0m\u001b[0;34m[\u001b[0m\u001b[0mactive\u001b[0m\u001b[0;34m]\u001b[0m\u001b[0;34m,\u001b[0m \u001b[0mscale\u001b[0m\u001b[0;34m=\u001b[0m\u001b[0msigmas\u001b[0m\u001b[0;34m[\u001b[0m\u001b[0mactive\u001b[0m\u001b[0;34m]\u001b[0m\u001b[0;34m)\u001b[0m\u001b[0;34m\u001b[0m\u001b[0m\n\u001b[0m\u001b[1;32m     92\u001b[0m             \u001b[0;32mif\u001b[0m \u001b[0mlow\u001b[0m \u001b[0;34m<=\u001b[0m \u001b[0mdraw\u001b[0m \u001b[0;34m<\u001b[0m \u001b[0mhigh\u001b[0m\u001b[0;34m:\u001b[0m\u001b[0;34m\u001b[0m\u001b[0m\n\u001b[1;32m     93\u001b[0m                 \u001b[0msamples\u001b[0m\u001b[0;34m.\u001b[0m\u001b[0mappend\u001b[0m\u001b[0;34m(\u001b[0m\u001b[0mdraw\u001b[0m\u001b[0;34m)\u001b[0m\u001b[0;34m\u001b[0m\u001b[0m\n",
      "\u001b[0;31mKeyboardInterrupt\u001b[0m: "
     ]
    }
   ],
   "source": [
    "def fit(params, X_train, y_train, temp_test, cols, num_boost_round=101, mt='lgb', typ=\"home\"):\n",
    "    if typ==\"home\":\n",
    "        good_merch = X_train.home_add_lat.dropna().index\n",
    "        X_train = X_train.loc[good_merch]\n",
    "        y_train = y_train.loc[good_merch]\n",
    "    else:\n",
    "        good_merch = X_train.work_add_lat.dropna().index\n",
    "        X_train = X_train.loc[good_merch]\n",
    "        y_train = y_train.loc[good_merch]\n",
    "    if mt == 'lgb':\n",
    "        lgb_train = lgb.Dataset(X_train[cols], y_train)\n",
    "\n",
    "    lgb_train = lgb.Dataset(X_train[cols], y_train)\n",
    "    lgb_eval = lgb.Dataset(temp_test[cols], temp_test.y_home, reference=lgb_train)\n",
    "        # specify your configurations as a dict\n",
    "#         params = {\n",
    "#             'boosting_type': 'gbdt',\n",
    "#             'objective': 'binary',\n",
    "#             'metric': 'binary_logloss',\n",
    "#             'bagging_freq': 1,\n",
    "#             'colsample_bytree': '0.514',\n",
    "#             'learning_rate': '0.013',\n",
    "#             'feature_fraction': '0.625',\n",
    "#             'bagging_fraction': '0.844',\n",
    "#             'num_leaves': 30,\n",
    "#             'verbose': 1\n",
    "#             #'is_unbalance':True\n",
    "#         }\n",
    "\n",
    "    model = lgb.train(params,\n",
    "                lgb_train,\n",
    "                valid_sets=lgb_eval,\n",
    "                  verbose_eval=0,\n",
    "                  early_stopping_rounds=30,\n",
    "                num_boost_round=500)\n",
    "\n",
    "    return model\n",
    "\n",
    "\n",
    "def objective(params):\n",
    "    params = {\n",
    "        'boosting_type': 'gbdt',  \n",
    "        'objective': 'binary',\n",
    "        'metric': 'binary_logloss',\n",
    "        'bagging_freq': int(params['bagging_freq']),\n",
    "        'colsample_bytree': '{:.3f}'.format(params['colsample_bytree']),\n",
    "        'learning_rate': '{:.3f}'.format(params['learning_rate']),\n",
    "        'feature_fraction': '{:.3f}'.format(params['feature_fraction']),\n",
    "        'bagging_fraction': '{:.3f}'.format(params['bagging_fraction']),\n",
    "        'num_leaves': int(params['num_leaves']),\n",
    "        'is_unbalance':True\n",
    "    }\n",
    "    model_home = fit(params, temp, temp.y_home, temp_test, cols, typ=\"home\", mt='lgb')\n",
    "    model_work = fit(params, temp, temp.y_work, temp_test, cols, typ=\"work\", mt='lgb')\n",
    "\n",
    "    \n",
    "    preds = predict(model_home, temp_test, cols, mt='lgb')\n",
    "    score1 = evaluate(train_df.copy(), preds, \"home\")\n",
    "    \n",
    "    preds = predict(model_work, temp_test, cols, mt='lgb')\n",
    "    score2 = evaluate(train_df.copy(), preds, \"work\")\n",
    "    print(\"Score full: {:.3f}, home: {:.3f}, work: {:.3f}, params {}\".format((score1+score2)/2, score1, score2, params))\n",
    "    return 1-(score1+score2)/2\n",
    "\n",
    "space = {\n",
    "    'num_leaves': hp.quniform('num_leaves', 8, 128, 2),\n",
    "    'colsample_bytree': hp.uniform('colsample_bytree', 0.3, 1.0),\n",
    "    'bagging_freq': hp.quniform('bagging_freq', 0, 30, 3),\n",
    "    'learning_rate': hp.uniform('learning_rate', 0.005, 0.5),\n",
    "    'feature_fraction': hp.uniform('feature_fraction', 0.6, 0.95),\n",
    "    'bagging_fraction': hp.uniform('bagging_fraction', 0.6, 0.95)}\n",
    "\n",
    "best = fmin(fn=objective,\n",
    "            space=space,\n",
    "            algo=tpe.suggest,\n",
    "            max_evals=1000)"
   ]
  },
  {
   "cell_type": "code",
   "execution_count": 100,
   "metadata": {},
   "outputs": [
    {
     "data": {
      "text/plain": [
       "Index(['amount', 'city', 'country', 'currency', 'customer_id', 'home_add_lat',\n",
       "       'home_add_lon', 'mcc', 'pos_address', 'pos_address_lat',\n",
       "       'pos_address_lon', 'terminal_id', 'transaction_date', 'work_add_lat',\n",
       "       'work_add_lon', 'week_day', 'num_near_terminals', 'dist_to_mean',\n",
       "       'dist_to_min', 'dist_to_max', 'count_ters', 'y_home', 'y_work', 'pos',\n",
       "       'number_of_equal', 'count_ters_w', 'count_ters_mean_home',\n",
       "       'mcc_mean_home', 'num_near_terminals_mean_home', 'week_day_mean_home',\n",
       "       'count_ters_mean_work', 'mcc_mean_work', 'num_near_terminals_mean_work',\n",
       "       'week_day_mean_work'],\n",
       "      dtype='object')"
      ]
     },
     "execution_count": 100,
     "metadata": {},
     "output_type": "execute_result"
    }
   ],
   "source": [
    "temp.columns"
   ]
  },
  {
   "cell_type": "code",
   "execution_count": null,
   "metadata": {
    "collapsed": true
   },
   "outputs": [],
   "source": []
  },
  {
   "cell_type": "code",
   "execution_count": 103,
   "metadata": {
    "collapsed": true
   },
   "outputs": [],
   "source": [
    "cols = set(list(temp.columns)) - set(['ter_customers','dist_to_mean2',\\\n",
    "        'dist_to_min2','dist_to_max2', 'merchants',\"number_of_equal_mean\", 'week_day','week_day_0', 'week_day_1',\n",
    "       'week_day_2', 'week_day_3', 'week_day_4', 'week_day_5', 'week_day_6',\\\n",
    "                                      'terminal_id_mean', 'city_mean',\\\n",
    "       'cust_id_upd', 'city_upd', 'currency_upd', 'country_upd',\\\n",
    "       'mean_target_cutomer', 'mean_target_terminal', 'mean_target_city',\\\n",
    "       'mean_target_country',  'near_ter', 'coord_prob', 'lon_prob', 'lat_prob',\\\n",
    "       'amount_mean','week_day', 'pos', 'pos_address', 'atm_address',\\\n",
    "       'atm_address_lat', 'atm_address_lon', 'city', 'country', 'currency',\\\n",
    "       'customer_id', 'home_add_lat', 'home_add_lon','terminal_id',\\\n",
    "       'transaction_date', 'work_add_lat', 'work_add_lon', 'y_home', 'y_work',\\\n",
    "    'mcc_mean_work', 'count_ters_mean_work', 'week_day_mean_work', 'num_near_terminals_mean_work'])\n",
    "cols = list(cols)"
   ]
  },
  {
   "cell_type": "code",
   "execution_count": 104,
   "metadata": {
    "scrolled": false
   },
   "outputs": [
    {
     "data": {
      "text/plain": [
       "['count_ters',\n",
       " 'pos_address_lat',\n",
       " 'dist_to_min',\n",
       " 'num_near_terminals_mean_home',\n",
       " 'num_near_terminals',\n",
       " 'mcc',\n",
       " 'number_of_equal',\n",
       " 'count_ters_w',\n",
       " 'dist_to_mean',\n",
       " 'count_ters_mean_home',\n",
       " 'week_day_mean_home',\n",
       " 'amount',\n",
       " 'mcc_mean_home',\n",
       " 'pos_address_lon',\n",
       " 'dist_to_max']"
      ]
     },
     "execution_count": 104,
     "metadata": {},
     "output_type": "execute_result"
    }
   ],
   "source": [
    "cols"
   ]
  },
  {
   "cell_type": "code",
   "execution_count": 115,
   "metadata": {},
   "outputs": [
    {
     "data": {
      "text/plain": [
       "Index(['amount', 'city', 'country', 'currency', 'customer_id', 'home_add_lat',\n",
       "       'home_add_lon', 'mcc', 'pos_address', 'pos_address_lat',\n",
       "       'pos_address_lon', 'terminal_id', 'transaction_date', 'work_add_lat',\n",
       "       'work_add_lon', 'week_day', 'num_near_terminals', 'dist_to_mean',\n",
       "       'dist_to_min', 'dist_to_max', 'count_ters', 'y_home', 'y_work', 'pos',\n",
       "       'number_of_equal', 'dist_to_mean2', 'dist_to_min2', 'dist_to_max2',\n",
       "       'ter_customers', 'count_ters_mean', 'mcc_mean',\n",
       "       'num_near_terminals_mean', 'week_day_mean'],\n",
       "      dtype='object')"
      ]
     },
     "execution_count": 115,
     "metadata": {},
     "output_type": "execute_result"
    }
   ],
   "source": [
    "temp.columns"
   ]
  },
  {
   "cell_type": "markdown",
   "metadata": {},
   "source": [
    "# SUBMIT"
   ]
  },
  {
   "cell_type": "code",
   "execution_count": 34,
   "metadata": {},
   "outputs": [
    {
     "name": "stderr",
     "output_type": "stream",
     "text": [
      "/Users/antonzaharenkov/anaconda3/lib/python3.6/site-packages/IPython/core/interactiveshell.py:2698: DtypeWarning: Columns (1,8,9) have mixed types. Specify dtype option on import or set low_memory=False.\n",
      "  interactivity=interactivity, compiler=compiler, result=result)\n"
     ]
    }
   ],
   "source": [
    "test_data = pd.read_csv(\"../input/test_set.csv.gz\", compression=\"gzip\")"
   ]
  },
  {
   "cell_type": "code",
   "execution_count": 35,
   "metadata": {},
   "outputs": [
    {
     "name": "stderr",
     "output_type": "stream",
     "text": [
      "/Users/antonzaharenkov/anaconda3/lib/python3.6/site-packages/pandas/core/generic.py:3643: SettingWithCopyWarning: \n",
      "A value is trying to be set on a copy of a slice from a DataFrame.\n",
      "Try using .loc[row_indexer,col_indexer] = value instead\n",
      "\n",
      "See the caveats in the documentation: http://pandas.pydata.org/pandas-docs/stable/indexing.html#indexing-view-versus-copy\n",
      "  self[name] = value\n"
     ]
    }
   ],
   "source": [
    "test = preprocess(test_data)"
   ]
  },
  {
   "cell_type": "code",
   "execution_count": 36,
   "metadata": {
    "collapsed": true
   },
   "outputs": [],
   "source": [
    "test.pos_address_lat.fillna(test.atm_address_lat,inplace=True)\n",
    "test.pos_address_lon.fillna(test.atm_address_lon,inplace=True)"
   ]
  },
  {
   "cell_type": "code",
   "execution_count": 37,
   "metadata": {
    "collapsed": true
   },
   "outputs": [],
   "source": [
    "test.drop(['atm_address_lat', 'atm_address_lon', 'atm_address', 'atm_address_lat_upd', 'atm_address_lon_upd', 'terminal_id_upd'], axis=1, inplace=True)"
   ]
  },
  {
   "cell_type": "code",
   "execution_count": 38,
   "metadata": {},
   "outputs": [
    {
     "data": {
      "text/plain": [
       "((1265470, 14), (1165026, 11))"
      ]
     },
     "execution_count": 38,
     "metadata": {},
     "output_type": "execute_result"
    }
   ],
   "source": [
    "test_data.shape, test.shape"
   ]
  },
  {
   "cell_type": "code",
   "execution_count": 39,
   "metadata": {},
   "outputs": [
    {
     "data": {
      "application/vnd.jupyter.widget-view+json": {
       "model_id": "f6b280e1d0104137a73ec88251c743db",
       "version_major": 2,
       "version_minor": 0
      },
      "text/plain": [
       "A Jupyter Widget"
      ]
     },
     "metadata": {},
     "output_type": "display_data"
    },
    {
     "name": "stdout",
     "output_type": "stream",
     "text": [
      "\n"
     ]
    }
   ],
   "source": [
    "test.transaction_date = test.transaction_date.progress_apply(lambda x: parse(x))"
   ]
  },
  {
   "cell_type": "code",
   "execution_count": 40,
   "metadata": {
    "scrolled": true
   },
   "outputs": [
    {
     "ename": "KeyboardInterrupt",
     "evalue": "",
     "output_type": "error",
     "traceback": [
      "\u001b[0;31m---------------------------------------------------------------------------\u001b[0m",
      "\u001b[0;31mKeyboardInterrupt\u001b[0m                         Traceback (most recent call last)",
      "\u001b[0;32m<ipython-input-40-098234e206e2>\u001b[0m in \u001b[0;36m<module>\u001b[0;34m()\u001b[0m\n\u001b[0;32m----> 1\u001b[0;31m \u001b[0mtest\u001b[0m\u001b[0;34m[\u001b[0m\u001b[0;34m\"week_day\"\u001b[0m\u001b[0;34m]\u001b[0m \u001b[0;34m=\u001b[0m \u001b[0mtest\u001b[0m\u001b[0;34m.\u001b[0m\u001b[0mtransaction_date\u001b[0m\u001b[0;34m.\u001b[0m\u001b[0mapply\u001b[0m\u001b[0;34m(\u001b[0m\u001b[0;32mlambda\u001b[0m \u001b[0mx\u001b[0m\u001b[0;34m:\u001b[0m \u001b[0mx\u001b[0m\u001b[0;34m.\u001b[0m\u001b[0mweekday\u001b[0m\u001b[0;34m(\u001b[0m\u001b[0;34m)\u001b[0m\u001b[0;34m)\u001b[0m\u001b[0;34m\u001b[0m\u001b[0m\n\u001b[0m",
      "\u001b[0;32m~/anaconda3/lib/python3.6/site-packages/pandas/core/series.py\u001b[0m in \u001b[0;36mapply\u001b[0;34m(self, func, convert_dtype, args, **kwds)\u001b[0m\n\u001b[1;32m   2507\u001b[0m                 \u001b[0mmapped\u001b[0m \u001b[0;34m=\u001b[0m \u001b[0mself\u001b[0m\u001b[0;34m.\u001b[0m\u001b[0m_values\u001b[0m\u001b[0;34m.\u001b[0m\u001b[0mmap\u001b[0m\u001b[0;34m(\u001b[0m\u001b[0mf\u001b[0m\u001b[0;34m)\u001b[0m\u001b[0;34m\u001b[0m\u001b[0m\n\u001b[1;32m   2508\u001b[0m             \u001b[0;32melse\u001b[0m\u001b[0;34m:\u001b[0m\u001b[0;34m\u001b[0m\u001b[0m\n\u001b[0;32m-> 2509\u001b[0;31m                 \u001b[0mvalues\u001b[0m \u001b[0;34m=\u001b[0m \u001b[0mself\u001b[0m\u001b[0;34m.\u001b[0m\u001b[0masobject\u001b[0m\u001b[0;34m\u001b[0m\u001b[0m\n\u001b[0m\u001b[1;32m   2510\u001b[0m                 \u001b[0mmapped\u001b[0m \u001b[0;34m=\u001b[0m \u001b[0mlib\u001b[0m\u001b[0;34m.\u001b[0m\u001b[0mmap_infer\u001b[0m\u001b[0;34m(\u001b[0m\u001b[0mvalues\u001b[0m\u001b[0;34m,\u001b[0m \u001b[0mf\u001b[0m\u001b[0;34m,\u001b[0m \u001b[0mconvert\u001b[0m\u001b[0;34m=\u001b[0m\u001b[0mconvert_dtype\u001b[0m\u001b[0;34m)\u001b[0m\u001b[0;34m\u001b[0m\u001b[0m\n\u001b[1;32m   2511\u001b[0m \u001b[0;34m\u001b[0m\u001b[0m\n",
      "\u001b[0;32m~/anaconda3/lib/python3.6/site-packages/pandas/core/series.py\u001b[0m in \u001b[0;36masobject\u001b[0;34m(self)\u001b[0m\n\u001b[1;32m    420\u001b[0m         \u001b[0;34m*\u001b[0m\u001b[0mthis\u001b[0m \u001b[0;32mis\u001b[0m \u001b[0man\u001b[0m \u001b[0minternal\u001b[0m \u001b[0mnon\u001b[0m\u001b[0;34m-\u001b[0m\u001b[0mpublic\u001b[0m \u001b[0mmethod\u001b[0m\u001b[0;34m*\u001b[0m\u001b[0;34m\u001b[0m\u001b[0m\n\u001b[1;32m    421\u001b[0m         \"\"\"\n\u001b[0;32m--> 422\u001b[0;31m         \u001b[0;32mreturn\u001b[0m \u001b[0mself\u001b[0m\u001b[0;34m.\u001b[0m\u001b[0m_data\u001b[0m\u001b[0;34m.\u001b[0m\u001b[0masobject\u001b[0m\u001b[0;34m\u001b[0m\u001b[0m\n\u001b[0m\u001b[1;32m    423\u001b[0m \u001b[0;34m\u001b[0m\u001b[0m\n\u001b[1;32m    424\u001b[0m     \u001b[0;31m# ops\u001b[0m\u001b[0;34m\u001b[0m\u001b[0;34m\u001b[0m\u001b[0m\n",
      "\u001b[0;32m~/anaconda3/lib/python3.6/site-packages/pandas/core/internals.py\u001b[0m in \u001b[0;36masobject\u001b[0;34m(self)\u001b[0m\n\u001b[1;32m   4516\u001b[0m         \u001b[0mto\u001b[0m \u001b[0mTimestamp\u001b[0m\u001b[0;34m/\u001b[0m\u001b[0mTimedelta\u001b[0m \u001b[0minstances\u001b[0m\u001b[0;34m.\u001b[0m\u001b[0;34m\u001b[0m\u001b[0m\n\u001b[1;32m   4517\u001b[0m         \"\"\"\n\u001b[0;32m-> 4518\u001b[0;31m         \u001b[0;32mreturn\u001b[0m \u001b[0mself\u001b[0m\u001b[0;34m.\u001b[0m\u001b[0m_block\u001b[0m\u001b[0;34m.\u001b[0m\u001b[0mget_values\u001b[0m\u001b[0;34m(\u001b[0m\u001b[0mdtype\u001b[0m\u001b[0;34m=\u001b[0m\u001b[0mobject\u001b[0m\u001b[0;34m)\u001b[0m\u001b[0;34m\u001b[0m\u001b[0m\n\u001b[0m\u001b[1;32m   4519\u001b[0m \u001b[0;34m\u001b[0m\u001b[0m\n\u001b[1;32m   4520\u001b[0m     \u001b[0;34m@\u001b[0m\u001b[0mproperty\u001b[0m\u001b[0;34m\u001b[0m\u001b[0m\n",
      "\u001b[0;32m~/anaconda3/lib/python3.6/site-packages/pandas/core/internals.py\u001b[0m in \u001b[0;36mget_values\u001b[0;34m(self, dtype)\u001b[0m\n\u001b[1;32m   1929\u001b[0m         \u001b[0;32mif\u001b[0m \u001b[0mis_object_dtype\u001b[0m\u001b[0;34m(\u001b[0m\u001b[0mdtype\u001b[0m\u001b[0;34m)\u001b[0m\u001b[0;34m:\u001b[0m\u001b[0;34m\u001b[0m\u001b[0m\n\u001b[1;32m   1930\u001b[0m             return lib.map_infer(self.values.ravel(),\n\u001b[0;32m-> 1931\u001b[0;31m                                  self._box_func).reshape(self.values.shape)\n\u001b[0m\u001b[1;32m   1932\u001b[0m         \u001b[0;32mreturn\u001b[0m \u001b[0mself\u001b[0m\u001b[0;34m.\u001b[0m\u001b[0mvalues\u001b[0m\u001b[0;34m\u001b[0m\u001b[0m\n\u001b[1;32m   1933\u001b[0m \u001b[0;34m\u001b[0m\u001b[0m\n",
      "\u001b[0;31mKeyboardInterrupt\u001b[0m: "
     ]
    }
   ],
   "source": [
    "test[\"week_day\"] = test.transaction_date.apply(lambda x: x.weekday())"
   ]
  },
  {
   "cell_type": "code",
   "execution_count": null,
   "metadata": {
    "collapsed": true
   },
   "outputs": [],
   "source": [
    "test_df = number_near_terminals(test.copy())"
   ]
  },
  {
   "cell_type": "code",
   "execution_count": null,
   "metadata": {
    "collapsed": true,
    "scrolled": true
   },
   "outputs": [],
   "source": [
    "test_df = utils.dist_features(test_df.copy())"
   ]
  },
  {
   "cell_type": "code",
   "execution_count": null,
   "metadata": {
    "collapsed": true
   },
   "outputs": [],
   "source": [
    "test_df.to_csv('prep_test.csv', index=False)"
   ]
  },
  {
   "cell_type": "code",
   "execution_count": null,
   "metadata": {
    "collapsed": true
   },
   "outputs": [],
   "source": []
  },
  {
   "cell_type": "code",
   "execution_count": 41,
   "metadata": {
    "scrolled": true
   },
   "outputs": [
    {
     "name": "stderr",
     "output_type": "stream",
     "text": [
      "/Users/antonzaharenkov/anaconda3/lib/python3.6/site-packages/IPython/core/interactiveshell.py:2698: DtypeWarning: Columns (5,6) have mixed types. Specify dtype option on import or set low_memory=False.\n",
      "  interactivity=interactivity, compiler=compiler, result=result)\n"
     ]
    }
   ],
   "source": [
    "test_df = pd.read_csv('prep_test.csv')"
   ]
  },
  {
   "cell_type": "code",
   "execution_count": 42,
   "metadata": {
    "scrolled": true
   },
   "outputs": [
    {
     "data": {
      "application/vnd.jupyter.widget-view+json": {
       "model_id": "df916e9a922c444d92557f5a0b8cce43",
       "version_major": 2,
       "version_minor": 0
      },
      "text/plain": [
       "A Jupyter Widget"
      ]
     },
     "metadata": {},
     "output_type": "display_data"
    },
    {
     "name": "stdout",
     "output_type": "stream",
     "text": [
      "\n"
     ]
    }
   ],
   "source": [
    "test_df.transaction_date = test_df.transaction_date.progress_apply(lambda x: parse(x))\n",
    "\n",
    "test_df[\"week_day\"] = test_df.transaction_date.apply(lambda x: x.weekday())\n",
    "\n"
   ]
  },
  {
   "cell_type": "code",
   "execution_count": 43,
   "metadata": {
    "collapsed": true
   },
   "outputs": [],
   "source": [
    "test_df = ter_using(test_df)"
   ]
  },
  {
   "cell_type": "code",
   "execution_count": 44,
   "metadata": {
    "collapsed": true,
    "scrolled": true
   },
   "outputs": [],
   "source": [
    "#train_df = pd.get_dummies(train_df, columns=[\"week_day\"])\n",
    "test_df = make_pairs(test_df)\n",
    "test_df = number_equal_coordinates(test_df)"
   ]
  },
  {
   "cell_type": "code",
   "execution_count": 45,
   "metadata": {
    "collapsed": true
   },
   "outputs": [],
   "source": [
    "test_df.mcc = test_df.mcc.apply(lambda x: int(str(x).replace(\",\",\"\")))"
   ]
  },
  {
   "cell_type": "code",
   "execution_count": 155,
   "metadata": {
    "collapsed": true
   },
   "outputs": [],
   "source": [
    "test_df[\"week_day\"] = test_df.transaction_date.apply(lambda x: x.weekday())"
   ]
  },
  {
   "cell_type": "code",
   "execution_count": null,
   "metadata": {
    "collapsed": true
   },
   "outputs": [],
   "source": []
  },
  {
   "cell_type": "code",
   "execution_count": 101,
   "metadata": {
    "collapsed": true
   },
   "outputs": [],
   "source": [
    "def ter_using_w(df):\n",
    "    ldf = df.copy()\n",
    "    ldf = ldf.merge(ldf[ldf.week_day.isin([5,6])].groupby([\"customer_id\", 'terminal_id']).size().reset_index(name='count_ters_w'), how='left', left_on=['customer_id','terminal_id'], right_on=['customer_id','terminal_id']) \n",
    "    ldf.count_ters_w.fillna(0, inplace=True)\n",
    "    return ldf"
   ]
  },
  {
   "cell_type": "code",
   "execution_count": 46,
   "metadata": {
    "collapsed": true
   },
   "outputs": [],
   "source": [
    "test_df = ter_using_w(test_df)"
   ]
  },
  {
   "cell_type": "code",
   "execution_count": 47,
   "metadata": {},
   "outputs": [
    {
     "data": {
      "text/plain": [
       "{'home_add_lat',\n",
       " 'home_add_lon',\n",
       " 'work_add_lat',\n",
       " 'work_add_lon',\n",
       " 'y_home',\n",
       " 'y_work'}"
      ]
     },
     "execution_count": 47,
     "metadata": {},
     "output_type": "execute_result"
    }
   ],
   "source": [
    "set(train_df.columns) -  set(test_df.columns)"
   ]
  },
  {
   "cell_type": "code",
   "execution_count": null,
   "metadata": {
    "collapsed": true
   },
   "outputs": [],
   "source": []
  },
  {
   "cell_type": "code",
   "execution_count": 48,
   "metadata": {
    "collapsed": true
   },
   "outputs": [],
   "source": [
    "temp = train_df.copy()\n",
    "temp_test = test_df.copy()\n",
    "\n",
    "HOME_GM = train_df.y_home.mean()\n",
    "WORK_GM = train_df.y_work.mean()"
   ]
  },
  {
   "cell_type": "code",
   "execution_count": 49,
   "metadata": {
    "scrolled": false
   },
   "outputs": [
    {
     "name": "stderr",
     "output_type": "stream",
     "text": [
      "/Users/antonzaharenkov/anaconda3/lib/python3.6/site-packages/pandas/core/indexing.py:194: SettingWithCopyWarning: \n",
      "A value is trying to be set on a copy of a slice from a DataFrame\n",
      "\n",
      "See the caveats in the documentation: http://pandas.pydata.org/pandas-docs/stable/indexing.html#indexing-view-versus-copy\n",
      "  self._setitem_with_indexer(indexer, value)\n"
     ]
    }
   ],
   "source": [
    "temp = mean_enc_train(temp.copy(), \"count_ters\", typ='home', globalmean=HOME_GM)\n",
    "temp = mean_enc_train(temp.copy(), \"mcc\", typ='home', globalmean=HOME_GM)\n",
    "temp = mean_enc_train(temp.copy(), \"num_near_terminals\", typ='home', globalmean=HOME_GM)\n",
    "temp = mean_enc_train(temp.copy(), \"week_day\", typ='home', globalmean=HOME_GM)"
   ]
  },
  {
   "cell_type": "code",
   "execution_count": 50,
   "metadata": {},
   "outputs": [
    {
     "name": "stderr",
     "output_type": "stream",
     "text": [
      "/Users/antonzaharenkov/anaconda3/lib/python3.6/site-packages/pandas/core/indexing.py:194: SettingWithCopyWarning: \n",
      "A value is trying to be set on a copy of a slice from a DataFrame\n",
      "\n",
      "See the caveats in the documentation: http://pandas.pydata.org/pandas-docs/stable/indexing.html#indexing-view-versus-copy\n",
      "  self._setitem_with_indexer(indexer, value)\n"
     ]
    }
   ],
   "source": [
    "temp = mean_enc_train(temp.copy(), \"count_ters\", typ='work', globalmean=WORK_GM)\n",
    "temp = mean_enc_train(temp.copy(), \"mcc\", typ='work', globalmean=WORK_GM)\n",
    "temp = mean_enc_train(temp.copy(), \"num_near_terminals\", typ='work', globalmean=WORK_GM)\n",
    "temp = mean_enc_train(temp.copy(), \"week_day\", typ='work', globalmean=WORK_GM)"
   ]
  },
  {
   "cell_type": "code",
   "execution_count": 51,
   "metadata": {
    "collapsed": true,
    "scrolled": true
   },
   "outputs": [],
   "source": [
    "temp_test = mean_enc_test(temp.copy(), temp_test.copy(), \"count_ters\", typ='home', globalmean=HOME_GM)\n",
    "temp_test = mean_enc_test(temp.copy(), temp_test.copy(), \"mcc\", typ='home', globalmean=HOME_GM)\n",
    "temp_test = mean_enc_test(temp.copy(), temp_test.copy(), \"num_near_terminals\", typ='home', globalmean=HOME_GM)\n",
    "temp_test = mean_enc_test(temp.copy(), temp_test.copy(), \"week_day\", typ='home', globalmean=HOME_GM)"
   ]
  },
  {
   "cell_type": "code",
   "execution_count": 52,
   "metadata": {
    "collapsed": true
   },
   "outputs": [],
   "source": [
    "temp_test = mean_enc_test(temp.copy(), temp_test.copy(), \"count_ters\", typ='work', globalmean=WORK_GM)\n",
    "temp_test = mean_enc_test(temp.copy(), temp_test.copy(), \"mcc\", typ='work', globalmean=WORK_GM)\n",
    "temp_test = mean_enc_test(temp.copy(), temp_test.copy(), \"num_near_terminals\", typ='work', globalmean=WORK_GM)\n",
    "temp_test = mean_enc_test(temp.copy(), temp_test.copy(), \"week_day\", typ='work', globalmean=WORK_GM)"
   ]
  },
  {
   "cell_type": "code",
   "execution_count": 53,
   "metadata": {
    "collapsed": true
   },
   "outputs": [],
   "source": [
    "import utils\n",
    "import importlib\n",
    "utils = importlib.reload(utils)\n",
    "from utils import *"
   ]
  },
  {
   "cell_type": "code",
   "execution_count": 55,
   "metadata": {
    "collapsed": true,
    "scrolled": true
   },
   "outputs": [],
   "source": [
    "model_home = fit(temp, temp.y_home, cols, typ=\"home\", mt='lgb')"
   ]
  },
  {
   "cell_type": "code",
   "execution_count": 56,
   "metadata": {
    "collapsed": true
   },
   "outputs": [],
   "source": [
    "model_work = fit(temp, temp.y_work, cols, typ=\"work\", mt='lgb')"
   ]
  },
  {
   "cell_type": "code",
   "execution_count": 54,
   "metadata": {
    "collapsed": true
   },
   "outputs": [],
   "source": [
    "cols = set(list(temp.columns)) - set([ 'ter_customers','dist_to_mean2', 'dist_to_min2','dist_to_max2', 'merchants',\"number_of_equal_mean\", 'week_day','week_day_0', 'week_day_1',\n",
    "       'week_day_2', 'week_day_3', 'week_day_4', 'week_day_5', 'week_day_6',\\\n",
    "                                      'terminal_id_mean', 'city_mean',\\\n",
    "       'cust_id_upd', 'city_upd', 'currency_upd', 'country_upd',\\\n",
    "       'mean_target_cutomer', 'mean_target_terminal', 'mean_target_city',\\\n",
    "       'mean_target_country',  'near_ter', 'coord_prob', 'lon_prob', 'lat_prob',\\\n",
    "       'amount_mean','week_day', 'pos', 'pos_address','mcc', 'atm_address',\\\n",
    "       'atm_address_lat', 'atm_address_lon', 'city', 'country', 'currency',\\\n",
    "       'customer_id', 'home_add_lat', 'home_add_lon','terminal_id',\\\n",
    "       'transaction_date', 'work_add_lat', 'work_add_lon', 'y_home', 'y_work'])\n",
    "cols = list(cols)"
   ]
  },
  {
   "cell_type": "code",
   "execution_count": 148,
   "metadata": {
    "scrolled": false
   },
   "outputs": [
    {
     "data": {
      "text/plain": [
       "['count_ters',\n",
       " 'week_day_mean_home',\n",
       " 'count_ters_w',\n",
       " 'pos_address_lon',\n",
       " 'num_near_terminals',\n",
       " 'dist_to_min',\n",
       " 'num_near_terminals_mean_home',\n",
       " 'dist_to_max',\n",
       " 'amount',\n",
       " 'count_ters_mean_home',\n",
       " 'pos_address_lat',\n",
       " 'dist_to_mean',\n",
       " 'mcc_mean_home',\n",
       " 'number_of_equal']"
      ]
     },
     "execution_count": 148,
     "metadata": {},
     "output_type": "execute_result"
    }
   ],
   "source": [
    "cols"
   ]
  },
  {
   "cell_type": "code",
   "execution_count": 106,
   "metadata": {},
   "outputs": [
    {
     "data": {
      "text/plain": [
       "((226073, 32), (1165026, 24))"
      ]
     },
     "execution_count": 106,
     "metadata": {},
     "output_type": "execute_result"
    }
   ],
   "source": [
    "temp_test.shape, temp_test_df.shape"
   ]
  },
  {
   "cell_type": "code",
   "execution_count": null,
   "metadata": {
    "collapsed": true
   },
   "outputs": [],
   "source": []
  },
  {
   "cell_type": "code",
   "execution_count": 194,
   "metadata": {
    "collapsed": true
   },
   "outputs": [],
   "source": [
    "preds_work = preds_home.rename(columns={\"lat\":\"_WORK_LAT_\",\n",
    "                           \"lon\":\"WORK_LON_\"})"
   ]
  },
  {
   "cell_type": "code",
   "execution_count": 196,
   "metadata": {
    "scrolled": true
   },
   "outputs": [
    {
     "data": {
      "text/html": [
       "<div>\n",
       "<style scoped>\n",
       "    .dataframe tbody tr th:only-of-type {\n",
       "        vertical-align: middle;\n",
       "    }\n",
       "\n",
       "    .dataframe tbody tr th {\n",
       "        vertical-align: top;\n",
       "    }\n",
       "\n",
       "    .dataframe thead th {\n",
       "        text-align: right;\n",
       "    }\n",
       "</style>\n",
       "<table border=\"1\" class=\"dataframe\">\n",
       "  <thead>\n",
       "    <tr style=\"text-align: right;\">\n",
       "      <th></th>\n",
       "      <th>_WORK_LAT_</th>\n",
       "      <th>WORK_LON_</th>\n",
       "    </tr>\n",
       "    <tr>\n",
       "      <th>customer_id</th>\n",
       "      <th></th>\n",
       "      <th></th>\n",
       "    </tr>\n",
       "  </thead>\n",
       "  <tbody>\n",
       "    <tr>\n",
       "      <th>0001f322716470bf9bfc1708f06f00fc</th>\n",
       "      <td>44.743860</td>\n",
       "      <td>37.724392</td>\n",
       "    </tr>\n",
       "    <tr>\n",
       "      <th>0027a7618d97cc9fbda55fac457eaeb7</th>\n",
       "      <td>55.637990</td>\n",
       "      <td>37.222875</td>\n",
       "    </tr>\n",
       "    <tr>\n",
       "      <th>003fa58414cc55531fcc38423bea8f8e</th>\n",
       "      <td>55.761793</td>\n",
       "      <td>37.771986</td>\n",
       "    </tr>\n",
       "    <tr>\n",
       "      <th>005194bf7238734eb49c142258c5a263</th>\n",
       "      <td>51.712323</td>\n",
       "      <td>39.157982</td>\n",
       "    </tr>\n",
       "    <tr>\n",
       "      <th>005d6f1ee97276374cefe4d0c65e9a89</th>\n",
       "      <td>55.770000</td>\n",
       "      <td>37.594000</td>\n",
       "    </tr>\n",
       "    <tr>\n",
       "      <th>007525af0bc3ce72137b586a298f7b98</th>\n",
       "      <td>55.821298</td>\n",
       "      <td>37.370401</td>\n",
       "    </tr>\n",
       "    <tr>\n",
       "      <th>0086aa6c4ebc89dd5a20eed71a625df1</th>\n",
       "      <td>55.737744</td>\n",
       "      <td>37.399083</td>\n",
       "    </tr>\n",
       "    <tr>\n",
       "      <th>0089100aa33a523bd2e697dec264a71a</th>\n",
       "      <td>55.418701</td>\n",
       "      <td>37.831608</td>\n",
       "    </tr>\n",
       "    <tr>\n",
       "      <th>008b0844115d2c7aafe51ccb3c4b2c2e</th>\n",
       "      <td>55.660844</td>\n",
       "      <td>37.573024</td>\n",
       "    </tr>\n",
       "    <tr>\n",
       "      <th>009f05416473981238824dd50cad1b66</th>\n",
       "      <td>55.625292</td>\n",
       "      <td>37.600787</td>\n",
       "    </tr>\n",
       "    <tr>\n",
       "      <th>00bae192d0b8e7ffef23542989424c61</th>\n",
       "      <td>55.657609</td>\n",
       "      <td>37.981638</td>\n",
       "    </tr>\n",
       "    <tr>\n",
       "      <th>00c1df5f99c762e4d57cd15a7fb3f829</th>\n",
       "      <td>55.431000</td>\n",
       "      <td>37.546000</td>\n",
       "    </tr>\n",
       "    <tr>\n",
       "      <th>00d7a8b5d813ba578b5d2e12ee533be5</th>\n",
       "      <td>43.597072</td>\n",
       "      <td>39.730400</td>\n",
       "    </tr>\n",
       "    <tr>\n",
       "      <th>00e090fa8609abb31807380ec091630b</th>\n",
       "      <td>55.790429</td>\n",
       "      <td>37.732508</td>\n",
       "    </tr>\n",
       "    <tr>\n",
       "      <th>00e108dc39c087b4bc8688f14981c43a</th>\n",
       "      <td>59.919450</td>\n",
       "      <td>30.472345</td>\n",
       "    </tr>\n",
       "    <tr>\n",
       "      <th>00e7bdc359aab2339bda46e5012c3924</th>\n",
       "      <td>55.740963</td>\n",
       "      <td>38.017851</td>\n",
       "    </tr>\n",
       "    <tr>\n",
       "      <th>00eae1cb19bd4cd93afb45f33a47eb5f</th>\n",
       "      <td>45.034008</td>\n",
       "      <td>38.920837</td>\n",
       "    </tr>\n",
       "    <tr>\n",
       "      <th>010a71d229caacf8d1dcac135faa330e</th>\n",
       "      <td>55.787909</td>\n",
       "      <td>38.441952</td>\n",
       "    </tr>\n",
       "    <tr>\n",
       "      <th>0127a823ea33ea0f99653da2a4a9644b</th>\n",
       "      <td>55.976065</td>\n",
       "      <td>37.184658</td>\n",
       "    </tr>\n",
       "    <tr>\n",
       "      <th>0169fd91b58dda2f5da41713387d1796</th>\n",
       "      <td>59.839605</td>\n",
       "      <td>30.147112</td>\n",
       "    </tr>\n",
       "    <tr>\n",
       "      <th>016d025a5a86a6107203a05510576df2</th>\n",
       "      <td>55.718016</td>\n",
       "      <td>38.224271</td>\n",
       "    </tr>\n",
       "    <tr>\n",
       "      <th>01de43d8b6b902dd4db8666ef627896f</th>\n",
       "      <td>55.701122</td>\n",
       "      <td>37.764557</td>\n",
       "    </tr>\n",
       "    <tr>\n",
       "      <th>02019e68d3f86c650e65b656893be41c</th>\n",
       "      <td>60.008534</td>\n",
       "      <td>30.295842</td>\n",
       "    </tr>\n",
       "    <tr>\n",
       "      <th>022d855519a0be1f240cc232ea7e347f</th>\n",
       "      <td>59.841629</td>\n",
       "      <td>30.249470</td>\n",
       "    </tr>\n",
       "    <tr>\n",
       "      <th>02531adfdfc408128c89f14189976fb1</th>\n",
       "      <td>59.910370</td>\n",
       "      <td>30.478265</td>\n",
       "    </tr>\n",
       "    <tr>\n",
       "      <th>02554fd52979134a0a96ada73ef9cf0e</th>\n",
       "      <td>47.307906</td>\n",
       "      <td>39.721545</td>\n",
       "    </tr>\n",
       "    <tr>\n",
       "      <th>025a4784e92414e632cb6051cae03511</th>\n",
       "      <td>55.918910</td>\n",
       "      <td>49.313009</td>\n",
       "    </tr>\n",
       "    <tr>\n",
       "      <th>02699072547adb680af11b9173873c2c</th>\n",
       "      <td>55.722061</td>\n",
       "      <td>37.417577</td>\n",
       "    </tr>\n",
       "    <tr>\n",
       "      <th>02762e7ea5ad4c25ef0889d3b2d45e5a</th>\n",
       "      <td>55.901984</td>\n",
       "      <td>37.406133</td>\n",
       "    </tr>\n",
       "    <tr>\n",
       "      <th>027dfae815e70d791991d3dda6482de6</th>\n",
       "      <td>55.782724</td>\n",
       "      <td>37.720013</td>\n",
       "    </tr>\n",
       "    <tr>\n",
       "      <th>...</th>\n",
       "      <td>...</td>\n",
       "      <td>...</td>\n",
       "    </tr>\n",
       "    <tr>\n",
       "      <th>fa5a6e85fc7400e60026474e8bf500a2</th>\n",
       "      <td>45.067261</td>\n",
       "      <td>38.973563</td>\n",
       "    </tr>\n",
       "    <tr>\n",
       "      <th>fa83fd45a26477c38d604bb765c71d45</th>\n",
       "      <td>59.127062</td>\n",
       "      <td>37.969557</td>\n",
       "    </tr>\n",
       "    <tr>\n",
       "      <th>fa8d75231e538686ca32257d7d238c2b</th>\n",
       "      <td>55.798980</td>\n",
       "      <td>37.774767</td>\n",
       "    </tr>\n",
       "    <tr>\n",
       "      <th>fb27d6034a8a3940dfc4e22b4065a83b</th>\n",
       "      <td>55.920355</td>\n",
       "      <td>37.844062</td>\n",
       "    </tr>\n",
       "    <tr>\n",
       "      <th>fb437f6afddc8bc20eb52b3732f04c51</th>\n",
       "      <td>51.531501</td>\n",
       "      <td>46.024686</td>\n",
       "    </tr>\n",
       "    <tr>\n",
       "      <th>fb46517aebf0d9816a976d0b4277b252</th>\n",
       "      <td>59.830037</td>\n",
       "      <td>30.309036</td>\n",
       "    </tr>\n",
       "    <tr>\n",
       "      <th>fbfa44aac1595b5ba4d204d33d7f2bda</th>\n",
       "      <td>55.341605</td>\n",
       "      <td>86.062989</td>\n",
       "    </tr>\n",
       "    <tr>\n",
       "      <th>fbfaca662ccb43b7b6cc0a889d22a038</th>\n",
       "      <td>55.161761</td>\n",
       "      <td>60.155099</td>\n",
       "    </tr>\n",
       "    <tr>\n",
       "      <th>fc1e9f9be6614b7329817f047fa03276</th>\n",
       "      <td>59.127324</td>\n",
       "      <td>37.968515</td>\n",
       "    </tr>\n",
       "    <tr>\n",
       "      <th>fc7a5dfb1b5e0bb46aa690fbfb3b090d</th>\n",
       "      <td>55.622742</td>\n",
       "      <td>37.703739</td>\n",
       "    </tr>\n",
       "    <tr>\n",
       "      <th>fc937ecc432fc1d640e6e3fa67fce6d7</th>\n",
       "      <td>47.241183</td>\n",
       "      <td>39.818365</td>\n",
       "    </tr>\n",
       "    <tr>\n",
       "      <th>fca93dea059697f674d9ad113c4837fe</th>\n",
       "      <td>54.759875</td>\n",
       "      <td>83.104760</td>\n",
       "    </tr>\n",
       "    <tr>\n",
       "      <th>fcd8dd98389cf12386a91627efe7cc1d</th>\n",
       "      <td>55.830498</td>\n",
       "      <td>49.081449</td>\n",
       "    </tr>\n",
       "    <tr>\n",
       "      <th>fcecc2e08c82f26b1c6d8aa655a63813</th>\n",
       "      <td>59.853461</td>\n",
       "      <td>30.217633</td>\n",
       "    </tr>\n",
       "    <tr>\n",
       "      <th>fd43e5ad3d90899f000ca800372c04f9</th>\n",
       "      <td>55.604046</td>\n",
       "      <td>37.522903</td>\n",
       "    </tr>\n",
       "    <tr>\n",
       "      <th>fd4fe4e8f4e6569b0a0992f74238350c</th>\n",
       "      <td>59.726327</td>\n",
       "      <td>30.426842</td>\n",
       "    </tr>\n",
       "    <tr>\n",
       "      <th>fd910ac2ccfe347690dde1f69d548231</th>\n",
       "      <td>60.029520</td>\n",
       "      <td>30.330306</td>\n",
       "    </tr>\n",
       "    <tr>\n",
       "      <th>fddc6e77f6073759686db565ea6a03ff</th>\n",
       "      <td>56.313351</td>\n",
       "      <td>44.008796</td>\n",
       "    </tr>\n",
       "    <tr>\n",
       "      <th>fe1615cc7687b647b6c57e236e75e0aa</th>\n",
       "      <td>59.865777</td>\n",
       "      <td>30.320403</td>\n",
       "    </tr>\n",
       "    <tr>\n",
       "      <th>fe6e1a15f4bbf8aa57b066aa4d809f8c</th>\n",
       "      <td>43.589773</td>\n",
       "      <td>39.733794</td>\n",
       "    </tr>\n",
       "    <tr>\n",
       "      <th>fe921930d0bf2cc479e89fecdb538d29</th>\n",
       "      <td>59.879045</td>\n",
       "      <td>30.323902</td>\n",
       "    </tr>\n",
       "    <tr>\n",
       "      <th>fe93c0fe551686ad74c59e793114c856</th>\n",
       "      <td>55.415312</td>\n",
       "      <td>37.481085</td>\n",
       "    </tr>\n",
       "    <tr>\n",
       "      <th>fe9a80f2f7101885268d11784e78fc43</th>\n",
       "      <td>59.906762</td>\n",
       "      <td>30.318784</td>\n",
       "    </tr>\n",
       "    <tr>\n",
       "      <th>fecc1d9c65b9bc15bb6189d18e5a5bfa</th>\n",
       "      <td>55.819222</td>\n",
       "      <td>37.578975</td>\n",
       "    </tr>\n",
       "    <tr>\n",
       "      <th>fee43ee81b39dd40c179513a6e2c4a6f</th>\n",
       "      <td>55.742512</td>\n",
       "      <td>37.634184</td>\n",
       "    </tr>\n",
       "    <tr>\n",
       "      <th>fee49e06d1a358ab16bc11d40cb3c74f</th>\n",
       "      <td>57.148480</td>\n",
       "      <td>65.560145</td>\n",
       "    </tr>\n",
       "    <tr>\n",
       "      <th>fee85979bb637b3a0f41886bb77fde7a</th>\n",
       "      <td>55.851711</td>\n",
       "      <td>37.347891</td>\n",
       "    </tr>\n",
       "    <tr>\n",
       "      <th>ff70bf60dcdf63f99bf1af5af5d6c145</th>\n",
       "      <td>59.896994</td>\n",
       "      <td>29.085403</td>\n",
       "    </tr>\n",
       "    <tr>\n",
       "      <th>ff7e1c6c07469b28a07847540385e767</th>\n",
       "      <td>55.651446</td>\n",
       "      <td>37.656741</td>\n",
       "    </tr>\n",
       "    <tr>\n",
       "      <th>ffd097949a4a238296a7deadfb376cc0</th>\n",
       "      <td>55.785000</td>\n",
       "      <td>37.666000</td>\n",
       "    </tr>\n",
       "  </tbody>\n",
       "</table>\n",
       "<p>2000 rows × 2 columns</p>\n",
       "</div>"
      ],
      "text/plain": [
       "                                  _WORK_LAT_  WORK_LON_\n",
       "customer_id                                            \n",
       "0001f322716470bf9bfc1708f06f00fc   44.743860  37.724392\n",
       "0027a7618d97cc9fbda55fac457eaeb7   55.637990  37.222875\n",
       "003fa58414cc55531fcc38423bea8f8e   55.761793  37.771986\n",
       "005194bf7238734eb49c142258c5a263   51.712323  39.157982\n",
       "005d6f1ee97276374cefe4d0c65e9a89   55.770000  37.594000\n",
       "007525af0bc3ce72137b586a298f7b98   55.821298  37.370401\n",
       "0086aa6c4ebc89dd5a20eed71a625df1   55.737744  37.399083\n",
       "0089100aa33a523bd2e697dec264a71a   55.418701  37.831608\n",
       "008b0844115d2c7aafe51ccb3c4b2c2e   55.660844  37.573024\n",
       "009f05416473981238824dd50cad1b66   55.625292  37.600787\n",
       "00bae192d0b8e7ffef23542989424c61   55.657609  37.981638\n",
       "00c1df5f99c762e4d57cd15a7fb3f829   55.431000  37.546000\n",
       "00d7a8b5d813ba578b5d2e12ee533be5   43.597072  39.730400\n",
       "00e090fa8609abb31807380ec091630b   55.790429  37.732508\n",
       "00e108dc39c087b4bc8688f14981c43a   59.919450  30.472345\n",
       "00e7bdc359aab2339bda46e5012c3924   55.740963  38.017851\n",
       "00eae1cb19bd4cd93afb45f33a47eb5f   45.034008  38.920837\n",
       "010a71d229caacf8d1dcac135faa330e   55.787909  38.441952\n",
       "0127a823ea33ea0f99653da2a4a9644b   55.976065  37.184658\n",
       "0169fd91b58dda2f5da41713387d1796   59.839605  30.147112\n",
       "016d025a5a86a6107203a05510576df2   55.718016  38.224271\n",
       "01de43d8b6b902dd4db8666ef627896f   55.701122  37.764557\n",
       "02019e68d3f86c650e65b656893be41c   60.008534  30.295842\n",
       "022d855519a0be1f240cc232ea7e347f   59.841629  30.249470\n",
       "02531adfdfc408128c89f14189976fb1   59.910370  30.478265\n",
       "02554fd52979134a0a96ada73ef9cf0e   47.307906  39.721545\n",
       "025a4784e92414e632cb6051cae03511   55.918910  49.313009\n",
       "02699072547adb680af11b9173873c2c   55.722061  37.417577\n",
       "02762e7ea5ad4c25ef0889d3b2d45e5a   55.901984  37.406133\n",
       "027dfae815e70d791991d3dda6482de6   55.782724  37.720013\n",
       "...                                      ...        ...\n",
       "fa5a6e85fc7400e60026474e8bf500a2   45.067261  38.973563\n",
       "fa83fd45a26477c38d604bb765c71d45   59.127062  37.969557\n",
       "fa8d75231e538686ca32257d7d238c2b   55.798980  37.774767\n",
       "fb27d6034a8a3940dfc4e22b4065a83b   55.920355  37.844062\n",
       "fb437f6afddc8bc20eb52b3732f04c51   51.531501  46.024686\n",
       "fb46517aebf0d9816a976d0b4277b252   59.830037  30.309036\n",
       "fbfa44aac1595b5ba4d204d33d7f2bda   55.341605  86.062989\n",
       "fbfaca662ccb43b7b6cc0a889d22a038   55.161761  60.155099\n",
       "fc1e9f9be6614b7329817f047fa03276   59.127324  37.968515\n",
       "fc7a5dfb1b5e0bb46aa690fbfb3b090d   55.622742  37.703739\n",
       "fc937ecc432fc1d640e6e3fa67fce6d7   47.241183  39.818365\n",
       "fca93dea059697f674d9ad113c4837fe   54.759875  83.104760\n",
       "fcd8dd98389cf12386a91627efe7cc1d   55.830498  49.081449\n",
       "fcecc2e08c82f26b1c6d8aa655a63813   59.853461  30.217633\n",
       "fd43e5ad3d90899f000ca800372c04f9   55.604046  37.522903\n",
       "fd4fe4e8f4e6569b0a0992f74238350c   59.726327  30.426842\n",
       "fd910ac2ccfe347690dde1f69d548231   60.029520  30.330306\n",
       "fddc6e77f6073759686db565ea6a03ff   56.313351  44.008796\n",
       "fe1615cc7687b647b6c57e236e75e0aa   59.865777  30.320403\n",
       "fe6e1a15f4bbf8aa57b066aa4d809f8c   43.589773  39.733794\n",
       "fe921930d0bf2cc479e89fecdb538d29   59.879045  30.323902\n",
       "fe93c0fe551686ad74c59e793114c856   55.415312  37.481085\n",
       "fe9a80f2f7101885268d11784e78fc43   59.906762  30.318784\n",
       "fecc1d9c65b9bc15bb6189d18e5a5bfa   55.819222  37.578975\n",
       "fee43ee81b39dd40c179513a6e2c4a6f   55.742512  37.634184\n",
       "fee49e06d1a358ab16bc11d40cb3c74f   57.148480  65.560145\n",
       "fee85979bb637b3a0f41886bb77fde7a   55.851711  37.347891\n",
       "ff70bf60dcdf63f99bf1af5af5d6c145   59.896994  29.085403\n",
       "ff7e1c6c07469b28a07847540385e767   55.651446  37.656741\n",
       "ffd097949a4a238296a7deadfb376cc0   55.785000  37.666000\n",
       "\n",
       "[2000 rows x 2 columns]"
      ]
     },
     "execution_count": 196,
     "metadata": {},
     "output_type": "execute_result"
    }
   ],
   "source": [
    "preds_work"
   ]
  },
  {
   "cell_type": "code",
   "execution_count": 57,
   "metadata": {
    "collapsed": true,
    "scrolled": true
   },
   "outputs": [],
   "source": [
    "preds_home0 = predict(model_home, temp_test, cols, mt='lgb')\n",
    "preds_work0 = predict(model_work, temp_test, cols, mt='lgb')"
   ]
  },
  {
   "cell_type": "code",
   "execution_count": 58,
   "metadata": {
    "collapsed": true
   },
   "outputs": [],
   "source": [
    "preds_home = preds_home0.rename(columns={\"lat\":\"_HOME_LAT_\",\n",
    "                           \"lon\":\"HOME_LON_\"})\n",
    "preds_work = preds_work0.rename(columns={\"lat\":\"_WORK_LAT_\",\n",
    "                           \"lon\":\"WORK_LON_\"})"
   ]
  },
  {
   "cell_type": "code",
   "execution_count": 59,
   "metadata": {
    "collapsed": true
   },
   "outputs": [],
   "source": [
    "preds2 = pd.merge(preds_work, preds_home, left_index=True, right_index=True)"
   ]
  },
  {
   "cell_type": "code",
   "execution_count": 60,
   "metadata": {},
   "outputs": [
    {
     "data": {
      "text/plain": [
       "(9997, 4)"
      ]
     },
     "execution_count": 60,
     "metadata": {},
     "output_type": "execute_result"
    }
   ],
   "source": [
    "preds2.shape"
   ]
  },
  {
   "cell_type": "code",
   "execution_count": 61,
   "metadata": {
    "collapsed": true
   },
   "outputs": [],
   "source": [
    "submit = pd.read_csv(\"../input/sample.csv\")"
   ]
  },
  {
   "cell_type": "code",
   "execution_count": 62,
   "metadata": {
    "scrolled": true
   },
   "outputs": [
    {
     "data": {
      "text/html": [
       "<div>\n",
       "<style scoped>\n",
       "    .dataframe tbody tr th:only-of-type {\n",
       "        vertical-align: middle;\n",
       "    }\n",
       "\n",
       "    .dataframe tbody tr th {\n",
       "        vertical-align: top;\n",
       "    }\n",
       "\n",
       "    .dataframe thead th {\n",
       "        text-align: right;\n",
       "    }\n",
       "</style>\n",
       "<table border=\"1\" class=\"dataframe\">\n",
       "  <thead>\n",
       "    <tr style=\"text-align: right;\">\n",
       "      <th></th>\n",
       "      <th>_ID_</th>\n",
       "      <th>_HOME_LAT_</th>\n",
       "      <th>_HOME_LON_</th>\n",
       "      <th>_WORK_LAT_</th>\n",
       "      <th>_WORK_LON_</th>\n",
       "    </tr>\n",
       "  </thead>\n",
       "  <tbody>\n",
       "    <tr>\n",
       "      <th>0</th>\n",
       "      <td>00021683ccb416637fe9a4cd35e4606e</td>\n",
       "      <td>0</td>\n",
       "      <td>0</td>\n",
       "      <td>0</td>\n",
       "      <td>0</td>\n",
       "    </tr>\n",
       "    <tr>\n",
       "      <th>1</th>\n",
       "      <td>0002d0f8a642272b41c292c12ab6e602</td>\n",
       "      <td>0</td>\n",
       "      <td>0</td>\n",
       "      <td>0</td>\n",
       "      <td>0</td>\n",
       "    </tr>\n",
       "    <tr>\n",
       "      <th>2</th>\n",
       "      <td>0004d182d9fede3ba2534b2d5e5ad27e</td>\n",
       "      <td>0</td>\n",
       "      <td>0</td>\n",
       "      <td>0</td>\n",
       "      <td>0</td>\n",
       "    </tr>\n",
       "    <tr>\n",
       "      <th>3</th>\n",
       "      <td>0008c2445518c9392cb356c5c3db3392</td>\n",
       "      <td>0</td>\n",
       "      <td>0</td>\n",
       "      <td>0</td>\n",
       "      <td>0</td>\n",
       "    </tr>\n",
       "    <tr>\n",
       "      <th>4</th>\n",
       "      <td>000b373cc4969c0be8e0933c08da67e1</td>\n",
       "      <td>0</td>\n",
       "      <td>0</td>\n",
       "      <td>0</td>\n",
       "      <td>0</td>\n",
       "    </tr>\n",
       "    <tr>\n",
       "      <th>5</th>\n",
       "      <td>000c589e94c95984721de4b2bfb9ee4e</td>\n",
       "      <td>0</td>\n",
       "      <td>0</td>\n",
       "      <td>0</td>\n",
       "      <td>0</td>\n",
       "    </tr>\n",
       "    <tr>\n",
       "      <th>6</th>\n",
       "      <td>001611e3ac051a0ec91c88bbd9dbeb5a</td>\n",
       "      <td>0</td>\n",
       "      <td>0</td>\n",
       "      <td>0</td>\n",
       "      <td>0</td>\n",
       "    </tr>\n",
       "    <tr>\n",
       "      <th>7</th>\n",
       "      <td>001691ae3885e80add35148a01e75206</td>\n",
       "      <td>0</td>\n",
       "      <td>0</td>\n",
       "      <td>0</td>\n",
       "      <td>0</td>\n",
       "    </tr>\n",
       "    <tr>\n",
       "      <th>8</th>\n",
       "      <td>002044159304738ea7e3598131809851</td>\n",
       "      <td>0</td>\n",
       "      <td>0</td>\n",
       "      <td>0</td>\n",
       "      <td>0</td>\n",
       "    </tr>\n",
       "    <tr>\n",
       "      <th>9</th>\n",
       "      <td>0026319faa345a573522f0a04f5c55bb</td>\n",
       "      <td>0</td>\n",
       "      <td>0</td>\n",
       "      <td>0</td>\n",
       "      <td>0</td>\n",
       "    </tr>\n",
       "    <tr>\n",
       "      <th>10</th>\n",
       "      <td>0029d9be3692701efe66741fa74a8f8b</td>\n",
       "      <td>0</td>\n",
       "      <td>0</td>\n",
       "      <td>0</td>\n",
       "      <td>0</td>\n",
       "    </tr>\n",
       "    <tr>\n",
       "      <th>11</th>\n",
       "      <td>002c40ec938e91de248400dec824bd49</td>\n",
       "      <td>0</td>\n",
       "      <td>0</td>\n",
       "      <td>0</td>\n",
       "      <td>0</td>\n",
       "    </tr>\n",
       "    <tr>\n",
       "      <th>12</th>\n",
       "      <td>00317c648bc11161417b342ad480e724</td>\n",
       "      <td>0</td>\n",
       "      <td>0</td>\n",
       "      <td>0</td>\n",
       "      <td>0</td>\n",
       "    </tr>\n",
       "    <tr>\n",
       "      <th>13</th>\n",
       "      <td>0038ea686d27899b0942409157d04ff2</td>\n",
       "      <td>0</td>\n",
       "      <td>0</td>\n",
       "      <td>0</td>\n",
       "      <td>0</td>\n",
       "    </tr>\n",
       "    <tr>\n",
       "      <th>14</th>\n",
       "      <td>003bc1334379d480c7e5f28240dc40d9</td>\n",
       "      <td>0</td>\n",
       "      <td>0</td>\n",
       "      <td>0</td>\n",
       "      <td>0</td>\n",
       "    </tr>\n",
       "    <tr>\n",
       "      <th>15</th>\n",
       "      <td>00450ac1c22c9ee6dda590ff5366236c</td>\n",
       "      <td>0</td>\n",
       "      <td>0</td>\n",
       "      <td>0</td>\n",
       "      <td>0</td>\n",
       "    </tr>\n",
       "    <tr>\n",
       "      <th>16</th>\n",
       "      <td>00509465377a24375b276c5da9a67fa5</td>\n",
       "      <td>0</td>\n",
       "      <td>0</td>\n",
       "      <td>0</td>\n",
       "      <td>0</td>\n",
       "    </tr>\n",
       "    <tr>\n",
       "      <th>17</th>\n",
       "      <td>005b206d0ffec59e249e6f7adc1b2e83</td>\n",
       "      <td>0</td>\n",
       "      <td>0</td>\n",
       "      <td>0</td>\n",
       "      <td>0</td>\n",
       "    </tr>\n",
       "    <tr>\n",
       "      <th>18</th>\n",
       "      <td>0069673252af134ecf00854d7ecaed5d</td>\n",
       "      <td>0</td>\n",
       "      <td>0</td>\n",
       "      <td>0</td>\n",
       "      <td>0</td>\n",
       "    </tr>\n",
       "    <tr>\n",
       "      <th>19</th>\n",
       "      <td>007c458cded5ba3b7b02fcfe8724e80b</td>\n",
       "      <td>0</td>\n",
       "      <td>0</td>\n",
       "      <td>0</td>\n",
       "      <td>0</td>\n",
       "    </tr>\n",
       "    <tr>\n",
       "      <th>20</th>\n",
       "      <td>007cf1e85db00eea3a958667b7e32fc9</td>\n",
       "      <td>0</td>\n",
       "      <td>0</td>\n",
       "      <td>0</td>\n",
       "      <td>0</td>\n",
       "    </tr>\n",
       "    <tr>\n",
       "      <th>21</th>\n",
       "      <td>0088f5bf466ccf990e0773fd3255e887</td>\n",
       "      <td>0</td>\n",
       "      <td>0</td>\n",
       "      <td>0</td>\n",
       "      <td>0</td>\n",
       "    </tr>\n",
       "    <tr>\n",
       "      <th>22</th>\n",
       "      <td>008c9f725cf88093477cc5f7278a2351</td>\n",
       "      <td>0</td>\n",
       "      <td>0</td>\n",
       "      <td>0</td>\n",
       "      <td>0</td>\n",
       "    </tr>\n",
       "    <tr>\n",
       "      <th>23</th>\n",
       "      <td>008fe6ff2d4c530aee50c0446d55790e</td>\n",
       "      <td>0</td>\n",
       "      <td>0</td>\n",
       "      <td>0</td>\n",
       "      <td>0</td>\n",
       "    </tr>\n",
       "    <tr>\n",
       "      <th>24</th>\n",
       "      <td>00963fad786043b96ac74a1fca0a2da6</td>\n",
       "      <td>0</td>\n",
       "      <td>0</td>\n",
       "      <td>0</td>\n",
       "      <td>0</td>\n",
       "    </tr>\n",
       "    <tr>\n",
       "      <th>25</th>\n",
       "      <td>00a0973ba20bf9d1daafe1644b20dc8b</td>\n",
       "      <td>0</td>\n",
       "      <td>0</td>\n",
       "      <td>0</td>\n",
       "      <td>0</td>\n",
       "    </tr>\n",
       "    <tr>\n",
       "      <th>26</th>\n",
       "      <td>00a9c3a172cfc6d2e0198da4c539b3c9</td>\n",
       "      <td>0</td>\n",
       "      <td>0</td>\n",
       "      <td>0</td>\n",
       "      <td>0</td>\n",
       "    </tr>\n",
       "    <tr>\n",
       "      <th>27</th>\n",
       "      <td>00ad61328ea4906b9354155ca96227a3</td>\n",
       "      <td>0</td>\n",
       "      <td>0</td>\n",
       "      <td>0</td>\n",
       "      <td>0</td>\n",
       "    </tr>\n",
       "    <tr>\n",
       "      <th>28</th>\n",
       "      <td>00baa0945c9a5905483c623286241204</td>\n",
       "      <td>0</td>\n",
       "      <td>0</td>\n",
       "      <td>0</td>\n",
       "      <td>0</td>\n",
       "    </tr>\n",
       "    <tr>\n",
       "      <th>29</th>\n",
       "      <td>00cb489f5903eed7c454b14f15b1144d</td>\n",
       "      <td>0</td>\n",
       "      <td>0</td>\n",
       "      <td>0</td>\n",
       "      <td>0</td>\n",
       "    </tr>\n",
       "    <tr>\n",
       "      <th>...</th>\n",
       "      <td>...</td>\n",
       "      <td>...</td>\n",
       "      <td>...</td>\n",
       "      <td>...</td>\n",
       "      <td>...</td>\n",
       "    </tr>\n",
       "    <tr>\n",
       "      <th>9967</th>\n",
       "      <td>feaff0da0d2f44bc19db7bf6630d549d</td>\n",
       "      <td>0</td>\n",
       "      <td>0</td>\n",
       "      <td>0</td>\n",
       "      <td>0</td>\n",
       "    </tr>\n",
       "    <tr>\n",
       "      <th>9968</th>\n",
       "      <td>feb2517a3f2d5cce5afb8dc451ee9b5a</td>\n",
       "      <td>0</td>\n",
       "      <td>0</td>\n",
       "      <td>0</td>\n",
       "      <td>0</td>\n",
       "    </tr>\n",
       "    <tr>\n",
       "      <th>9969</th>\n",
       "      <td>feba211ccffd5d8854569f577aef2beb</td>\n",
       "      <td>0</td>\n",
       "      <td>0</td>\n",
       "      <td>0</td>\n",
       "      <td>0</td>\n",
       "    </tr>\n",
       "    <tr>\n",
       "      <th>9970</th>\n",
       "      <td>fec7403873fc7f9130ea02642846a260</td>\n",
       "      <td>0</td>\n",
       "      <td>0</td>\n",
       "      <td>0</td>\n",
       "      <td>0</td>\n",
       "    </tr>\n",
       "    <tr>\n",
       "      <th>9971</th>\n",
       "      <td>fecb5caf46361de97a72e67796a272fb</td>\n",
       "      <td>0</td>\n",
       "      <td>0</td>\n",
       "      <td>0</td>\n",
       "      <td>0</td>\n",
       "    </tr>\n",
       "    <tr>\n",
       "      <th>9972</th>\n",
       "      <td>fed04ec510d74a5d214aa8bb8afef7f3</td>\n",
       "      <td>0</td>\n",
       "      <td>0</td>\n",
       "      <td>0</td>\n",
       "      <td>0</td>\n",
       "    </tr>\n",
       "    <tr>\n",
       "      <th>9973</th>\n",
       "      <td>feec90445a76499d0a91d0dcce123352</td>\n",
       "      <td>0</td>\n",
       "      <td>0</td>\n",
       "      <td>0</td>\n",
       "      <td>0</td>\n",
       "    </tr>\n",
       "    <tr>\n",
       "      <th>9974</th>\n",
       "      <td>feef32024fc30be36d38516a52c2b535</td>\n",
       "      <td>0</td>\n",
       "      <td>0</td>\n",
       "      <td>0</td>\n",
       "      <td>0</td>\n",
       "    </tr>\n",
       "    <tr>\n",
       "      <th>9975</th>\n",
       "      <td>fef060b4095822e1562353916bd5d69f</td>\n",
       "      <td>0</td>\n",
       "      <td>0</td>\n",
       "      <td>0</td>\n",
       "      <td>0</td>\n",
       "    </tr>\n",
       "    <tr>\n",
       "      <th>9976</th>\n",
       "      <td>fef2f0ad49783107668e85ef759480ce</td>\n",
       "      <td>0</td>\n",
       "      <td>0</td>\n",
       "      <td>0</td>\n",
       "      <td>0</td>\n",
       "    </tr>\n",
       "    <tr>\n",
       "      <th>9977</th>\n",
       "      <td>feffc3a722aeeea4c454e5177a4e750c</td>\n",
       "      <td>0</td>\n",
       "      <td>0</td>\n",
       "      <td>0</td>\n",
       "      <td>0</td>\n",
       "    </tr>\n",
       "    <tr>\n",
       "      <th>9978</th>\n",
       "      <td>ff20e8944b38f4924aa121b2f17f1324</td>\n",
       "      <td>0</td>\n",
       "      <td>0</td>\n",
       "      <td>0</td>\n",
       "      <td>0</td>\n",
       "    </tr>\n",
       "    <tr>\n",
       "      <th>9979</th>\n",
       "      <td>ff288febd967e5f7c187e69162221258</td>\n",
       "      <td>0</td>\n",
       "      <td>0</td>\n",
       "      <td>0</td>\n",
       "      <td>0</td>\n",
       "    </tr>\n",
       "    <tr>\n",
       "      <th>9980</th>\n",
       "      <td>ff40bda3a743a512988a8386e96fc5ba</td>\n",
       "      <td>0</td>\n",
       "      <td>0</td>\n",
       "      <td>0</td>\n",
       "      <td>0</td>\n",
       "    </tr>\n",
       "    <tr>\n",
       "      <th>9981</th>\n",
       "      <td>ff4e78a42acf6bbb27d1678dc0f0e5a1</td>\n",
       "      <td>0</td>\n",
       "      <td>0</td>\n",
       "      <td>0</td>\n",
       "      <td>0</td>\n",
       "    </tr>\n",
       "    <tr>\n",
       "      <th>9982</th>\n",
       "      <td>ff51d9888921dc6e5f74862dc0e0f250</td>\n",
       "      <td>0</td>\n",
       "      <td>0</td>\n",
       "      <td>0</td>\n",
       "      <td>0</td>\n",
       "    </tr>\n",
       "    <tr>\n",
       "      <th>9983</th>\n",
       "      <td>ff578c093f6baff43818f61a52a6d03d</td>\n",
       "      <td>0</td>\n",
       "      <td>0</td>\n",
       "      <td>0</td>\n",
       "      <td>0</td>\n",
       "    </tr>\n",
       "    <tr>\n",
       "      <th>9984</th>\n",
       "      <td>ff652e6110b6e6ce92b46c6c9a3fa28b</td>\n",
       "      <td>0</td>\n",
       "      <td>0</td>\n",
       "      <td>0</td>\n",
       "      <td>0</td>\n",
       "    </tr>\n",
       "    <tr>\n",
       "      <th>9985</th>\n",
       "      <td>ff6db3bf1eb82426c894b05ae64d68a1</td>\n",
       "      <td>0</td>\n",
       "      <td>0</td>\n",
       "      <td>0</td>\n",
       "      <td>0</td>\n",
       "    </tr>\n",
       "    <tr>\n",
       "      <th>9986</th>\n",
       "      <td>ff6e96c6e3e5f6bfea831834c49eca2a</td>\n",
       "      <td>0</td>\n",
       "      <td>0</td>\n",
       "      <td>0</td>\n",
       "      <td>0</td>\n",
       "    </tr>\n",
       "    <tr>\n",
       "      <th>9987</th>\n",
       "      <td>ff78fca768ff08120c0c68bd26c719de</td>\n",
       "      <td>0</td>\n",
       "      <td>0</td>\n",
       "      <td>0</td>\n",
       "      <td>0</td>\n",
       "    </tr>\n",
       "    <tr>\n",
       "      <th>9988</th>\n",
       "      <td>ff9becfaf9e022b46fe69d10c8060776</td>\n",
       "      <td>0</td>\n",
       "      <td>0</td>\n",
       "      <td>0</td>\n",
       "      <td>0</td>\n",
       "    </tr>\n",
       "    <tr>\n",
       "      <th>9989</th>\n",
       "      <td>ffa959b073a8bde17f3b8b4b25409b69</td>\n",
       "      <td>0</td>\n",
       "      <td>0</td>\n",
       "      <td>0</td>\n",
       "      <td>0</td>\n",
       "    </tr>\n",
       "    <tr>\n",
       "      <th>9990</th>\n",
       "      <td>ffad3c72297eb6d9a4b3672cd731396c</td>\n",
       "      <td>0</td>\n",
       "      <td>0</td>\n",
       "      <td>0</td>\n",
       "      <td>0</td>\n",
       "    </tr>\n",
       "    <tr>\n",
       "      <th>9991</th>\n",
       "      <td>ffb35ffc8a90ba9dfff70be24513010a</td>\n",
       "      <td>0</td>\n",
       "      <td>0</td>\n",
       "      <td>0</td>\n",
       "      <td>0</td>\n",
       "    </tr>\n",
       "    <tr>\n",
       "      <th>9992</th>\n",
       "      <td>ffb8fcf3f9d17ac3197b9e27cb757539</td>\n",
       "      <td>0</td>\n",
       "      <td>0</td>\n",
       "      <td>0</td>\n",
       "      <td>0</td>\n",
       "    </tr>\n",
       "    <tr>\n",
       "      <th>9993</th>\n",
       "      <td>ffba001147dc6140d84070b7bc9479df</td>\n",
       "      <td>0</td>\n",
       "      <td>0</td>\n",
       "      <td>0</td>\n",
       "      <td>0</td>\n",
       "    </tr>\n",
       "    <tr>\n",
       "      <th>9994</th>\n",
       "      <td>ffd6622f135e264da543a541756e63a9</td>\n",
       "      <td>0</td>\n",
       "      <td>0</td>\n",
       "      <td>0</td>\n",
       "      <td>0</td>\n",
       "    </tr>\n",
       "    <tr>\n",
       "      <th>9995</th>\n",
       "      <td>ffe6875cf2566b5f273fc49f3c064031</td>\n",
       "      <td>0</td>\n",
       "      <td>0</td>\n",
       "      <td>0</td>\n",
       "      <td>0</td>\n",
       "    </tr>\n",
       "    <tr>\n",
       "      <th>9996</th>\n",
       "      <td>ffebf4ea02c72183128d966721976ec9</td>\n",
       "      <td>0</td>\n",
       "      <td>0</td>\n",
       "      <td>0</td>\n",
       "      <td>0</td>\n",
       "    </tr>\n",
       "  </tbody>\n",
       "</table>\n",
       "<p>9997 rows × 5 columns</p>\n",
       "</div>"
      ],
      "text/plain": [
       "                                  _ID_  _HOME_LAT_  _HOME_LON_  _WORK_LAT_  \\\n",
       "0     00021683ccb416637fe9a4cd35e4606e           0           0           0   \n",
       "1     0002d0f8a642272b41c292c12ab6e602           0           0           0   \n",
       "2     0004d182d9fede3ba2534b2d5e5ad27e           0           0           0   \n",
       "3     0008c2445518c9392cb356c5c3db3392           0           0           0   \n",
       "4     000b373cc4969c0be8e0933c08da67e1           0           0           0   \n",
       "5     000c589e94c95984721de4b2bfb9ee4e           0           0           0   \n",
       "6     001611e3ac051a0ec91c88bbd9dbeb5a           0           0           0   \n",
       "7     001691ae3885e80add35148a01e75206           0           0           0   \n",
       "8     002044159304738ea7e3598131809851           0           0           0   \n",
       "9     0026319faa345a573522f0a04f5c55bb           0           0           0   \n",
       "10    0029d9be3692701efe66741fa74a8f8b           0           0           0   \n",
       "11    002c40ec938e91de248400dec824bd49           0           0           0   \n",
       "12    00317c648bc11161417b342ad480e724           0           0           0   \n",
       "13    0038ea686d27899b0942409157d04ff2           0           0           0   \n",
       "14    003bc1334379d480c7e5f28240dc40d9           0           0           0   \n",
       "15    00450ac1c22c9ee6dda590ff5366236c           0           0           0   \n",
       "16    00509465377a24375b276c5da9a67fa5           0           0           0   \n",
       "17    005b206d0ffec59e249e6f7adc1b2e83           0           0           0   \n",
       "18    0069673252af134ecf00854d7ecaed5d           0           0           0   \n",
       "19    007c458cded5ba3b7b02fcfe8724e80b           0           0           0   \n",
       "20    007cf1e85db00eea3a958667b7e32fc9           0           0           0   \n",
       "21    0088f5bf466ccf990e0773fd3255e887           0           0           0   \n",
       "22    008c9f725cf88093477cc5f7278a2351           0           0           0   \n",
       "23    008fe6ff2d4c530aee50c0446d55790e           0           0           0   \n",
       "24    00963fad786043b96ac74a1fca0a2da6           0           0           0   \n",
       "25    00a0973ba20bf9d1daafe1644b20dc8b           0           0           0   \n",
       "26    00a9c3a172cfc6d2e0198da4c539b3c9           0           0           0   \n",
       "27    00ad61328ea4906b9354155ca96227a3           0           0           0   \n",
       "28    00baa0945c9a5905483c623286241204           0           0           0   \n",
       "29    00cb489f5903eed7c454b14f15b1144d           0           0           0   \n",
       "...                                ...         ...         ...         ...   \n",
       "9967  feaff0da0d2f44bc19db7bf6630d549d           0           0           0   \n",
       "9968  feb2517a3f2d5cce5afb8dc451ee9b5a           0           0           0   \n",
       "9969  feba211ccffd5d8854569f577aef2beb           0           0           0   \n",
       "9970  fec7403873fc7f9130ea02642846a260           0           0           0   \n",
       "9971  fecb5caf46361de97a72e67796a272fb           0           0           0   \n",
       "9972  fed04ec510d74a5d214aa8bb8afef7f3           0           0           0   \n",
       "9973  feec90445a76499d0a91d0dcce123352           0           0           0   \n",
       "9974  feef32024fc30be36d38516a52c2b535           0           0           0   \n",
       "9975  fef060b4095822e1562353916bd5d69f           0           0           0   \n",
       "9976  fef2f0ad49783107668e85ef759480ce           0           0           0   \n",
       "9977  feffc3a722aeeea4c454e5177a4e750c           0           0           0   \n",
       "9978  ff20e8944b38f4924aa121b2f17f1324           0           0           0   \n",
       "9979  ff288febd967e5f7c187e69162221258           0           0           0   \n",
       "9980  ff40bda3a743a512988a8386e96fc5ba           0           0           0   \n",
       "9981  ff4e78a42acf6bbb27d1678dc0f0e5a1           0           0           0   \n",
       "9982  ff51d9888921dc6e5f74862dc0e0f250           0           0           0   \n",
       "9983  ff578c093f6baff43818f61a52a6d03d           0           0           0   \n",
       "9984  ff652e6110b6e6ce92b46c6c9a3fa28b           0           0           0   \n",
       "9985  ff6db3bf1eb82426c894b05ae64d68a1           0           0           0   \n",
       "9986  ff6e96c6e3e5f6bfea831834c49eca2a           0           0           0   \n",
       "9987  ff78fca768ff08120c0c68bd26c719de           0           0           0   \n",
       "9988  ff9becfaf9e022b46fe69d10c8060776           0           0           0   \n",
       "9989  ffa959b073a8bde17f3b8b4b25409b69           0           0           0   \n",
       "9990  ffad3c72297eb6d9a4b3672cd731396c           0           0           0   \n",
       "9991  ffb35ffc8a90ba9dfff70be24513010a           0           0           0   \n",
       "9992  ffb8fcf3f9d17ac3197b9e27cb757539           0           0           0   \n",
       "9993  ffba001147dc6140d84070b7bc9479df           0           0           0   \n",
       "9994  ffd6622f135e264da543a541756e63a9           0           0           0   \n",
       "9995  ffe6875cf2566b5f273fc49f3c064031           0           0           0   \n",
       "9996  ffebf4ea02c72183128d966721976ec9           0           0           0   \n",
       "\n",
       "      _WORK_LON_  \n",
       "0              0  \n",
       "1              0  \n",
       "2              0  \n",
       "3              0  \n",
       "4              0  \n",
       "5              0  \n",
       "6              0  \n",
       "7              0  \n",
       "8              0  \n",
       "9              0  \n",
       "10             0  \n",
       "11             0  \n",
       "12             0  \n",
       "13             0  \n",
       "14             0  \n",
       "15             0  \n",
       "16             0  \n",
       "17             0  \n",
       "18             0  \n",
       "19             0  \n",
       "20             0  \n",
       "21             0  \n",
       "22             0  \n",
       "23             0  \n",
       "24             0  \n",
       "25             0  \n",
       "26             0  \n",
       "27             0  \n",
       "28             0  \n",
       "29             0  \n",
       "...          ...  \n",
       "9967           0  \n",
       "9968           0  \n",
       "9969           0  \n",
       "9970           0  \n",
       "9971           0  \n",
       "9972           0  \n",
       "9973           0  \n",
       "9974           0  \n",
       "9975           0  \n",
       "9976           0  \n",
       "9977           0  \n",
       "9978           0  \n",
       "9979           0  \n",
       "9980           0  \n",
       "9981           0  \n",
       "9982           0  \n",
       "9983           0  \n",
       "9984           0  \n",
       "9985           0  \n",
       "9986           0  \n",
       "9987           0  \n",
       "9988           0  \n",
       "9989           0  \n",
       "9990           0  \n",
       "9991           0  \n",
       "9992           0  \n",
       "9993           0  \n",
       "9994           0  \n",
       "9995           0  \n",
       "9996           0  \n",
       "\n",
       "[9997 rows x 5 columns]"
      ]
     },
     "execution_count": 62,
     "metadata": {},
     "output_type": "execute_result"
    }
   ],
   "source": [
    "submit"
   ]
  },
  {
   "cell_type": "code",
   "execution_count": 63,
   "metadata": {
    "collapsed": true
   },
   "outputs": [],
   "source": [
    "preds2 = preds2.loc[submit._ID_]"
   ]
  },
  {
   "cell_type": "code",
   "execution_count": 64,
   "metadata": {
    "collapsed": true
   },
   "outputs": [],
   "source": [
    "preds2.index.name=\"_ID_\""
   ]
  },
  {
   "cell_type": "code",
   "execution_count": 65,
   "metadata": {
    "scrolled": true
   },
   "outputs": [
    {
     "data": {
      "text/html": [
       "<div>\n",
       "<style scoped>\n",
       "    .dataframe tbody tr th:only-of-type {\n",
       "        vertical-align: middle;\n",
       "    }\n",
       "\n",
       "    .dataframe tbody tr th {\n",
       "        vertical-align: top;\n",
       "    }\n",
       "\n",
       "    .dataframe thead th {\n",
       "        text-align: right;\n",
       "    }\n",
       "</style>\n",
       "<table border=\"1\" class=\"dataframe\">\n",
       "  <thead>\n",
       "    <tr style=\"text-align: right;\">\n",
       "      <th></th>\n",
       "      <th>_WORK_LAT_</th>\n",
       "      <th>WORK_LON_</th>\n",
       "      <th>_HOME_LAT_</th>\n",
       "      <th>HOME_LON_</th>\n",
       "    </tr>\n",
       "    <tr>\n",
       "      <th>_ID_</th>\n",
       "      <th></th>\n",
       "      <th></th>\n",
       "      <th></th>\n",
       "      <th></th>\n",
       "    </tr>\n",
       "  </thead>\n",
       "  <tbody>\n",
       "    <tr>\n",
       "      <th>00021683ccb416637fe9a4cd35e4606e</th>\n",
       "      <td>55.023355</td>\n",
       "      <td>82.914724</td>\n",
       "      <td>55.038211</td>\n",
       "      <td>82.977366</td>\n",
       "    </tr>\n",
       "    <tr>\n",
       "      <th>0002d0f8a642272b41c292c12ab6e602</th>\n",
       "      <td>44.036593</td>\n",
       "      <td>42.855629</td>\n",
       "      <td>44.036593</td>\n",
       "      <td>42.855629</td>\n",
       "    </tr>\n",
       "    <tr>\n",
       "      <th>0004d182d9fede3ba2534b2d5e5ad27e</th>\n",
       "      <td>43.585000</td>\n",
       "      <td>39.723000</td>\n",
       "      <td>43.586274</td>\n",
       "      <td>39.724272</td>\n",
       "    </tr>\n",
       "    <tr>\n",
       "      <th>0008c2445518c9392cb356c5c3db3392</th>\n",
       "      <td>51.528755</td>\n",
       "      <td>46.040150</td>\n",
       "      <td>51.529419</td>\n",
       "      <td>46.038521</td>\n",
       "    </tr>\n",
       "    <tr>\n",
       "      <th>000b373cc4969c0be8e0933c08da67e1</th>\n",
       "      <td>56.247688</td>\n",
       "      <td>43.463735</td>\n",
       "      <td>56.232037</td>\n",
       "      <td>43.458107</td>\n",
       "    </tr>\n",
       "    <tr>\n",
       "      <th>000c589e94c95984721de4b2bfb9ee4e</th>\n",
       "      <td>54.496312</td>\n",
       "      <td>37.062297</td>\n",
       "      <td>54.506758</td>\n",
       "      <td>37.066789</td>\n",
       "    </tr>\n",
       "    <tr>\n",
       "      <th>001611e3ac051a0ec91c88bbd9dbeb5a</th>\n",
       "      <td>56.999000</td>\n",
       "      <td>40.960000</td>\n",
       "      <td>56.963687</td>\n",
       "      <td>40.988294</td>\n",
       "    </tr>\n",
       "    <tr>\n",
       "      <th>001691ae3885e80add35148a01e75206</th>\n",
       "      <td>59.966977</td>\n",
       "      <td>30.310077</td>\n",
       "      <td>60.010055</td>\n",
       "      <td>30.261636</td>\n",
       "    </tr>\n",
       "    <tr>\n",
       "      <th>002044159304738ea7e3598131809851</th>\n",
       "      <td>53.570000</td>\n",
       "      <td>49.253000</td>\n",
       "      <td>53.518092</td>\n",
       "      <td>49.271210</td>\n",
       "    </tr>\n",
       "    <tr>\n",
       "      <th>0026319faa345a573522f0a04f5c55bb</th>\n",
       "      <td>54.647549</td>\n",
       "      <td>39.647358</td>\n",
       "      <td>54.647549</td>\n",
       "      <td>39.647358</td>\n",
       "    </tr>\n",
       "    <tr>\n",
       "      <th>0029d9be3692701efe66741fa74a8f8b</th>\n",
       "      <td>55.433000</td>\n",
       "      <td>37.549000</td>\n",
       "      <td>55.400021</td>\n",
       "      <td>37.558888</td>\n",
       "    </tr>\n",
       "    <tr>\n",
       "      <th>002c40ec938e91de248400dec824bd49</th>\n",
       "      <td>55.797087</td>\n",
       "      <td>37.537585</td>\n",
       "      <td>55.748714</td>\n",
       "      <td>37.559746</td>\n",
       "    </tr>\n",
       "    <tr>\n",
       "      <th>00317c648bc11161417b342ad480e724</th>\n",
       "      <td>59.848903</td>\n",
       "      <td>30.145301</td>\n",
       "      <td>59.850554</td>\n",
       "      <td>30.226639</td>\n",
       "    </tr>\n",
       "    <tr>\n",
       "      <th>0038ea686d27899b0942409157d04ff2</th>\n",
       "      <td>61.254108</td>\n",
       "      <td>73.433025</td>\n",
       "      <td>61.243209</td>\n",
       "      <td>73.436727</td>\n",
       "    </tr>\n",
       "    <tr>\n",
       "      <th>003bc1334379d480c7e5f28240dc40d9</th>\n",
       "      <td>53.352015</td>\n",
       "      <td>58.976839</td>\n",
       "      <td>53.352015</td>\n",
       "      <td>58.976839</td>\n",
       "    </tr>\n",
       "    <tr>\n",
       "      <th>00450ac1c22c9ee6dda590ff5366236c</th>\n",
       "      <td>51.667228</td>\n",
       "      <td>39.191826</td>\n",
       "      <td>51.687997</td>\n",
       "      <td>39.197385</td>\n",
       "    </tr>\n",
       "    <tr>\n",
       "      <th>00509465377a24375b276c5da9a67fa5</th>\n",
       "      <td>60.038426</td>\n",
       "      <td>30.408118</td>\n",
       "      <td>60.031993</td>\n",
       "      <td>30.420635</td>\n",
       "    </tr>\n",
       "    <tr>\n",
       "      <th>005b206d0ffec59e249e6f7adc1b2e83</th>\n",
       "      <td>59.907885</td>\n",
       "      <td>30.513038</td>\n",
       "      <td>59.902460</td>\n",
       "      <td>30.510865</td>\n",
       "    </tr>\n",
       "    <tr>\n",
       "      <th>0069673252af134ecf00854d7ecaed5d</th>\n",
       "      <td>59.136248</td>\n",
       "      <td>37.875068</td>\n",
       "      <td>59.127918</td>\n",
       "      <td>37.965144</td>\n",
       "    </tr>\n",
       "    <tr>\n",
       "      <th>007c458cded5ba3b7b02fcfe8724e80b</th>\n",
       "      <td>54.669000</td>\n",
       "      <td>55.931000</td>\n",
       "      <td>54.721467</td>\n",
       "      <td>55.986032</td>\n",
       "    </tr>\n",
       "    <tr>\n",
       "      <th>007cf1e85db00eea3a958667b7e32fc9</th>\n",
       "      <td>55.767000</td>\n",
       "      <td>37.601000</td>\n",
       "      <td>55.722974</td>\n",
       "      <td>37.672868</td>\n",
       "    </tr>\n",
       "    <tr>\n",
       "      <th>0088f5bf466ccf990e0773fd3255e887</th>\n",
       "      <td>60.002173</td>\n",
       "      <td>30.272934</td>\n",
       "      <td>60.051831</td>\n",
       "      <td>30.363345</td>\n",
       "    </tr>\n",
       "    <tr>\n",
       "      <th>008c9f725cf88093477cc5f7278a2351</th>\n",
       "      <td>56.306000</td>\n",
       "      <td>44.080000</td>\n",
       "      <td>56.298490</td>\n",
       "      <td>44.079637</td>\n",
       "    </tr>\n",
       "    <tr>\n",
       "      <th>008fe6ff2d4c530aee50c0446d55790e</th>\n",
       "      <td>59.851000</td>\n",
       "      <td>30.351000</td>\n",
       "      <td>59.856052</td>\n",
       "      <td>30.338559</td>\n",
       "    </tr>\n",
       "    <tr>\n",
       "      <th>00963fad786043b96ac74a1fca0a2da6</th>\n",
       "      <td>45.060514</td>\n",
       "      <td>38.962269</td>\n",
       "      <td>45.097782</td>\n",
       "      <td>38.974781</td>\n",
       "    </tr>\n",
       "    <tr>\n",
       "      <th>00a0973ba20bf9d1daafe1644b20dc8b</th>\n",
       "      <td>55.164000</td>\n",
       "      <td>61.415000</td>\n",
       "      <td>55.175501</td>\n",
       "      <td>61.427521</td>\n",
       "    </tr>\n",
       "    <tr>\n",
       "      <th>00a9c3a172cfc6d2e0198da4c539b3c9</th>\n",
       "      <td>55.419730</td>\n",
       "      <td>37.547995</td>\n",
       "      <td>55.428064</td>\n",
       "      <td>37.502456</td>\n",
       "    </tr>\n",
       "    <tr>\n",
       "      <th>00ad61328ea4906b9354155ca96227a3</th>\n",
       "      <td>55.783000</td>\n",
       "      <td>37.718000</td>\n",
       "      <td>55.796352</td>\n",
       "      <td>37.798969</td>\n",
       "    </tr>\n",
       "    <tr>\n",
       "      <th>00baa0945c9a5905483c623286241204</th>\n",
       "      <td>59.959000</td>\n",
       "      <td>30.333000</td>\n",
       "      <td>59.988264</td>\n",
       "      <td>30.370367</td>\n",
       "    </tr>\n",
       "    <tr>\n",
       "      <th>00cb489f5903eed7c454b14f15b1144d</th>\n",
       "      <td>53.257721</td>\n",
       "      <td>34.325571</td>\n",
       "      <td>53.247928</td>\n",
       "      <td>34.333844</td>\n",
       "    </tr>\n",
       "    <tr>\n",
       "      <th>...</th>\n",
       "      <td>...</td>\n",
       "      <td>...</td>\n",
       "      <td>...</td>\n",
       "      <td>...</td>\n",
       "    </tr>\n",
       "    <tr>\n",
       "      <th>feaff0da0d2f44bc19db7bf6630d549d</th>\n",
       "      <td>55.357000</td>\n",
       "      <td>86.079000</td>\n",
       "      <td>55.359046</td>\n",
       "      <td>86.068158</td>\n",
       "    </tr>\n",
       "    <tr>\n",
       "      <th>feb2517a3f2d5cce5afb8dc451ee9b5a</th>\n",
       "      <td>60.030000</td>\n",
       "      <td>30.284000</td>\n",
       "      <td>60.017000</td>\n",
       "      <td>30.433500</td>\n",
       "    </tr>\n",
       "    <tr>\n",
       "      <th>feba211ccffd5d8854569f577aef2beb</th>\n",
       "      <td>55.715865</td>\n",
       "      <td>37.517684</td>\n",
       "      <td>55.714293</td>\n",
       "      <td>37.519222</td>\n",
       "    </tr>\n",
       "    <tr>\n",
       "      <th>fec7403873fc7f9130ea02642846a260</th>\n",
       "      <td>52.234000</td>\n",
       "      <td>104.303000</td>\n",
       "      <td>52.232698</td>\n",
       "      <td>104.315789</td>\n",
       "    </tr>\n",
       "    <tr>\n",
       "      <th>fecb5caf46361de97a72e67796a272fb</th>\n",
       "      <td>55.165000</td>\n",
       "      <td>37.468000</td>\n",
       "      <td>55.153388</td>\n",
       "      <td>37.458743</td>\n",
       "    </tr>\n",
       "    <tr>\n",
       "      <th>fed04ec510d74a5d214aa8bb8afef7f3</th>\n",
       "      <td>55.785000</td>\n",
       "      <td>37.561000</td>\n",
       "      <td>55.886437</td>\n",
       "      <td>37.404042</td>\n",
       "    </tr>\n",
       "    <tr>\n",
       "      <th>feec90445a76499d0a91d0dcce123352</th>\n",
       "      <td>55.772599</td>\n",
       "      <td>37.645575</td>\n",
       "      <td>55.772000</td>\n",
       "      <td>37.649000</td>\n",
       "    </tr>\n",
       "    <tr>\n",
       "      <th>feef32024fc30be36d38516a52c2b535</th>\n",
       "      <td>55.022000</td>\n",
       "      <td>82.902000</td>\n",
       "      <td>54.932553</td>\n",
       "      <td>82.908036</td>\n",
       "    </tr>\n",
       "    <tr>\n",
       "      <th>fef060b4095822e1562353916bd5d69f</th>\n",
       "      <td>55.759813</td>\n",
       "      <td>37.613784</td>\n",
       "      <td>56.797269</td>\n",
       "      <td>61.321001</td>\n",
       "    </tr>\n",
       "    <tr>\n",
       "      <th>fef2f0ad49783107668e85ef759480ce</th>\n",
       "      <td>55.675306</td>\n",
       "      <td>37.856277</td>\n",
       "      <td>55.675306</td>\n",
       "      <td>37.856277</td>\n",
       "    </tr>\n",
       "    <tr>\n",
       "      <th>feffc3a722aeeea4c454e5177a4e750c</th>\n",
       "      <td>55.800000</td>\n",
       "      <td>37.407000</td>\n",
       "      <td>55.647372</td>\n",
       "      <td>37.746737</td>\n",
       "    </tr>\n",
       "    <tr>\n",
       "      <th>ff20e8944b38f4924aa121b2f17f1324</th>\n",
       "      <td>54.703000</td>\n",
       "      <td>20.506000</td>\n",
       "      <td>54.673090</td>\n",
       "      <td>20.489088</td>\n",
       "    </tr>\n",
       "    <tr>\n",
       "      <th>ff288febd967e5f7c187e69162221258</th>\n",
       "      <td>56.309403</td>\n",
       "      <td>43.987274</td>\n",
       "      <td>56.325831</td>\n",
       "      <td>43.986590</td>\n",
       "    </tr>\n",
       "    <tr>\n",
       "      <th>ff40bda3a743a512988a8386e96fc5ba</th>\n",
       "      <td>55.099718</td>\n",
       "      <td>61.612892</td>\n",
       "      <td>55.108140</td>\n",
       "      <td>61.614679</td>\n",
       "    </tr>\n",
       "    <tr>\n",
       "      <th>ff4e78a42acf6bbb27d1678dc0f0e5a1</th>\n",
       "      <td>56.833332</td>\n",
       "      <td>60.596254</td>\n",
       "      <td>56.812913</td>\n",
       "      <td>60.608428</td>\n",
       "    </tr>\n",
       "    <tr>\n",
       "      <th>ff51d9888921dc6e5f74862dc0e0f250</th>\n",
       "      <td>54.774000</td>\n",
       "      <td>32.041000</td>\n",
       "      <td>54.772245</td>\n",
       "      <td>32.035091</td>\n",
       "    </tr>\n",
       "    <tr>\n",
       "      <th>ff578c093f6baff43818f61a52a6d03d</th>\n",
       "      <td>55.974483</td>\n",
       "      <td>92.803015</td>\n",
       "      <td>55.983760</td>\n",
       "      <td>92.886160</td>\n",
       "    </tr>\n",
       "    <tr>\n",
       "      <th>ff652e6110b6e6ce92b46c6c9a3fa28b</th>\n",
       "      <td>51.720251</td>\n",
       "      <td>36.166069</td>\n",
       "      <td>51.723219</td>\n",
       "      <td>36.170746</td>\n",
       "    </tr>\n",
       "    <tr>\n",
       "      <th>ff6db3bf1eb82426c894b05ae64d68a1</th>\n",
       "      <td>53.222687</td>\n",
       "      <td>34.321093</td>\n",
       "      <td>53.242103</td>\n",
       "      <td>34.329053</td>\n",
       "    </tr>\n",
       "    <tr>\n",
       "      <th>ff6e96c6e3e5f6bfea831834c49eca2a</th>\n",
       "      <td>55.975000</td>\n",
       "      <td>37.907000</td>\n",
       "      <td>55.968569</td>\n",
       "      <td>37.914516</td>\n",
       "    </tr>\n",
       "    <tr>\n",
       "      <th>ff78fca768ff08120c0c68bd26c719de</th>\n",
       "      <td>55.739000</td>\n",
       "      <td>37.628000</td>\n",
       "      <td>55.821052</td>\n",
       "      <td>37.622279</td>\n",
       "    </tr>\n",
       "    <tr>\n",
       "      <th>ff9becfaf9e022b46fe69d10c8060776</th>\n",
       "      <td>55.745000</td>\n",
       "      <td>37.566000</td>\n",
       "      <td>55.682829</td>\n",
       "      <td>37.865660</td>\n",
       "    </tr>\n",
       "    <tr>\n",
       "      <th>ffa959b073a8bde17f3b8b4b25409b69</th>\n",
       "      <td>55.773000</td>\n",
       "      <td>37.681000</td>\n",
       "      <td>55.676481</td>\n",
       "      <td>37.718467</td>\n",
       "    </tr>\n",
       "    <tr>\n",
       "      <th>ffad3c72297eb6d9a4b3672cd731396c</th>\n",
       "      <td>55.796000</td>\n",
       "      <td>37.538000</td>\n",
       "      <td>55.916530</td>\n",
       "      <td>37.709904</td>\n",
       "    </tr>\n",
       "    <tr>\n",
       "      <th>ffb35ffc8a90ba9dfff70be24513010a</th>\n",
       "      <td>54.887164</td>\n",
       "      <td>38.062867</td>\n",
       "      <td>54.887164</td>\n",
       "      <td>38.062867</td>\n",
       "    </tr>\n",
       "    <tr>\n",
       "      <th>ffb8fcf3f9d17ac3197b9e27cb757539</th>\n",
       "      <td>59.926000</td>\n",
       "      <td>30.377000</td>\n",
       "      <td>60.061368</td>\n",
       "      <td>30.328681</td>\n",
       "    </tr>\n",
       "    <tr>\n",
       "      <th>ffba001147dc6140d84070b7bc9479df</th>\n",
       "      <td>51.500625</td>\n",
       "      <td>45.941135</td>\n",
       "      <td>51.500625</td>\n",
       "      <td>45.941135</td>\n",
       "    </tr>\n",
       "    <tr>\n",
       "      <th>ffd6622f135e264da543a541756e63a9</th>\n",
       "      <td>55.754791</td>\n",
       "      <td>37.613638</td>\n",
       "      <td>55.743222</td>\n",
       "      <td>37.879339</td>\n",
       "    </tr>\n",
       "    <tr>\n",
       "      <th>ffe6875cf2566b5f273fc49f3c064031</th>\n",
       "      <td>59.842717</td>\n",
       "      <td>30.485709</td>\n",
       "      <td>59.842717</td>\n",
       "      <td>30.485709</td>\n",
       "    </tr>\n",
       "    <tr>\n",
       "      <th>ffebf4ea02c72183128d966721976ec9</th>\n",
       "      <td>56.323000</td>\n",
       "      <td>44.012000</td>\n",
       "      <td>56.294526</td>\n",
       "      <td>44.074421</td>\n",
       "    </tr>\n",
       "  </tbody>\n",
       "</table>\n",
       "<p>9997 rows × 4 columns</p>\n",
       "</div>"
      ],
      "text/plain": [
       "                                  _WORK_LAT_   WORK_LON_  _HOME_LAT_  \\\n",
       "_ID_                                                                   \n",
       "00021683ccb416637fe9a4cd35e4606e   55.023355   82.914724   55.038211   \n",
       "0002d0f8a642272b41c292c12ab6e602   44.036593   42.855629   44.036593   \n",
       "0004d182d9fede3ba2534b2d5e5ad27e   43.585000   39.723000   43.586274   \n",
       "0008c2445518c9392cb356c5c3db3392   51.528755   46.040150   51.529419   \n",
       "000b373cc4969c0be8e0933c08da67e1   56.247688   43.463735   56.232037   \n",
       "000c589e94c95984721de4b2bfb9ee4e   54.496312   37.062297   54.506758   \n",
       "001611e3ac051a0ec91c88bbd9dbeb5a   56.999000   40.960000   56.963687   \n",
       "001691ae3885e80add35148a01e75206   59.966977   30.310077   60.010055   \n",
       "002044159304738ea7e3598131809851   53.570000   49.253000   53.518092   \n",
       "0026319faa345a573522f0a04f5c55bb   54.647549   39.647358   54.647549   \n",
       "0029d9be3692701efe66741fa74a8f8b   55.433000   37.549000   55.400021   \n",
       "002c40ec938e91de248400dec824bd49   55.797087   37.537585   55.748714   \n",
       "00317c648bc11161417b342ad480e724   59.848903   30.145301   59.850554   \n",
       "0038ea686d27899b0942409157d04ff2   61.254108   73.433025   61.243209   \n",
       "003bc1334379d480c7e5f28240dc40d9   53.352015   58.976839   53.352015   \n",
       "00450ac1c22c9ee6dda590ff5366236c   51.667228   39.191826   51.687997   \n",
       "00509465377a24375b276c5da9a67fa5   60.038426   30.408118   60.031993   \n",
       "005b206d0ffec59e249e6f7adc1b2e83   59.907885   30.513038   59.902460   \n",
       "0069673252af134ecf00854d7ecaed5d   59.136248   37.875068   59.127918   \n",
       "007c458cded5ba3b7b02fcfe8724e80b   54.669000   55.931000   54.721467   \n",
       "007cf1e85db00eea3a958667b7e32fc9   55.767000   37.601000   55.722974   \n",
       "0088f5bf466ccf990e0773fd3255e887   60.002173   30.272934   60.051831   \n",
       "008c9f725cf88093477cc5f7278a2351   56.306000   44.080000   56.298490   \n",
       "008fe6ff2d4c530aee50c0446d55790e   59.851000   30.351000   59.856052   \n",
       "00963fad786043b96ac74a1fca0a2da6   45.060514   38.962269   45.097782   \n",
       "00a0973ba20bf9d1daafe1644b20dc8b   55.164000   61.415000   55.175501   \n",
       "00a9c3a172cfc6d2e0198da4c539b3c9   55.419730   37.547995   55.428064   \n",
       "00ad61328ea4906b9354155ca96227a3   55.783000   37.718000   55.796352   \n",
       "00baa0945c9a5905483c623286241204   59.959000   30.333000   59.988264   \n",
       "00cb489f5903eed7c454b14f15b1144d   53.257721   34.325571   53.247928   \n",
       "...                                      ...         ...         ...   \n",
       "feaff0da0d2f44bc19db7bf6630d549d   55.357000   86.079000   55.359046   \n",
       "feb2517a3f2d5cce5afb8dc451ee9b5a   60.030000   30.284000   60.017000   \n",
       "feba211ccffd5d8854569f577aef2beb   55.715865   37.517684   55.714293   \n",
       "fec7403873fc7f9130ea02642846a260   52.234000  104.303000   52.232698   \n",
       "fecb5caf46361de97a72e67796a272fb   55.165000   37.468000   55.153388   \n",
       "fed04ec510d74a5d214aa8bb8afef7f3   55.785000   37.561000   55.886437   \n",
       "feec90445a76499d0a91d0dcce123352   55.772599   37.645575   55.772000   \n",
       "feef32024fc30be36d38516a52c2b535   55.022000   82.902000   54.932553   \n",
       "fef060b4095822e1562353916bd5d69f   55.759813   37.613784   56.797269   \n",
       "fef2f0ad49783107668e85ef759480ce   55.675306   37.856277   55.675306   \n",
       "feffc3a722aeeea4c454e5177a4e750c   55.800000   37.407000   55.647372   \n",
       "ff20e8944b38f4924aa121b2f17f1324   54.703000   20.506000   54.673090   \n",
       "ff288febd967e5f7c187e69162221258   56.309403   43.987274   56.325831   \n",
       "ff40bda3a743a512988a8386e96fc5ba   55.099718   61.612892   55.108140   \n",
       "ff4e78a42acf6bbb27d1678dc0f0e5a1   56.833332   60.596254   56.812913   \n",
       "ff51d9888921dc6e5f74862dc0e0f250   54.774000   32.041000   54.772245   \n",
       "ff578c093f6baff43818f61a52a6d03d   55.974483   92.803015   55.983760   \n",
       "ff652e6110b6e6ce92b46c6c9a3fa28b   51.720251   36.166069   51.723219   \n",
       "ff6db3bf1eb82426c894b05ae64d68a1   53.222687   34.321093   53.242103   \n",
       "ff6e96c6e3e5f6bfea831834c49eca2a   55.975000   37.907000   55.968569   \n",
       "ff78fca768ff08120c0c68bd26c719de   55.739000   37.628000   55.821052   \n",
       "ff9becfaf9e022b46fe69d10c8060776   55.745000   37.566000   55.682829   \n",
       "ffa959b073a8bde17f3b8b4b25409b69   55.773000   37.681000   55.676481   \n",
       "ffad3c72297eb6d9a4b3672cd731396c   55.796000   37.538000   55.916530   \n",
       "ffb35ffc8a90ba9dfff70be24513010a   54.887164   38.062867   54.887164   \n",
       "ffb8fcf3f9d17ac3197b9e27cb757539   59.926000   30.377000   60.061368   \n",
       "ffba001147dc6140d84070b7bc9479df   51.500625   45.941135   51.500625   \n",
       "ffd6622f135e264da543a541756e63a9   55.754791   37.613638   55.743222   \n",
       "ffe6875cf2566b5f273fc49f3c064031   59.842717   30.485709   59.842717   \n",
       "ffebf4ea02c72183128d966721976ec9   56.323000   44.012000   56.294526   \n",
       "\n",
       "                                   HOME_LON_  \n",
       "_ID_                                          \n",
       "00021683ccb416637fe9a4cd35e4606e   82.977366  \n",
       "0002d0f8a642272b41c292c12ab6e602   42.855629  \n",
       "0004d182d9fede3ba2534b2d5e5ad27e   39.724272  \n",
       "0008c2445518c9392cb356c5c3db3392   46.038521  \n",
       "000b373cc4969c0be8e0933c08da67e1   43.458107  \n",
       "000c589e94c95984721de4b2bfb9ee4e   37.066789  \n",
       "001611e3ac051a0ec91c88bbd9dbeb5a   40.988294  \n",
       "001691ae3885e80add35148a01e75206   30.261636  \n",
       "002044159304738ea7e3598131809851   49.271210  \n",
       "0026319faa345a573522f0a04f5c55bb   39.647358  \n",
       "0029d9be3692701efe66741fa74a8f8b   37.558888  \n",
       "002c40ec938e91de248400dec824bd49   37.559746  \n",
       "00317c648bc11161417b342ad480e724   30.226639  \n",
       "0038ea686d27899b0942409157d04ff2   73.436727  \n",
       "003bc1334379d480c7e5f28240dc40d9   58.976839  \n",
       "00450ac1c22c9ee6dda590ff5366236c   39.197385  \n",
       "00509465377a24375b276c5da9a67fa5   30.420635  \n",
       "005b206d0ffec59e249e6f7adc1b2e83   30.510865  \n",
       "0069673252af134ecf00854d7ecaed5d   37.965144  \n",
       "007c458cded5ba3b7b02fcfe8724e80b   55.986032  \n",
       "007cf1e85db00eea3a958667b7e32fc9   37.672868  \n",
       "0088f5bf466ccf990e0773fd3255e887   30.363345  \n",
       "008c9f725cf88093477cc5f7278a2351   44.079637  \n",
       "008fe6ff2d4c530aee50c0446d55790e   30.338559  \n",
       "00963fad786043b96ac74a1fca0a2da6   38.974781  \n",
       "00a0973ba20bf9d1daafe1644b20dc8b   61.427521  \n",
       "00a9c3a172cfc6d2e0198da4c539b3c9   37.502456  \n",
       "00ad61328ea4906b9354155ca96227a3   37.798969  \n",
       "00baa0945c9a5905483c623286241204   30.370367  \n",
       "00cb489f5903eed7c454b14f15b1144d   34.333844  \n",
       "...                                      ...  \n",
       "feaff0da0d2f44bc19db7bf6630d549d   86.068158  \n",
       "feb2517a3f2d5cce5afb8dc451ee9b5a   30.433500  \n",
       "feba211ccffd5d8854569f577aef2beb   37.519222  \n",
       "fec7403873fc7f9130ea02642846a260  104.315789  \n",
       "fecb5caf46361de97a72e67796a272fb   37.458743  \n",
       "fed04ec510d74a5d214aa8bb8afef7f3   37.404042  \n",
       "feec90445a76499d0a91d0dcce123352   37.649000  \n",
       "feef32024fc30be36d38516a52c2b535   82.908036  \n",
       "fef060b4095822e1562353916bd5d69f   61.321001  \n",
       "fef2f0ad49783107668e85ef759480ce   37.856277  \n",
       "feffc3a722aeeea4c454e5177a4e750c   37.746737  \n",
       "ff20e8944b38f4924aa121b2f17f1324   20.489088  \n",
       "ff288febd967e5f7c187e69162221258   43.986590  \n",
       "ff40bda3a743a512988a8386e96fc5ba   61.614679  \n",
       "ff4e78a42acf6bbb27d1678dc0f0e5a1   60.608428  \n",
       "ff51d9888921dc6e5f74862dc0e0f250   32.035091  \n",
       "ff578c093f6baff43818f61a52a6d03d   92.886160  \n",
       "ff652e6110b6e6ce92b46c6c9a3fa28b   36.170746  \n",
       "ff6db3bf1eb82426c894b05ae64d68a1   34.329053  \n",
       "ff6e96c6e3e5f6bfea831834c49eca2a   37.914516  \n",
       "ff78fca768ff08120c0c68bd26c719de   37.622279  \n",
       "ff9becfaf9e022b46fe69d10c8060776   37.865660  \n",
       "ffa959b073a8bde17f3b8b4b25409b69   37.718467  \n",
       "ffad3c72297eb6d9a4b3672cd731396c   37.709904  \n",
       "ffb35ffc8a90ba9dfff70be24513010a   38.062867  \n",
       "ffb8fcf3f9d17ac3197b9e27cb757539   30.328681  \n",
       "ffba001147dc6140d84070b7bc9479df   45.941135  \n",
       "ffd6622f135e264da543a541756e63a9   37.879339  \n",
       "ffe6875cf2566b5f273fc49f3c064031   30.485709  \n",
       "ffebf4ea02c72183128d966721976ec9   44.074421  \n",
       "\n",
       "[9997 rows x 4 columns]"
      ]
     },
     "execution_count": 65,
     "metadata": {},
     "output_type": "execute_result"
    }
   ],
   "source": [
    "preds2"
   ]
  },
  {
   "cell_type": "code",
   "execution_count": 66,
   "metadata": {
    "collapsed": true
   },
   "outputs": [],
   "source": [
    "preds2.fillna(0).to_csv(\"submission3.csv\")"
   ]
  },
  {
   "cell_type": "code",
   "execution_count": 40,
   "metadata": {
    "scrolled": true
   },
   "outputs": [
    {
     "data": {
      "text/html": [
       "<div>\n",
       "<style scoped>\n",
       "    .dataframe tbody tr th:only-of-type {\n",
       "        vertical-align: middle;\n",
       "    }\n",
       "\n",
       "    .dataframe tbody tr th {\n",
       "        vertical-align: top;\n",
       "    }\n",
       "\n",
       "    .dataframe thead th {\n",
       "        text-align: right;\n",
       "    }\n",
       "</style>\n",
       "<table border=\"1\" class=\"dataframe\">\n",
       "  <thead>\n",
       "    <tr style=\"text-align: right;\">\n",
       "      <th></th>\n",
       "      <th>_ID_</th>\n",
       "      <th>_WORK_LAT_</th>\n",
       "      <th>WORK_LON_</th>\n",
       "      <th>_HOME_LAT_</th>\n",
       "      <th>HOME_LON_</th>\n",
       "    </tr>\n",
       "  </thead>\n",
       "  <tbody>\n",
       "    <tr>\n",
       "      <th>0</th>\n",
       "      <td>00021683ccb416637fe9a4cd35e4606e</td>\n",
       "      <td>55.023355</td>\n",
       "      <td>82.914724</td>\n",
       "      <td>55.038211</td>\n",
       "      <td>82.977366</td>\n",
       "    </tr>\n",
       "    <tr>\n",
       "      <th>1</th>\n",
       "      <td>0002d0f8a642272b41c292c12ab6e602</td>\n",
       "      <td>44.031000</td>\n",
       "      <td>42.838000</td>\n",
       "      <td>44.036593</td>\n",
       "      <td>42.855629</td>\n",
       "    </tr>\n",
       "    <tr>\n",
       "      <th>2</th>\n",
       "      <td>0004d182d9fede3ba2534b2d5e5ad27e</td>\n",
       "      <td>43.585000</td>\n",
       "      <td>39.723000</td>\n",
       "      <td>43.586274</td>\n",
       "      <td>39.724272</td>\n",
       "    </tr>\n",
       "    <tr>\n",
       "      <th>3</th>\n",
       "      <td>0008c2445518c9392cb356c5c3db3392</td>\n",
       "      <td>51.528755</td>\n",
       "      <td>46.040150</td>\n",
       "      <td>51.533936</td>\n",
       "      <td>46.025489</td>\n",
       "    </tr>\n",
       "    <tr>\n",
       "      <th>4</th>\n",
       "      <td>000b373cc4969c0be8e0933c08da67e1</td>\n",
       "      <td>56.232037</td>\n",
       "      <td>43.458107</td>\n",
       "      <td>56.232037</td>\n",
       "      <td>43.458107</td>\n",
       "    </tr>\n",
       "    <tr>\n",
       "      <th>5</th>\n",
       "      <td>000c589e94c95984721de4b2bfb9ee4e</td>\n",
       "      <td>54.496312</td>\n",
       "      <td>37.062297</td>\n",
       "      <td>54.506758</td>\n",
       "      <td>37.066789</td>\n",
       "    </tr>\n",
       "    <tr>\n",
       "      <th>6</th>\n",
       "      <td>001611e3ac051a0ec91c88bbd9dbeb5a</td>\n",
       "      <td>56.999000</td>\n",
       "      <td>40.960000</td>\n",
       "      <td>56.963687</td>\n",
       "      <td>40.988294</td>\n",
       "    </tr>\n",
       "    <tr>\n",
       "      <th>7</th>\n",
       "      <td>001691ae3885e80add35148a01e75206</td>\n",
       "      <td>59.966977</td>\n",
       "      <td>30.310077</td>\n",
       "      <td>60.010055</td>\n",
       "      <td>30.261636</td>\n",
       "    </tr>\n",
       "    <tr>\n",
       "      <th>8</th>\n",
       "      <td>002044159304738ea7e3598131809851</td>\n",
       "      <td>53.570000</td>\n",
       "      <td>49.253000</td>\n",
       "      <td>53.518092</td>\n",
       "      <td>49.271210</td>\n",
       "    </tr>\n",
       "    <tr>\n",
       "      <th>9</th>\n",
       "      <td>0026319faa345a573522f0a04f5c55bb</td>\n",
       "      <td>54.647549</td>\n",
       "      <td>39.647358</td>\n",
       "      <td>54.647549</td>\n",
       "      <td>39.647358</td>\n",
       "    </tr>\n",
       "    <tr>\n",
       "      <th>10</th>\n",
       "      <td>0029d9be3692701efe66741fa74a8f8b</td>\n",
       "      <td>55.433000</td>\n",
       "      <td>37.549000</td>\n",
       "      <td>55.400022</td>\n",
       "      <td>37.558888</td>\n",
       "    </tr>\n",
       "    <tr>\n",
       "      <th>11</th>\n",
       "      <td>002c40ec938e91de248400dec824bd49</td>\n",
       "      <td>55.797087</td>\n",
       "      <td>37.537585</td>\n",
       "      <td>55.748714</td>\n",
       "      <td>37.559746</td>\n",
       "    </tr>\n",
       "    <tr>\n",
       "      <th>12</th>\n",
       "      <td>00317c648bc11161417b342ad480e724</td>\n",
       "      <td>59.848903</td>\n",
       "      <td>30.145301</td>\n",
       "      <td>59.850554</td>\n",
       "      <td>30.226639</td>\n",
       "    </tr>\n",
       "    <tr>\n",
       "      <th>13</th>\n",
       "      <td>0038ea686d27899b0942409157d04ff2</td>\n",
       "      <td>61.254108</td>\n",
       "      <td>73.433025</td>\n",
       "      <td>61.243209</td>\n",
       "      <td>73.436727</td>\n",
       "    </tr>\n",
       "    <tr>\n",
       "      <th>14</th>\n",
       "      <td>003bc1334379d480c7e5f28240dc40d9</td>\n",
       "      <td>53.352015</td>\n",
       "      <td>58.976839</td>\n",
       "      <td>53.352015</td>\n",
       "      <td>58.976839</td>\n",
       "    </tr>\n",
       "    <tr>\n",
       "      <th>15</th>\n",
       "      <td>00450ac1c22c9ee6dda590ff5366236c</td>\n",
       "      <td>51.667589</td>\n",
       "      <td>39.192475</td>\n",
       "      <td>51.687997</td>\n",
       "      <td>39.197385</td>\n",
       "    </tr>\n",
       "    <tr>\n",
       "      <th>16</th>\n",
       "      <td>00509465377a24375b276c5da9a67fa5</td>\n",
       "      <td>60.038426</td>\n",
       "      <td>30.408118</td>\n",
       "      <td>60.031993</td>\n",
       "      <td>30.420635</td>\n",
       "    </tr>\n",
       "    <tr>\n",
       "      <th>17</th>\n",
       "      <td>005b206d0ffec59e249e6f7adc1b2e83</td>\n",
       "      <td>59.910447</td>\n",
       "      <td>30.498209</td>\n",
       "      <td>59.902460</td>\n",
       "      <td>30.510865</td>\n",
       "    </tr>\n",
       "    <tr>\n",
       "      <th>18</th>\n",
       "      <td>0069673252af134ecf00854d7ecaed5d</td>\n",
       "      <td>59.136248</td>\n",
       "      <td>37.875068</td>\n",
       "      <td>59.127918</td>\n",
       "      <td>37.965144</td>\n",
       "    </tr>\n",
       "    <tr>\n",
       "      <th>19</th>\n",
       "      <td>007c458cded5ba3b7b02fcfe8724e80b</td>\n",
       "      <td>54.669000</td>\n",
       "      <td>55.931000</td>\n",
       "      <td>54.721467</td>\n",
       "      <td>55.986032</td>\n",
       "    </tr>\n",
       "    <tr>\n",
       "      <th>20</th>\n",
       "      <td>007cf1e85db00eea3a958667b7e32fc9</td>\n",
       "      <td>55.767000</td>\n",
       "      <td>37.601000</td>\n",
       "      <td>55.722974</td>\n",
       "      <td>37.672868</td>\n",
       "    </tr>\n",
       "    <tr>\n",
       "      <th>21</th>\n",
       "      <td>0088f5bf466ccf990e0773fd3255e887</td>\n",
       "      <td>59.940400</td>\n",
       "      <td>30.416406</td>\n",
       "      <td>60.051831</td>\n",
       "      <td>30.363345</td>\n",
       "    </tr>\n",
       "    <tr>\n",
       "      <th>22</th>\n",
       "      <td>008c9f725cf88093477cc5f7278a2351</td>\n",
       "      <td>56.290512</td>\n",
       "      <td>44.072787</td>\n",
       "      <td>56.288943</td>\n",
       "      <td>44.067174</td>\n",
       "    </tr>\n",
       "    <tr>\n",
       "      <th>23</th>\n",
       "      <td>008fe6ff2d4c530aee50c0446d55790e</td>\n",
       "      <td>59.850000</td>\n",
       "      <td>30.398000</td>\n",
       "      <td>59.856052</td>\n",
       "      <td>30.338559</td>\n",
       "    </tr>\n",
       "    <tr>\n",
       "      <th>24</th>\n",
       "      <td>00963fad786043b96ac74a1fca0a2da6</td>\n",
       "      <td>45.060514</td>\n",
       "      <td>38.962269</td>\n",
       "      <td>45.097782</td>\n",
       "      <td>38.974781</td>\n",
       "    </tr>\n",
       "    <tr>\n",
       "      <th>25</th>\n",
       "      <td>00a0973ba20bf9d1daafe1644b20dc8b</td>\n",
       "      <td>55.164000</td>\n",
       "      <td>61.415000</td>\n",
       "      <td>55.175501</td>\n",
       "      <td>61.427521</td>\n",
       "    </tr>\n",
       "    <tr>\n",
       "      <th>26</th>\n",
       "      <td>00a9c3a172cfc6d2e0198da4c539b3c9</td>\n",
       "      <td>55.419730</td>\n",
       "      <td>37.547995</td>\n",
       "      <td>55.428064</td>\n",
       "      <td>37.502456</td>\n",
       "    </tr>\n",
       "    <tr>\n",
       "      <th>27</th>\n",
       "      <td>00ad61328ea4906b9354155ca96227a3</td>\n",
       "      <td>55.783000</td>\n",
       "      <td>37.718000</td>\n",
       "      <td>55.796352</td>\n",
       "      <td>37.798969</td>\n",
       "    </tr>\n",
       "    <tr>\n",
       "      <th>28</th>\n",
       "      <td>00baa0945c9a5905483c623286241204</td>\n",
       "      <td>59.959000</td>\n",
       "      <td>30.333000</td>\n",
       "      <td>59.988264</td>\n",
       "      <td>30.370367</td>\n",
       "    </tr>\n",
       "    <tr>\n",
       "      <th>29</th>\n",
       "      <td>00cb489f5903eed7c454b14f15b1144d</td>\n",
       "      <td>53.258000</td>\n",
       "      <td>34.325000</td>\n",
       "      <td>53.247928</td>\n",
       "      <td>34.333844</td>\n",
       "    </tr>\n",
       "    <tr>\n",
       "      <th>...</th>\n",
       "      <td>...</td>\n",
       "      <td>...</td>\n",
       "      <td>...</td>\n",
       "      <td>...</td>\n",
       "      <td>...</td>\n",
       "    </tr>\n",
       "    <tr>\n",
       "      <th>9967</th>\n",
       "      <td>feaff0da0d2f44bc19db7bf6630d549d</td>\n",
       "      <td>55.357000</td>\n",
       "      <td>86.079000</td>\n",
       "      <td>55.357100</td>\n",
       "      <td>86.075252</td>\n",
       "    </tr>\n",
       "    <tr>\n",
       "      <th>9968</th>\n",
       "      <td>feb2517a3f2d5cce5afb8dc451ee9b5a</td>\n",
       "      <td>60.031000</td>\n",
       "      <td>30.436000</td>\n",
       "      <td>60.032500</td>\n",
       "      <td>30.435500</td>\n",
       "    </tr>\n",
       "    <tr>\n",
       "      <th>9969</th>\n",
       "      <td>feba211ccffd5d8854569f577aef2beb</td>\n",
       "      <td>55.715865</td>\n",
       "      <td>37.517684</td>\n",
       "      <td>55.714293</td>\n",
       "      <td>37.519222</td>\n",
       "    </tr>\n",
       "    <tr>\n",
       "      <th>9970</th>\n",
       "      <td>fec7403873fc7f9130ea02642846a260</td>\n",
       "      <td>52.234000</td>\n",
       "      <td>104.303000</td>\n",
       "      <td>52.233573</td>\n",
       "      <td>104.302388</td>\n",
       "    </tr>\n",
       "    <tr>\n",
       "      <th>9971</th>\n",
       "      <td>fecb5caf46361de97a72e67796a272fb</td>\n",
       "      <td>55.165000</td>\n",
       "      <td>37.468000</td>\n",
       "      <td>55.153388</td>\n",
       "      <td>37.458743</td>\n",
       "    </tr>\n",
       "    <tr>\n",
       "      <th>9972</th>\n",
       "      <td>fed04ec510d74a5d214aa8bb8afef7f3</td>\n",
       "      <td>55.785000</td>\n",
       "      <td>37.561000</td>\n",
       "      <td>55.889875</td>\n",
       "      <td>37.388385</td>\n",
       "    </tr>\n",
       "    <tr>\n",
       "      <th>9973</th>\n",
       "      <td>feec90445a76499d0a91d0dcce123352</td>\n",
       "      <td>55.772599</td>\n",
       "      <td>37.645575</td>\n",
       "      <td>55.772000</td>\n",
       "      <td>37.649000</td>\n",
       "    </tr>\n",
       "    <tr>\n",
       "      <th>9974</th>\n",
       "      <td>feef32024fc30be36d38516a52c2b535</td>\n",
       "      <td>55.022000</td>\n",
       "      <td>82.902000</td>\n",
       "      <td>54.932553</td>\n",
       "      <td>82.908036</td>\n",
       "    </tr>\n",
       "    <tr>\n",
       "      <th>9975</th>\n",
       "      <td>fef060b4095822e1562353916bd5d69f</td>\n",
       "      <td>55.759813</td>\n",
       "      <td>37.613784</td>\n",
       "      <td>56.797269</td>\n",
       "      <td>61.321001</td>\n",
       "    </tr>\n",
       "    <tr>\n",
       "      <th>9976</th>\n",
       "      <td>fef2f0ad49783107668e85ef759480ce</td>\n",
       "      <td>55.675306</td>\n",
       "      <td>37.856277</td>\n",
       "      <td>55.675306</td>\n",
       "      <td>37.856277</td>\n",
       "    </tr>\n",
       "    <tr>\n",
       "      <th>9977</th>\n",
       "      <td>feffc3a722aeeea4c454e5177a4e750c</td>\n",
       "      <td>55.800000</td>\n",
       "      <td>37.407000</td>\n",
       "      <td>55.647372</td>\n",
       "      <td>37.746737</td>\n",
       "    </tr>\n",
       "    <tr>\n",
       "      <th>9978</th>\n",
       "      <td>ff20e8944b38f4924aa121b2f17f1324</td>\n",
       "      <td>54.719000</td>\n",
       "      <td>20.500000</td>\n",
       "      <td>54.719034</td>\n",
       "      <td>20.499119</td>\n",
       "    </tr>\n",
       "    <tr>\n",
       "      <th>9979</th>\n",
       "      <td>ff288febd967e5f7c187e69162221258</td>\n",
       "      <td>56.309403</td>\n",
       "      <td>43.987274</td>\n",
       "      <td>56.325831</td>\n",
       "      <td>43.986590</td>\n",
       "    </tr>\n",
       "    <tr>\n",
       "      <th>9980</th>\n",
       "      <td>ff40bda3a743a512988a8386e96fc5ba</td>\n",
       "      <td>55.099718</td>\n",
       "      <td>61.612892</td>\n",
       "      <td>55.108140</td>\n",
       "      <td>61.614679</td>\n",
       "    </tr>\n",
       "    <tr>\n",
       "      <th>9981</th>\n",
       "      <td>ff4e78a42acf6bbb27d1678dc0f0e5a1</td>\n",
       "      <td>56.833332</td>\n",
       "      <td>60.596254</td>\n",
       "      <td>56.812913</td>\n",
       "      <td>60.608428</td>\n",
       "    </tr>\n",
       "    <tr>\n",
       "      <th>9982</th>\n",
       "      <td>ff51d9888921dc6e5f74862dc0e0f250</td>\n",
       "      <td>54.774000</td>\n",
       "      <td>32.041000</td>\n",
       "      <td>54.772245</td>\n",
       "      <td>32.035091</td>\n",
       "    </tr>\n",
       "    <tr>\n",
       "      <th>9983</th>\n",
       "      <td>ff578c093f6baff43818f61a52a6d03d</td>\n",
       "      <td>55.983760</td>\n",
       "      <td>92.886160</td>\n",
       "      <td>55.983760</td>\n",
       "      <td>92.886160</td>\n",
       "    </tr>\n",
       "    <tr>\n",
       "      <th>9984</th>\n",
       "      <td>ff652e6110b6e6ce92b46c6c9a3fa28b</td>\n",
       "      <td>51.723219</td>\n",
       "      <td>36.170746</td>\n",
       "      <td>51.723219</td>\n",
       "      <td>36.170746</td>\n",
       "    </tr>\n",
       "    <tr>\n",
       "      <th>9985</th>\n",
       "      <td>ff6db3bf1eb82426c894b05ae64d68a1</td>\n",
       "      <td>53.222687</td>\n",
       "      <td>34.321093</td>\n",
       "      <td>53.242103</td>\n",
       "      <td>34.329053</td>\n",
       "    </tr>\n",
       "    <tr>\n",
       "      <th>9986</th>\n",
       "      <td>ff6e96c6e3e5f6bfea831834c49eca2a</td>\n",
       "      <td>55.975000</td>\n",
       "      <td>37.907000</td>\n",
       "      <td>55.968570</td>\n",
       "      <td>37.914516</td>\n",
       "    </tr>\n",
       "    <tr>\n",
       "      <th>9987</th>\n",
       "      <td>ff78fca768ff08120c0c68bd26c719de</td>\n",
       "      <td>55.739000</td>\n",
       "      <td>37.628000</td>\n",
       "      <td>55.821052</td>\n",
       "      <td>37.622279</td>\n",
       "    </tr>\n",
       "    <tr>\n",
       "      <th>9988</th>\n",
       "      <td>ff9becfaf9e022b46fe69d10c8060776</td>\n",
       "      <td>55.745000</td>\n",
       "      <td>37.566000</td>\n",
       "      <td>55.682829</td>\n",
       "      <td>37.865660</td>\n",
       "    </tr>\n",
       "    <tr>\n",
       "      <th>9989</th>\n",
       "      <td>ffa959b073a8bde17f3b8b4b25409b69</td>\n",
       "      <td>55.773000</td>\n",
       "      <td>37.681000</td>\n",
       "      <td>55.676481</td>\n",
       "      <td>37.718468</td>\n",
       "    </tr>\n",
       "    <tr>\n",
       "      <th>9990</th>\n",
       "      <td>ffad3c72297eb6d9a4b3672cd731396c</td>\n",
       "      <td>55.796000</td>\n",
       "      <td>37.538000</td>\n",
       "      <td>55.916530</td>\n",
       "      <td>37.709904</td>\n",
       "    </tr>\n",
       "    <tr>\n",
       "      <th>9991</th>\n",
       "      <td>ffb35ffc8a90ba9dfff70be24513010a</td>\n",
       "      <td>54.887164</td>\n",
       "      <td>38.062867</td>\n",
       "      <td>54.887164</td>\n",
       "      <td>38.062867</td>\n",
       "    </tr>\n",
       "    <tr>\n",
       "      <th>9992</th>\n",
       "      <td>ffb8fcf3f9d17ac3197b9e27cb757539</td>\n",
       "      <td>59.926000</td>\n",
       "      <td>30.377000</td>\n",
       "      <td>60.059095</td>\n",
       "      <td>30.335068</td>\n",
       "    </tr>\n",
       "    <tr>\n",
       "      <th>9993</th>\n",
       "      <td>ffba001147dc6140d84070b7bc9479df</td>\n",
       "      <td>51.506281</td>\n",
       "      <td>45.931723</td>\n",
       "      <td>51.498169</td>\n",
       "      <td>45.942787</td>\n",
       "    </tr>\n",
       "    <tr>\n",
       "      <th>9994</th>\n",
       "      <td>ffd6622f135e264da543a541756e63a9</td>\n",
       "      <td>55.754791</td>\n",
       "      <td>37.613638</td>\n",
       "      <td>55.743222</td>\n",
       "      <td>37.879339</td>\n",
       "    </tr>\n",
       "    <tr>\n",
       "      <th>9995</th>\n",
       "      <td>ffe6875cf2566b5f273fc49f3c064031</td>\n",
       "      <td>59.842717</td>\n",
       "      <td>30.485709</td>\n",
       "      <td>59.837385</td>\n",
       "      <td>30.501674</td>\n",
       "    </tr>\n",
       "    <tr>\n",
       "      <th>9996</th>\n",
       "      <td>ffebf4ea02c72183128d966721976ec9</td>\n",
       "      <td>56.323000</td>\n",
       "      <td>44.012000</td>\n",
       "      <td>56.294526</td>\n",
       "      <td>44.074421</td>\n",
       "    </tr>\n",
       "  </tbody>\n",
       "</table>\n",
       "<p>9997 rows × 5 columns</p>\n",
       "</div>"
      ],
      "text/plain": [
       "                                  _ID_  _WORK_LAT_   WORK_LON_  _HOME_LAT_  \\\n",
       "0     00021683ccb416637fe9a4cd35e4606e   55.023355   82.914724   55.038211   \n",
       "1     0002d0f8a642272b41c292c12ab6e602   44.031000   42.838000   44.036593   \n",
       "2     0004d182d9fede3ba2534b2d5e5ad27e   43.585000   39.723000   43.586274   \n",
       "3     0008c2445518c9392cb356c5c3db3392   51.528755   46.040150   51.533936   \n",
       "4     000b373cc4969c0be8e0933c08da67e1   56.232037   43.458107   56.232037   \n",
       "5     000c589e94c95984721de4b2bfb9ee4e   54.496312   37.062297   54.506758   \n",
       "6     001611e3ac051a0ec91c88bbd9dbeb5a   56.999000   40.960000   56.963687   \n",
       "7     001691ae3885e80add35148a01e75206   59.966977   30.310077   60.010055   \n",
       "8     002044159304738ea7e3598131809851   53.570000   49.253000   53.518092   \n",
       "9     0026319faa345a573522f0a04f5c55bb   54.647549   39.647358   54.647549   \n",
       "10    0029d9be3692701efe66741fa74a8f8b   55.433000   37.549000   55.400022   \n",
       "11    002c40ec938e91de248400dec824bd49   55.797087   37.537585   55.748714   \n",
       "12    00317c648bc11161417b342ad480e724   59.848903   30.145301   59.850554   \n",
       "13    0038ea686d27899b0942409157d04ff2   61.254108   73.433025   61.243209   \n",
       "14    003bc1334379d480c7e5f28240dc40d9   53.352015   58.976839   53.352015   \n",
       "15    00450ac1c22c9ee6dda590ff5366236c   51.667589   39.192475   51.687997   \n",
       "16    00509465377a24375b276c5da9a67fa5   60.038426   30.408118   60.031993   \n",
       "17    005b206d0ffec59e249e6f7adc1b2e83   59.910447   30.498209   59.902460   \n",
       "18    0069673252af134ecf00854d7ecaed5d   59.136248   37.875068   59.127918   \n",
       "19    007c458cded5ba3b7b02fcfe8724e80b   54.669000   55.931000   54.721467   \n",
       "20    007cf1e85db00eea3a958667b7e32fc9   55.767000   37.601000   55.722974   \n",
       "21    0088f5bf466ccf990e0773fd3255e887   59.940400   30.416406   60.051831   \n",
       "22    008c9f725cf88093477cc5f7278a2351   56.290512   44.072787   56.288943   \n",
       "23    008fe6ff2d4c530aee50c0446d55790e   59.850000   30.398000   59.856052   \n",
       "24    00963fad786043b96ac74a1fca0a2da6   45.060514   38.962269   45.097782   \n",
       "25    00a0973ba20bf9d1daafe1644b20dc8b   55.164000   61.415000   55.175501   \n",
       "26    00a9c3a172cfc6d2e0198da4c539b3c9   55.419730   37.547995   55.428064   \n",
       "27    00ad61328ea4906b9354155ca96227a3   55.783000   37.718000   55.796352   \n",
       "28    00baa0945c9a5905483c623286241204   59.959000   30.333000   59.988264   \n",
       "29    00cb489f5903eed7c454b14f15b1144d   53.258000   34.325000   53.247928   \n",
       "...                                ...         ...         ...         ...   \n",
       "9967  feaff0da0d2f44bc19db7bf6630d549d   55.357000   86.079000   55.357100   \n",
       "9968  feb2517a3f2d5cce5afb8dc451ee9b5a   60.031000   30.436000   60.032500   \n",
       "9969  feba211ccffd5d8854569f577aef2beb   55.715865   37.517684   55.714293   \n",
       "9970  fec7403873fc7f9130ea02642846a260   52.234000  104.303000   52.233573   \n",
       "9971  fecb5caf46361de97a72e67796a272fb   55.165000   37.468000   55.153388   \n",
       "9972  fed04ec510d74a5d214aa8bb8afef7f3   55.785000   37.561000   55.889875   \n",
       "9973  feec90445a76499d0a91d0dcce123352   55.772599   37.645575   55.772000   \n",
       "9974  feef32024fc30be36d38516a52c2b535   55.022000   82.902000   54.932553   \n",
       "9975  fef060b4095822e1562353916bd5d69f   55.759813   37.613784   56.797269   \n",
       "9976  fef2f0ad49783107668e85ef759480ce   55.675306   37.856277   55.675306   \n",
       "9977  feffc3a722aeeea4c454e5177a4e750c   55.800000   37.407000   55.647372   \n",
       "9978  ff20e8944b38f4924aa121b2f17f1324   54.719000   20.500000   54.719034   \n",
       "9979  ff288febd967e5f7c187e69162221258   56.309403   43.987274   56.325831   \n",
       "9980  ff40bda3a743a512988a8386e96fc5ba   55.099718   61.612892   55.108140   \n",
       "9981  ff4e78a42acf6bbb27d1678dc0f0e5a1   56.833332   60.596254   56.812913   \n",
       "9982  ff51d9888921dc6e5f74862dc0e0f250   54.774000   32.041000   54.772245   \n",
       "9983  ff578c093f6baff43818f61a52a6d03d   55.983760   92.886160   55.983760   \n",
       "9984  ff652e6110b6e6ce92b46c6c9a3fa28b   51.723219   36.170746   51.723219   \n",
       "9985  ff6db3bf1eb82426c894b05ae64d68a1   53.222687   34.321093   53.242103   \n",
       "9986  ff6e96c6e3e5f6bfea831834c49eca2a   55.975000   37.907000   55.968570   \n",
       "9987  ff78fca768ff08120c0c68bd26c719de   55.739000   37.628000   55.821052   \n",
       "9988  ff9becfaf9e022b46fe69d10c8060776   55.745000   37.566000   55.682829   \n",
       "9989  ffa959b073a8bde17f3b8b4b25409b69   55.773000   37.681000   55.676481   \n",
       "9990  ffad3c72297eb6d9a4b3672cd731396c   55.796000   37.538000   55.916530   \n",
       "9991  ffb35ffc8a90ba9dfff70be24513010a   54.887164   38.062867   54.887164   \n",
       "9992  ffb8fcf3f9d17ac3197b9e27cb757539   59.926000   30.377000   60.059095   \n",
       "9993  ffba001147dc6140d84070b7bc9479df   51.506281   45.931723   51.498169   \n",
       "9994  ffd6622f135e264da543a541756e63a9   55.754791   37.613638   55.743222   \n",
       "9995  ffe6875cf2566b5f273fc49f3c064031   59.842717   30.485709   59.837385   \n",
       "9996  ffebf4ea02c72183128d966721976ec9   56.323000   44.012000   56.294526   \n",
       "\n",
       "       HOME_LON_  \n",
       "0      82.977366  \n",
       "1      42.855629  \n",
       "2      39.724272  \n",
       "3      46.025489  \n",
       "4      43.458107  \n",
       "5      37.066789  \n",
       "6      40.988294  \n",
       "7      30.261636  \n",
       "8      49.271210  \n",
       "9      39.647358  \n",
       "10     37.558888  \n",
       "11     37.559746  \n",
       "12     30.226639  \n",
       "13     73.436727  \n",
       "14     58.976839  \n",
       "15     39.197385  \n",
       "16     30.420635  \n",
       "17     30.510865  \n",
       "18     37.965144  \n",
       "19     55.986032  \n",
       "20     37.672868  \n",
       "21     30.363345  \n",
       "22     44.067174  \n",
       "23     30.338559  \n",
       "24     38.974781  \n",
       "25     61.427521  \n",
       "26     37.502456  \n",
       "27     37.798969  \n",
       "28     30.370367  \n",
       "29     34.333844  \n",
       "...          ...  \n",
       "9967   86.075252  \n",
       "9968   30.435500  \n",
       "9969   37.519222  \n",
       "9970  104.302388  \n",
       "9971   37.458743  \n",
       "9972   37.388385  \n",
       "9973   37.649000  \n",
       "9974   82.908036  \n",
       "9975   61.321001  \n",
       "9976   37.856277  \n",
       "9977   37.746737  \n",
       "9978   20.499119  \n",
       "9979   43.986590  \n",
       "9980   61.614679  \n",
       "9981   60.608428  \n",
       "9982   32.035091  \n",
       "9983   92.886160  \n",
       "9984   36.170746  \n",
       "9985   34.329053  \n",
       "9986   37.914516  \n",
       "9987   37.622279  \n",
       "9988   37.865660  \n",
       "9989   37.718468  \n",
       "9990   37.709904  \n",
       "9991   38.062867  \n",
       "9992   30.335068  \n",
       "9993   45.942787  \n",
       "9994   37.879339  \n",
       "9995   30.501674  \n",
       "9996   44.074421  \n",
       "\n",
       "[9997 rows x 5 columns]"
      ]
     },
     "execution_count": 40,
     "metadata": {},
     "output_type": "execute_result"
    }
   ],
   "source": [
    "pd.read_csv(\"submission3.csv\")"
   ]
  },
  {
   "cell_type": "code",
   "execution_count": null,
   "metadata": {
    "collapsed": true
   },
   "outputs": [],
   "source": []
  },
  {
   "cell_type": "code",
   "execution_count": null,
   "metadata": {
    "collapsed": true
   },
   "outputs": [],
   "source": [
    "folds_generator = GroupShuffleSplit(1,random_state=42)\n",
    "ind = folds_generator.split(train_df, train_df.y_home, groups=train_df.customer_id)\n",
    "folds = []\n",
    "for el, er in ind:\n",
    "    folds += [(el, er)]"
   ]
  },
  {
   "cell_type": "code",
   "execution_count": null,
   "metadata": {
    "collapsed": true
   },
   "outputs": [],
   "source": [
    "def fit(X_train, y_train, cols, num_boost_round=101, mt='xgb', typ=\"home\"):\n",
    "    if typ==\"home\":\n",
    "        good_merch = X_train.home_add_lat.dropna().index\n",
    "        X_train = X_train.loc[good_merch]\n",
    "        y_train = y_train.loc[good_merch]\n",
    "    else:\n",
    "        good_merch = X_train.work_add_lat.dropna().index\n",
    "        X_train = X_train.loc[good_merch]\n",
    "        y_train = y_train.loc[good_merch]\n",
    "    if mt == 'xgb':\n",
    "        dtrain = xgb.DMatrix(X_train[cols], y_train)\n",
    "        params = {'eta': 0.1,\n",
    "          'objective': 'binary:logistic',\n",
    "          'eval_metric': ['auc'],\n",
    "          'max_depth': 3}\n",
    "        model = xgb.train(params, dtrain, num_boost_round=num_boost_round, verbose_eval=10)\n",
    "    if mt == 'lgb':\n",
    "        lgb_train = lgb.Dataset(X_train[cols], y_train)\n",
    "\n",
    "        # specify your configurations as a dict\n",
    "        params = {\n",
    "            'boosting_type': 'gbdt',\n",
    "            'objective': 'binary',\n",
    "            'metric': 'binary_logloss',\n",
    "            'bagging_freq': 0,\n",
    "            'colsample_bytree': '0.514',\n",
    "            'learning_rate': '0.063',\n",
    "            'feature_fraction': '0.625',\n",
    "            'bagging_fraction': '0.844',\n",
    "            'num_leaves': 60,\n",
    "            'verbose': 1\n",
    "        }\n",
    "\n",
    "        #print('Start training...')\n",
    "        # train\n",
    "        model = lgb.train(params,\n",
    "                lgb_train,\n",
    "                num_boost_round=100)\n",
    "\n",
    "    return model"
   ]
  },
  {
   "cell_type": "code",
   "execution_count": null,
   "metadata": {
    "collapsed": true
   },
   "outputs": [],
   "source": [
    "def predict(model, X_test, cols, mt):\n",
    "    if mt == 'xgb': proba = model.predict(xgb.DMatrix(X_test[cols]))\n",
    "    if mt == 'lgb': proba = model.predict(X_test[cols], num_iteration=model.best_iteration)\n",
    "    X_test['proba'] = proba\n",
    "    mapping = X_test.groupby(\"customer_id\").proba.max()\n",
    "    X_test[\"max_proba\"] = X_test.customer_id.map(mapping)\n",
    "    X_test = X_test.loc[X_test.proba==X_test.max_proba,]\n",
    "    lat = X_test.groupby(\"customer_id\").pos_address_lat.median()\n",
    "    lon = X_test.groupby(\"customer_id\").pos_address_lon.median()\n",
    "    return pd.merge(lat.to_frame(\"lat\"), lon.to_frame(\"lon\"), right_index=True, left_index=True)"
   ]
  },
  {
   "cell_type": "code",
   "execution_count": null,
   "metadata": {
    "collapsed": true
   },
   "outputs": [],
   "source": [
    "def evaluate(df, preds, typ):\n",
    "    df = df[df.customer_id.isin(preds.index)]\n",
    "    df = df[[\"customer_id\",typ+\"_add_lat\", typ+\"_add_lon\"]].drop_duplicates()#\n",
    "    customers = df.customer_id.value_counts()\n",
    "    customers = customers[customers==1].index\n",
    "    df = df[df.customer_id.isin(customers)]\n",
    "    df = df.set_index(\"customer_id\")\n",
    "    res = np.array(df.loc[preds.index]) - np.array(preds)\n",
    "    r = np.sum(np.sqrt(res[:, 0]**2+res[:, 1]**2) < .02)/res.shape[0]\n",
    "\n",
    "    return r"
   ]
  },
  {
   "cell_type": "code",
   "execution_count": null,
   "metadata": {
    "collapsed": true
   },
   "outputs": [],
   "source": [
    "cols = set(list(train_df.columns)) - set(['cust_id_upd', 'city_upd', 'currency_upd', 'country_upd', 'mean_target_cutomer', 'mean_target_terminal', 'mean_target_city', 'mean_target_country',  'near_ter', 'coord_prob', 'lon_prob', 'lat_prob', 'amount_mean','week_day', 'pos', 'pos_address','mcc', 'atm_address', 'atm_address_lat', 'atm_address_lon', 'city',\n",
    "       'country', 'currency', 'customer_id', 'home_add_lat', 'home_add_lon','terminal_id', 'transaction_date', 'work_add_lat', 'work_add_lon', 'y_home', 'y_work'])\n",
    "cols = list(cols)"
   ]
  },
  {
   "cell_type": "code",
   "execution_count": null,
   "metadata": {
    "collapsed": true,
    "scrolled": true
   },
   "outputs": [],
   "source": [
    "model = fit(train_df.iloc[folds[0][0]], train_df.y_home.iloc[folds[0][0]], cols, typ=\"home\", mt='lgb')"
   ]
  },
  {
   "cell_type": "code",
   "execution_count": null,
   "metadata": {
    "collapsed": true,
    "scrolled": true
   },
   "outputs": [],
   "source": [
    "preds = predict(model, train_df.iloc[folds[0][1], :].copy(), cols, mt='lgb')\n",
    "evaluate(train_df.copy(), preds, \"home\")"
   ]
  },
  {
   "cell_type": "code",
   "execution_count": null,
   "metadata": {
    "collapsed": true
   },
   "outputs": [],
   "source": [
    "train_df[cols]"
   ]
  },
  {
   "cell_type": "code",
   "execution_count": null,
   "metadata": {
    "collapsed": true
   },
   "outputs": [],
   "source": [
    "model = fit(train_df.iloc[folds[0][0]], train_df.y_work.iloc[folds[0][0]], cols, typ=\"work\", mt='lgb')"
   ]
  },
  {
   "cell_type": "code",
   "execution_count": null,
   "metadata": {
    "collapsed": true
   },
   "outputs": [],
   "source": [
    "preds = predict(model, train_df.iloc[folds[0][1], :].copy(), cols, mt='lgb')\n",
    "evaluate(train.copy(), preds, \"work\")"
   ]
  },
  {
   "cell_type": "code",
   "execution_count": null,
   "metadata": {
    "collapsed": true
   },
   "outputs": [],
   "source": []
  },
  {
   "cell_type": "code",
   "execution_count": null,
   "metadata": {
    "collapsed": true
   },
   "outputs": [],
   "source": [
    "good_merch = temp.home_add_lat.dropna().index\n",
    "X_train = temp.loc[good_merch]\n",
    "y_train = temp.y_home.loc[good_merch]\n",
    "\n",
    "lgb_train = lgb.Dataset(X_train[cols], y_train)\n",
    "lgb_eval = lgb.Dataset(temp_test[cols], temp_test.y_home, reference=lgb_train)\n",
    "\n",
    "        # specify your configurations as a dict\n",
    "params = {\n",
    "            'boosting_type': 'gbdt',\n",
    "            'objective': 'binary',\n",
    "            'metric': 'binary_logloss',\n",
    "            'bagging_freq': 1,\n",
    "            'colsample_bytree': '0.514',\n",
    "            'learning_rate': '0.063',\n",
    "            'feature_fraction': '0.625',\n",
    "            'bagging_fraction': '0.844',\n",
    "            'num_leaves': 60,\n",
    "            'verbose': 1\n",
    "            #'is_unbalance':True\n",
    "        }\n",
    "\n",
    "        #print('Start training...')\n",
    "        # train\n",
    "model = lgb.train(params,\n",
    "                lgb_train,\n",
    "                  valid_sets=lgb_eval,\n",
    "                  verbose_eval=100,\n",
    "                  early_stopping_rounds=10,\n",
    "                num_boost_round=3000)\n"
   ]
  },
  {
   "cell_type": "code",
   "execution_count": 95,
   "metadata": {
    "collapsed": true
   },
   "outputs": [],
   "source": [
    "from hyperopt import hp, tpe\n",
    "from hyperopt.fmin import fmin"
   ]
  },
  {
   "cell_type": "code",
   "execution_count": null,
   "metadata": {
    "collapsed": true,
    "scrolled": true
   },
   "outputs": [],
   "source": [
    "def objective(params):\n",
    "    params = {\n",
    "        'boosting_type': 'gbdt',  \n",
    "        'objective': 'binary',\n",
    "        'metric': 'binary_logloss',\n",
    "        'bagging_freq': int(params['bagging_freq']),\n",
    "        'colsample_bytree': '{:.3f}'.format(params['colsample_bytree']),\n",
    "        'learning_rate': '{:.3f}'.format(params['learning_rate']),\n",
    "        'feature_fraction': '{:.3f}'.format(params['feature_fraction']),\n",
    "        'bagging_fraction': '{:.3f}'.format(params['bagging_fraction']),\n",
    "        'num_leaves': int(params['num_leaves']),\n",
    "    }\n",
    "    X_train, y_train = train_df.iloc[folds[0][0]], train_df.y_home.iloc[folds[0][0]]\n",
    "    good_merch = X_train.home_add_lat.dropna().index\n",
    "    X_train = X_train.loc[good_merch]\n",
    "    y_train = y_train.loc[good_merch]\n",
    "    \n",
    "    lgb_train = lgb.Dataset(X_train[cols], y_train)\n",
    "\n",
    "    \n",
    "    model = lgb.train(params,\n",
    "                lgb_train,\n",
    "                num_boost_round=100)\n",
    "    \n",
    "    preds = predict(model, train_df.iloc[folds[0][1], :].copy(), cols, mt='lgb')\n",
    "    score = evaluate(train.copy(), preds, \"home\")\n",
    "    print(\"Score {:.3f} params {}\".format(score, params))\n",
    "    return 1-score\n",
    "\n",
    "space = {\n",
    "    'num_leaves': hp.quniform('num_leaves', 8, 128, 2),\n",
    "    'colsample_bytree': hp.uniform('colsample_bytree', 0.3, 1.0),\n",
    "    'bagging_freq': hp.quniform('bagging_freq', 1, 30, 3),\n",
    "    'learning_rate': hp.uniform('learning_rate', 0.005, 0.5),\n",
    "    'feature_fraction': hp.uniform('feature_fraction', 0.6, 0.95),\n",
    "    'bagging_fraction': hp.uniform('bagging_fraction', 0.6, 0.95)}\n",
    "\n",
    "best = fmin(fn=objective,\n",
    "            space=space,\n",
    "            algo=tpe.suggest,\n",
    "            max_evals=1000)"
   ]
  },
  {
   "cell_type": "code",
   "execution_count": null,
   "metadata": {
    "collapsed": true
   },
   "outputs": [],
   "source": [
    "best"
   ]
  },
  {
   "cell_type": "code",
   "execution_count": null,
   "metadata": {
    "collapsed": true
   },
   "outputs": [],
   "source": []
  }
 ],
 "metadata": {
  "kernelspec": {
   "display_name": "Python 3",
   "language": "python",
   "name": "python3"
  }
 },
 "nbformat": 4,
 "nbformat_minor": 2
}
